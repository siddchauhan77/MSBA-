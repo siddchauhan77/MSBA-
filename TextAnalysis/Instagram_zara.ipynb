{
  "nbformat": 4,
  "nbformat_minor": 0,
  "metadata": {
    "colab": {
      "name": "Instagram_zara",
      "provenance": [],
      "collapsed_sections": []
    },
    "kernelspec": {
      "name": "python3",
      "display_name": "Python 3"
    }
  },
  "cells": [
    {
      "cell_type": "markdown",
      "metadata": {
        "id": "22Rjr4P7fCjS"
      },
      "source": [
        "# Assignment 3: Is a Picture Worth a Thousand Words?\n",
        "\n",
        "#**Authors**:\n",
        "\n",
        "##Matthew Leong - 8:30 section (mcl2994)\n",
        "##Chirag Ramesh - 8:30 section(cr44748)\n",
        "##David Cruz - 10:30 Section (dc33332)\n",
        "##Grayson Taylor - 8:30 section(gwt349)\n",
        "##Sidd Chauhan  - 8:30 section(sc54788)"
      ]
    },
    {
      "cell_type": "code",
      "metadata": {
        "id": "gluArwlncQbR",
        "colab": {
          "base_uri": "https://localhost:8080/",
          "height": 403
        },
        "outputId": "d5ff068d-0710-4ae9-cb62-e346ec8ebf61"
      },
      "source": [
        "!pip install selenium\n",
        "!apt-get -q update # to update ubuntu to correctly run apt install\n",
        "!apt install -yq chromium-chromedriver\n",
        "!cp /usr/lib/chromium-browser/chromedriver /usr/bin"
      ],
      "execution_count": null,
      "outputs": [
        {
          "output_type": "stream",
          "text": [
            "Requirement already satisfied: selenium in /usr/local/lib/python3.6/dist-packages (3.141.0)\n",
            "Requirement already satisfied: urllib3 in /usr/local/lib/python3.6/dist-packages (from selenium) (1.24.3)\n",
            "Hit:1 https://cloud.r-project.org/bin/linux/ubuntu bionic-cran40/ InRelease\n",
            "Get:2 http://security.ubuntu.com/ubuntu bionic-security InRelease [88.7 kB]\n",
            "Get:3 http://ppa.launchpad.net/c2d4u.team/c2d4u4.0+/ubuntu bionic InRelease [15.9 kB]\n",
            "Hit:4 http://archive.ubuntu.com/ubuntu bionic InRelease\n",
            "Ign:5 https://developer.download.nvidia.com/compute/cuda/repos/ubuntu1804/x86_64  InRelease\n",
            "Get:6 http://archive.ubuntu.com/ubuntu bionic-updates InRelease [88.7 kB]\n",
            "Ign:7 https://developer.download.nvidia.com/compute/machine-learning/repos/ubuntu1804/x86_64  InRelease\n",
            "Hit:8 https://developer.download.nvidia.com/compute/cuda/repos/ubuntu1804/x86_64  Release\n",
            "Hit:9 https://developer.download.nvidia.com/compute/machine-learning/repos/ubuntu1804/x86_64  Release\n",
            "Hit:10 http://ppa.launchpad.net/graphics-drivers/ppa/ubuntu bionic InRelease\n",
            "Get:11 http://archive.ubuntu.com/ubuntu bionic-backports InRelease [74.6 kB]\n",
            "Get:12 http://ppa.launchpad.net/c2d4u.team/c2d4u4.0+/ubuntu bionic/main Sources [1,683 kB]\n",
            "Get:15 http://ppa.launchpad.net/c2d4u.team/c2d4u4.0+/ubuntu bionic/main amd64 Packages [861 kB]\n",
            "Fetched 2,812 kB in 2s (1,187 kB/s)\n",
            "Reading package lists...\n",
            "Reading package lists...\n",
            "Building dependency tree...\n",
            "Reading state information...\n",
            "chromium-chromedriver is already the newest version (86.0.4240.75-0ubuntu0.18.04.1).\n",
            "0 upgraded, 0 newly installed, 0 to remove and 51 not upgraded.\n",
            "cp: '/usr/lib/chromium-browser/chromedriver' and '/usr/bin/chromedriver' are the same file\n"
          ],
          "name": "stdout"
        }
      ]
    },
    {
      "cell_type": "code",
      "metadata": {
        "id": "c3frY6QCeLMd"
      },
      "source": [
        "from selenium import webdriver\n",
        "import pandas as pd\n",
        "import sys\n",
        "sys.path.insert(0,'/usr/lib/chromium-browser/chromedriver')"
      ],
      "execution_count": null,
      "outputs": []
    },
    {
      "cell_type": "code",
      "metadata": {
        "id": "3E_Xt888eOfk"
      },
      "source": [
        "chrome_options = webdriver.ChromeOptions()\n",
        "chrome_options.add_argument('--headless')\n",
        "chrome_options.add_argument('--no-sandbox')\n",
        "chrome_options.add_argument('--disable-dev-shm-usage')"
      ],
      "execution_count": null,
      "outputs": []
    },
    {
      "cell_type": "markdown",
      "metadata": {
        "id": "29HtvCbdxol4"
      },
      "source": [
        "# Attempt 2 - SC"
      ]
    },
    {
      "cell_type": "code",
      "metadata": {
        "id": "QTx-x7tZxqOl",
        "colab": {
          "base_uri": "https://localhost:8080/",
          "height": 470
        },
        "outputId": "ef28c77b-7058-4dba-ca93-a16aa684a437"
      },
      "source": [
        "#!pip install google-cloud-vision\n"
      ],
      "execution_count": null,
      "outputs": [
        {
          "output_type": "stream",
          "text": [
            "Requirement already satisfied: google-cloud-vision in /usr/local/lib/python3.6/dist-packages (2.0.0)\n",
            "Requirement already satisfied: libcst>=0.2.5 in /usr/local/lib/python3.6/dist-packages (from google-cloud-vision) (0.3.13)\n",
            "Requirement already satisfied: google-api-core[grpc]<2.0.0dev,>=1.22.2 in /usr/local/lib/python3.6/dist-packages (from google-cloud-vision) (1.23.0)\n",
            "Requirement already satisfied: proto-plus>=1.4.0 in /usr/local/lib/python3.6/dist-packages (from google-cloud-vision) (1.11.0)\n",
            "Requirement already satisfied: typing-inspect>=0.4.0 in /usr/local/lib/python3.6/dist-packages (from libcst>=0.2.5->google-cloud-vision) (0.6.0)\n",
            "Requirement already satisfied: pyyaml>=5.2 in /usr/local/lib/python3.6/dist-packages (from libcst>=0.2.5->google-cloud-vision) (5.3.1)\n",
            "Requirement already satisfied: typing-extensions>=3.7.4.2 in /usr/local/lib/python3.6/dist-packages (from libcst>=0.2.5->google-cloud-vision) (3.7.4.3)\n",
            "Requirement already satisfied: dataclasses>=0.6.0; python_version < \"3.7\" in /usr/local/lib/python3.6/dist-packages (from libcst>=0.2.5->google-cloud-vision) (0.7)\n",
            "Requirement already satisfied: protobuf>=3.12.0 in /usr/local/lib/python3.6/dist-packages (from google-api-core[grpc]<2.0.0dev,>=1.22.2->google-cloud-vision) (3.12.4)\n",
            "Requirement already satisfied: requests<3.0.0dev,>=2.18.0 in /usr/local/lib/python3.6/dist-packages (from google-api-core[grpc]<2.0.0dev,>=1.22.2->google-cloud-vision) (2.23.0)\n",
            "Requirement already satisfied: pytz in /usr/local/lib/python3.6/dist-packages (from google-api-core[grpc]<2.0.0dev,>=1.22.2->google-cloud-vision) (2018.9)\n",
            "Requirement already satisfied: googleapis-common-protos<2.0dev,>=1.6.0 in /usr/local/lib/python3.6/dist-packages (from google-api-core[grpc]<2.0.0dev,>=1.22.2->google-cloud-vision) (1.52.0)\n",
            "Requirement already satisfied: google-auth<2.0dev,>=1.21.1 in /usr/local/lib/python3.6/dist-packages (from google-api-core[grpc]<2.0.0dev,>=1.22.2->google-cloud-vision) (1.22.1)\n",
            "Requirement already satisfied: setuptools>=34.0.0 in /usr/local/lib/python3.6/dist-packages (from google-api-core[grpc]<2.0.0dev,>=1.22.2->google-cloud-vision) (50.3.0)\n",
            "Requirement already satisfied: six>=1.13.0 in /usr/local/lib/python3.6/dist-packages (from google-api-core[grpc]<2.0.0dev,>=1.22.2->google-cloud-vision) (1.15.0)\n",
            "Requirement already satisfied: grpcio<2.0dev,>=1.29.0; extra == \"grpc\" in /usr/local/lib/python3.6/dist-packages (from google-api-core[grpc]<2.0.0dev,>=1.22.2->google-cloud-vision) (1.32.0)\n",
            "Requirement already satisfied: mypy-extensions>=0.3.0 in /usr/local/lib/python3.6/dist-packages (from typing-inspect>=0.4.0->libcst>=0.2.5->google-cloud-vision) (0.4.3)\n",
            "Requirement already satisfied: chardet<4,>=3.0.2 in /usr/local/lib/python3.6/dist-packages (from requests<3.0.0dev,>=2.18.0->google-api-core[grpc]<2.0.0dev,>=1.22.2->google-cloud-vision) (3.0.4)\n",
            "Requirement already satisfied: idna<3,>=2.5 in /usr/local/lib/python3.6/dist-packages (from requests<3.0.0dev,>=2.18.0->google-api-core[grpc]<2.0.0dev,>=1.22.2->google-cloud-vision) (2.10)\n",
            "Requirement already satisfied: urllib3!=1.25.0,!=1.25.1,<1.26,>=1.21.1 in /usr/local/lib/python3.6/dist-packages (from requests<3.0.0dev,>=2.18.0->google-api-core[grpc]<2.0.0dev,>=1.22.2->google-cloud-vision) (1.24.3)\n",
            "Requirement already satisfied: certifi>=2017.4.17 in /usr/local/lib/python3.6/dist-packages (from requests<3.0.0dev,>=2.18.0->google-api-core[grpc]<2.0.0dev,>=1.22.2->google-cloud-vision) (2020.6.20)\n",
            "Requirement already satisfied: cachetools<5.0,>=2.0.0 in /usr/local/lib/python3.6/dist-packages (from google-auth<2.0dev,>=1.21.1->google-api-core[grpc]<2.0.0dev,>=1.22.2->google-cloud-vision) (4.1.1)\n",
            "Requirement already satisfied: rsa<5,>=3.1.4; python_version >= \"3.5\" in /usr/local/lib/python3.6/dist-packages (from google-auth<2.0dev,>=1.21.1->google-api-core[grpc]<2.0.0dev,>=1.22.2->google-cloud-vision) (4.6)\n",
            "Requirement already satisfied: pyasn1-modules>=0.2.1 in /usr/local/lib/python3.6/dist-packages (from google-auth<2.0dev,>=1.21.1->google-api-core[grpc]<2.0.0dev,>=1.22.2->google-cloud-vision) (0.2.8)\n",
            "Requirement already satisfied: pyasn1>=0.1.3 in /usr/local/lib/python3.6/dist-packages (from rsa<5,>=3.1.4; python_version >= \"3.5\"->google-auth<2.0dev,>=1.21.1->google-api-core[grpc]<2.0.0dev,>=1.22.2->google-cloud-vision) (0.4.8)\n"
          ],
          "name": "stdout"
        }
      ]
    },
    {
      "cell_type": "code",
      "metadata": {
        "id": "MX5KBZ4fyppu",
        "colab": {
          "base_uri": "https://localhost:8080/",
          "height": 141
        },
        "outputId": "a56e4349-d985-4f68-9d04-59d98a1eb66c"
      },
      "source": [
        "#pip install instaloader"
      ],
      "execution_count": null,
      "outputs": [
        {
          "output_type": "stream",
          "text": [
            "Requirement already satisfied: instaloader in /usr/local/lib/python3.6/dist-packages (4.5.3)\n",
            "Requirement already satisfied: requests>=2.4 in /usr/local/lib/python3.6/dist-packages (from instaloader) (2.23.0)\n",
            "Requirement already satisfied: chardet<4,>=3.0.2 in /usr/local/lib/python3.6/dist-packages (from requests>=2.4->instaloader) (3.0.4)\n",
            "Requirement already satisfied: idna<3,>=2.5 in /usr/local/lib/python3.6/dist-packages (from requests>=2.4->instaloader) (2.10)\n",
            "Requirement already satisfied: certifi>=2017.4.17 in /usr/local/lib/python3.6/dist-packages (from requests>=2.4->instaloader) (2020.6.20)\n",
            "Requirement already satisfied: urllib3!=1.25.0,!=1.25.1,<1.26,>=1.21.1 in /usr/local/lib/python3.6/dist-packages (from requests>=2.4->instaloader) (1.24.3)\n"
          ],
          "name": "stdout"
        }
      ]
    },
    {
      "cell_type": "code",
      "metadata": {
        "id": "Z5-iypwDxtOU",
        "colab": {
          "base_uri": "https://localhost:8080/",
          "height": 363
        },
        "outputId": "3e9fc46e-0020-43a1-ada0-94f69d28e37a"
      },
      "source": [
        "import instaloader\n",
        "import pandas as pd\n",
        "import time\n",
        "import os\n",
        "\n",
        "pd.set_option('display.max_columns', 700)\n",
        "pd.set_option('display.max_rows', 700)"
      ],
      "execution_count": null,
      "outputs": [
        {
          "output_type": "error",
          "ename": "ModuleNotFoundError",
          "evalue": "ignored",
          "traceback": [
            "\u001b[0;31m---------------------------------------------------------------------------\u001b[0m",
            "\u001b[0;31mModuleNotFoundError\u001b[0m                       Traceback (most recent call last)",
            "\u001b[0;32m<ipython-input-4-457ea4b4ba1a>\u001b[0m in \u001b[0;36m<module>\u001b[0;34m()\u001b[0m\n\u001b[0;32m----> 1\u001b[0;31m \u001b[0;32mimport\u001b[0m \u001b[0minstaloader\u001b[0m\u001b[0;34m\u001b[0m\u001b[0;34m\u001b[0m\u001b[0m\n\u001b[0m\u001b[1;32m      2\u001b[0m \u001b[0;32mimport\u001b[0m \u001b[0mpandas\u001b[0m \u001b[0;32mas\u001b[0m \u001b[0mpd\u001b[0m\u001b[0;34m\u001b[0m\u001b[0;34m\u001b[0m\u001b[0m\n\u001b[1;32m      3\u001b[0m \u001b[0;32mimport\u001b[0m \u001b[0mtime\u001b[0m\u001b[0;34m\u001b[0m\u001b[0;34m\u001b[0m\u001b[0m\n\u001b[1;32m      4\u001b[0m \u001b[0;32mimport\u001b[0m \u001b[0mos\u001b[0m\u001b[0;34m\u001b[0m\u001b[0;34m\u001b[0m\u001b[0m\n\u001b[1;32m      5\u001b[0m \u001b[0;34m\u001b[0m\u001b[0m\n",
            "\u001b[0;31mModuleNotFoundError\u001b[0m: No module named 'instaloader'",
            "",
            "\u001b[0;31m---------------------------------------------------------------------------\u001b[0;32m\nNOTE: If your import is failing due to a missing package, you can\nmanually install dependencies using either !pip or !apt.\n\nTo view examples of installing some common dependencies, click the\n\"Open Examples\" button below.\n\u001b[0;31m---------------------------------------------------------------------------\u001b[0m\n"
          ]
        }
      ]
    },
    {
      "cell_type": "code",
      "metadata": {
        "id": "8_cgdO8AyoA9"
      },
      "source": [
        "#initializing. Set user name as 'natgeo' \n",
        "L = instaloader.Instaloader()\n",
        "user_name = 'zara'\n",
        "profile = instaloader.Profile.from_username(L.context, user_name)#.get_posts()\n",
        "\n",
        "#Data frame to store the relevant columns \n",
        "posts_df = pd.DataFrame(columns=['post_url', 'num_comments', 'num_likes', 'caption', 'image_url', 'is_video'])\n",
        "\n",
        "#we get the post shortcode using instaloader- use that to create the url \n",
        "post_url_structure = 'https://www.instagram.com/p/{}/'\n",
        "\n",
        "# get the posts from the user_name\n",
        "posts = profile.get_posts()\n",
        "\n",
        "# number of posts to extract and initialize the counter\n",
        "num_posts_to_extract = 700\n",
        "number = 0 \n",
        "#to tract the scraping process. The loop will print the number of posts extract at the following intervals\n",
        "print_list = list(range(0,700,50))"
      ],
      "execution_count": null,
      "outputs": []
    },
    {
      "cell_type": "code",
      "metadata": {
        "id": "eCj_ovbny0Dw",
        "colab": {
          "base_uri": "https://localhost:8080/",
          "height": 277
        },
        "outputId": "36bc2733-e475-491a-dbc9-fae70c0f9fd7"
      },
      "source": [
        "start_time = time.time()\n",
        "for post in posts:\n",
        "    \n",
        "    #print out the number of posts extracted at regular intervals\n",
        "    if number < num_posts_to_extract:\n",
        "        if number in print_list:\n",
        "            print ('{} posts extracted '.format(number))\n",
        "            \n",
        "        #increase the counter by 1\n",
        "        number += 1\n",
        "        \n",
        "        #append the required post details to the initialized dataframe \n",
        "        posts_df = posts_df.append({'post_url': post_url_structure.format(post.shortcode),\n",
        "                                    'num_comments': post.comments,\n",
        "                                    'num_likes': post.likes,\n",
        "                                    'caption': post.caption,\n",
        "                                    'image_url': post.url, \n",
        "                                    'is_video': post.is_video}, ignore_index=True)\n",
        "        \n",
        "        #convert the is_video column to bool - if we get enough posts that are not videos, then break the loop\n",
        "        posts_df.is_video.astype('bool')\n",
        "        if posts_df[posts_df.is_video == False].shape[0] == num_posts_to_extract:\n",
        "            number = num_posts_to_extract\n",
        "        \n",
        "        \n",
        "    else:\n",
        "        break\n",
        "    \n",
        "#total time taken to extract number of posts in num_posts_to_extract variable\n",
        "total_time_taken = time.time() - start_time\n",
        "total_time_taken"
      ],
      "execution_count": null,
      "outputs": [
        {
          "output_type": "stream",
          "text": [
            "0 posts extracted \n",
            "50 posts extracted \n",
            "100 posts extracted \n",
            "150 posts extracted \n",
            "200 posts extracted \n",
            "250 posts extracted \n",
            "300 posts extracted \n",
            "350 posts extracted \n",
            "400 posts extracted \n",
            "450 posts extracted \n",
            "500 posts extracted \n",
            "550 posts extracted \n",
            "600 posts extracted \n",
            "650 posts extracted \n"
          ],
          "name": "stdout"
        },
        {
          "output_type": "execute_result",
          "data": {
            "text/plain": [
              "42.75347304344177"
            ]
          },
          "metadata": {
            "tags": []
          },
          "execution_count": 34
        }
      ]
    },
    {
      "cell_type": "code",
      "metadata": {
        "id": "zsWQURJ-y9pq",
        "colab": {
          "base_uri": "https://localhost:8080/",
          "height": 34
        },
        "outputId": "415d6168-17de-4e08-f004-8d0c6991c429"
      },
      "source": [
        "len(posts_df)"
      ],
      "execution_count": null,
      "outputs": [
        {
          "output_type": "execute_result",
          "data": {
            "text/plain": [
              "700"
            ]
          },
          "metadata": {
            "tags": []
          },
          "execution_count": 35
        }
      ]
    },
    {
      "cell_type": "code",
      "metadata": {
        "id": "33EjLyyRt_es"
      },
      "source": [
        "posts_df.to_csv('posts_df.csv')"
      ],
      "execution_count": null,
      "outputs": []
    },
    {
      "cell_type": "code",
      "metadata": {
        "id": "P4nF1nhCy-ph",
        "colab": {
          "base_uri": "https://localhost:8080/",
          "height": 378
        },
        "outputId": "bf7bfa9a-0348-4458-bf7d-47104b612549"
      },
      "source": [
        "posts_df.head()"
      ],
      "execution_count": null,
      "outputs": [
        {
          "output_type": "execute_result",
          "data": {
            "text/html": [
              "<div>\n",
              "<style scoped>\n",
              "    .dataframe tbody tr th:only-of-type {\n",
              "        vertical-align: middle;\n",
              "    }\n",
              "\n",
              "    .dataframe tbody tr th {\n",
              "        vertical-align: top;\n",
              "    }\n",
              "\n",
              "    .dataframe thead th {\n",
              "        text-align: right;\n",
              "    }\n",
              "</style>\n",
              "<table border=\"1\" class=\"dataframe\">\n",
              "  <thead>\n",
              "    <tr style=\"text-align: right;\">\n",
              "      <th></th>\n",
              "      <th>post_url</th>\n",
              "      <th>num_comments</th>\n",
              "      <th>num_likes</th>\n",
              "      <th>caption</th>\n",
              "      <th>image_url</th>\n",
              "      <th>is_video</th>\n",
              "    </tr>\n",
              "  </thead>\n",
              "  <tbody>\n",
              "    <tr>\n",
              "      <th>0</th>\n",
              "      <td>https://www.instagram.com/p/CGkn044ildP/</td>\n",
              "      <td>188</td>\n",
              "      <td>22863</td>\n",
              "      <td>Dress up #zarawoman</td>\n",
              "      <td>https://scontent-ort2-1.cdninstagram.com/v/t51...</td>\n",
              "      <td>True</td>\n",
              "    </tr>\n",
              "    <tr>\n",
              "      <th>1</th>\n",
              "      <td>https://www.instagram.com/p/CGkWFytikqo/</td>\n",
              "      <td>134</td>\n",
              "      <td>24056</td>\n",
              "      <td>Dress up #zarawoman</td>\n",
              "      <td>https://scontent-ort2-1.cdninstagram.com/v/t51...</td>\n",
              "      <td>True</td>\n",
              "    </tr>\n",
              "    <tr>\n",
              "      <th>2</th>\n",
              "      <td>https://www.instagram.com/p/CGkBsOBi1ny/</td>\n",
              "      <td>130</td>\n",
              "      <td>22749</td>\n",
              "      <td>Dress up #zarawoman</td>\n",
              "      <td>https://scontent-ort2-1.cdninstagram.com/v/t51...</td>\n",
              "      <td>True</td>\n",
              "    </tr>\n",
              "    <tr>\n",
              "      <th>3</th>\n",
              "      <td>https://www.instagram.com/p/CGdByXPhb0J/</td>\n",
              "      <td>421</td>\n",
              "      <td>73652</td>\n",
              "      <td>FW20 Campaign. Kids Collection\\nCreative Direc...</td>\n",
              "      <td>https://scontent-ort2-1.cdninstagram.com/v/t51...</td>\n",
              "      <td>False</td>\n",
              "    </tr>\n",
              "    <tr>\n",
              "      <th>4</th>\n",
              "      <td>https://www.instagram.com/p/CGcs5sHBXp5/</td>\n",
              "      <td>126</td>\n",
              "      <td>38707</td>\n",
              "      <td>FW20 Campaign. Kids Collection\\nCreative Direc...</td>\n",
              "      <td>https://scontent-ort2-1.cdninstagram.com/v/t51...</td>\n",
              "      <td>False</td>\n",
              "    </tr>\n",
              "  </tbody>\n",
              "</table>\n",
              "</div>"
            ],
            "text/plain": [
              "                                   post_url num_comments num_likes  \\\n",
              "0  https://www.instagram.com/p/CGkn044ildP/          188     22863   \n",
              "1  https://www.instagram.com/p/CGkWFytikqo/          134     24056   \n",
              "2  https://www.instagram.com/p/CGkBsOBi1ny/          130     22749   \n",
              "3  https://www.instagram.com/p/CGdByXPhb0J/          421     73652   \n",
              "4  https://www.instagram.com/p/CGcs5sHBXp5/          126     38707   \n",
              "\n",
              "                                             caption  \\\n",
              "0                                Dress up #zarawoman   \n",
              "1                                Dress up #zarawoman   \n",
              "2                                Dress up #zarawoman   \n",
              "3  FW20 Campaign. Kids Collection\\nCreative Direc...   \n",
              "4  FW20 Campaign. Kids Collection\\nCreative Direc...   \n",
              "\n",
              "                                           image_url is_video  \n",
              "0  https://scontent-ort2-1.cdninstagram.com/v/t51...     True  \n",
              "1  https://scontent-ort2-1.cdninstagram.com/v/t51...     True  \n",
              "2  https://scontent-ort2-1.cdninstagram.com/v/t51...     True  \n",
              "3  https://scontent-ort2-1.cdninstagram.com/v/t51...    False  \n",
              "4  https://scontent-ort2-1.cdninstagram.com/v/t51...    False  "
            ]
          },
          "metadata": {
            "tags": []
          },
          "execution_count": 37
        }
      ]
    },
    {
      "cell_type": "code",
      "metadata": {
        "id": "ZOrNwb1Zzud0",
        "colab": {
          "base_uri": "https://localhost:8080/",
          "height": 482
        },
        "outputId": "a83543a1-ec53-441d-9fe0-c97309a342cc"
      },
      "source": [
        "#filtering to look at post urls which are only images and NOT videos\n",
        "\n",
        "mask = (posts_df['is_video'] == False) \n",
        "img_posts_df = posts_df[mask].copy()\n",
        "img_posts_df.head()"
      ],
      "execution_count": null,
      "outputs": [
        {
          "output_type": "execute_result",
          "data": {
            "text/html": [
              "<div>\n",
              "<style scoped>\n",
              "    .dataframe tbody tr th:only-of-type {\n",
              "        vertical-align: middle;\n",
              "    }\n",
              "\n",
              "    .dataframe tbody tr th {\n",
              "        vertical-align: top;\n",
              "    }\n",
              "\n",
              "    .dataframe thead th {\n",
              "        text-align: right;\n",
              "    }\n",
              "</style>\n",
              "<table border=\"1\" class=\"dataframe\">\n",
              "  <thead>\n",
              "    <tr style=\"text-align: right;\">\n",
              "      <th></th>\n",
              "      <th>post_url</th>\n",
              "      <th>num_comments</th>\n",
              "      <th>num_likes</th>\n",
              "      <th>caption</th>\n",
              "      <th>image_url</th>\n",
              "      <th>is_video</th>\n",
              "    </tr>\n",
              "  </thead>\n",
              "  <tbody>\n",
              "    <tr>\n",
              "      <th>3</th>\n",
              "      <td>https://www.instagram.com/p/CGdByXPhb0J/</td>\n",
              "      <td>421</td>\n",
              "      <td>73652</td>\n",
              "      <td>FW20 Campaign. Kids Collection\\nCreative Direc...</td>\n",
              "      <td>https://scontent-ort2-1.cdninstagram.com/v/t51...</td>\n",
              "      <td>False</td>\n",
              "    </tr>\n",
              "    <tr>\n",
              "      <th>4</th>\n",
              "      <td>https://www.instagram.com/p/CGcs5sHBXp5/</td>\n",
              "      <td>126</td>\n",
              "      <td>38707</td>\n",
              "      <td>FW20 Campaign. Kids Collection\\nCreative Direc...</td>\n",
              "      <td>https://scontent-ort2-1.cdninstagram.com/v/t51...</td>\n",
              "      <td>False</td>\n",
              "    </tr>\n",
              "    <tr>\n",
              "      <th>5</th>\n",
              "      <td>https://www.instagram.com/p/CGcEoEkh5hX/</td>\n",
              "      <td>196</td>\n",
              "      <td>56437</td>\n",
              "      <td>FW20 Campaign. Kids Collection\\nCreative Direc...</td>\n",
              "      <td>https://scontent-ort2-1.cdninstagram.com/v/t51...</td>\n",
              "      <td>False</td>\n",
              "    </tr>\n",
              "    <tr>\n",
              "      <th>6</th>\n",
              "      <td>https://www.instagram.com/p/CGacyX7BvYy/</td>\n",
              "      <td>110</td>\n",
              "      <td>34944</td>\n",
              "      <td>FW20 Campaign. Man Collection\\nCreative Direct...</td>\n",
              "      <td>https://scontent-ort2-1.cdninstagram.com/v/t51...</td>\n",
              "      <td>False</td>\n",
              "    </tr>\n",
              "    <tr>\n",
              "      <th>7</th>\n",
              "      <td>https://www.instagram.com/p/CGZ3BIVB_Hb/</td>\n",
              "      <td>189</td>\n",
              "      <td>34440</td>\n",
              "      <td>FW20 Campaign. Man Collection\\nCreative Direct...</td>\n",
              "      <td>https://scontent-ort2-1.cdninstagram.com/v/t51...</td>\n",
              "      <td>False</td>\n",
              "    </tr>\n",
              "  </tbody>\n",
              "</table>\n",
              "</div>"
            ],
            "text/plain": [
              "                                   post_url num_comments num_likes  \\\n",
              "3  https://www.instagram.com/p/CGdByXPhb0J/          421     73652   \n",
              "4  https://www.instagram.com/p/CGcs5sHBXp5/          126     38707   \n",
              "5  https://www.instagram.com/p/CGcEoEkh5hX/          196     56437   \n",
              "6  https://www.instagram.com/p/CGacyX7BvYy/          110     34944   \n",
              "7  https://www.instagram.com/p/CGZ3BIVB_Hb/          189     34440   \n",
              "\n",
              "                                             caption  \\\n",
              "3  FW20 Campaign. Kids Collection\\nCreative Direc...   \n",
              "4  FW20 Campaign. Kids Collection\\nCreative Direc...   \n",
              "5  FW20 Campaign. Kids Collection\\nCreative Direc...   \n",
              "6  FW20 Campaign. Man Collection\\nCreative Direct...   \n",
              "7  FW20 Campaign. Man Collection\\nCreative Direct...   \n",
              "\n",
              "                                           image_url is_video  \n",
              "3  https://scontent-ort2-1.cdninstagram.com/v/t51...    False  \n",
              "4  https://scontent-ort2-1.cdninstagram.com/v/t51...    False  \n",
              "5  https://scontent-ort2-1.cdninstagram.com/v/t51...    False  \n",
              "6  https://scontent-ort2-1.cdninstagram.com/v/t51...    False  \n",
              "7  https://scontent-ort2-1.cdninstagram.com/v/t51...    False  "
            ]
          },
          "metadata": {
            "tags": []
          },
          "execution_count": 38
        }
      ]
    },
    {
      "cell_type": "code",
      "metadata": {
        "id": "eLqTXEciz5hn",
        "colab": {
          "base_uri": "https://localhost:8080/",
          "height": 34
        },
        "outputId": "6281fc4f-3b64-4e52-e3d1-3d1235cb6194"
      },
      "source": [
        "len(img_posts_df) # There are 572 image posts from the original 700 total."
      ],
      "execution_count": null,
      "outputs": [
        {
          "output_type": "execute_result",
          "data": {
            "text/plain": [
              "570"
            ]
          },
          "metadata": {
            "tags": []
          },
          "execution_count": 39
        }
      ]
    },
    {
      "cell_type": "code",
      "metadata": {
        "id": "fPXFIVIo116_"
      },
      "source": [
        "# Google Cloud Vision\n",
        "#!pip install google.cloud.vision\n",
        "\n",
        "from google.cloud import vision"
      ],
      "execution_count": null,
      "outputs": []
    },
    {
      "cell_type": "markdown",
      "metadata": {
        "id": "FGoY-6WA47NI"
      },
      "source": [
        "Code for getting the labels"
      ]
    },
    {
      "cell_type": "code",
      "metadata": {
        "id": "lurHnm-BtAD0"
      },
      "source": [
        "import os\n",
        "import numpy as np\n",
        "#Note file name is censored for our submitted version since the json contains confidential info\n",
        "credential_path = \"NAME OF FILE\"\n",
        "os.environ['GOOGLE_APPLICATION_CREDENTIALS'] = credential_path"
      ],
      "execution_count": null,
      "outputs": []
    },
    {
      "cell_type": "code",
      "metadata": {
        "id": "ezDhr1Spv0OP"
      },
      "source": [
        "def get_labels_url(url):\n",
        "    #Modified code from: https://cloud.google.com/vision/docs/labels\n",
        "    #Now returns a list of labels instead of printing them\n",
        "    from google.cloud import vision\n",
        "    client = vision.ImageAnnotatorClient()\n",
        "    image = vision.Image()\n",
        "    \n",
        "    #Try and except block. Any image url that google can't access returns NaN\n",
        "    try:\n",
        "        image.source.image_uri = url\n",
        "\n",
        "        response = client.label_detection(image=image)\n",
        "        labels = response.label_annotations\n",
        "    \n",
        "        #Create an empty label list\n",
        "        label_list = []\n",
        "        #Iterate through the cloud detected labels and append it to the label list\n",
        "        for label in labels:\n",
        "            label_list.append(label.description)\n",
        "    except:\n",
        "        return np.Nan\n",
        "\n",
        "    #Return the label list.\n",
        "    return label_list"
      ],
      "execution_count": null,
      "outputs": []
    },
    {
      "cell_type": "code",
      "metadata": {
        "id": "0wAMjAqKtR8K"
      },
      "source": [
        "img_posts_df['labels'] = img_posts_df['image_url'].apply(get_labels_url)"
      ],
      "execution_count": null,
      "outputs": []
    },
    {
      "cell_type": "code",
      "metadata": {
        "id": "zvd3G-i8v0Mz"
      },
      "source": [
        "img_posts_df.to_csv('img_posts_z')"
      ],
      "execution_count": null,
      "outputs": []
    },
    {
      "cell_type": "markdown",
      "metadata": {
        "id": "C0kJYavVs-G_"
      },
      "source": [
        "# Task A. Create a metric for engagement by using a weighted sum of # likes and # comments.However, first normalize # likes and # comments such that they both have values between 0 and 1. You can scale the # likes by dividing by the maximum # likes (for a post) in your data and do the same for # comments, so that # likes and comments will be in the range [0,1]. Now create an engagement score = .4*# likes (normalized) + .6*# comments (normalized). Define High (1) and Low (0) engagement based on whether the engagement score is above or below the median value. \n"
      ]
    },
    {
      "cell_type": "code",
      "metadata": {
        "id": "_h7xDBiqv8Gt",
        "colab": {
          "base_uri": "https://localhost:8080/",
          "height": 330
        },
        "outputId": "5b55a689-0847-42ff-e86c-9b525acf05e5"
      },
      "source": [
        "df_z = pd.read_csv('img_posts_z.csv', index_col=0)\n",
        "df_z.head()"
      ],
      "execution_count": null,
      "outputs": [
        {
          "output_type": "execute_result",
          "data": {
            "text/html": [
              "<div>\n",
              "<style scoped>\n",
              "    .dataframe tbody tr th:only-of-type {\n",
              "        vertical-align: middle;\n",
              "    }\n",
              "\n",
              "    .dataframe tbody tr th {\n",
              "        vertical-align: top;\n",
              "    }\n",
              "\n",
              "    .dataframe thead th {\n",
              "        text-align: right;\n",
              "    }\n",
              "</style>\n",
              "<table border=\"1\" class=\"dataframe\">\n",
              "  <thead>\n",
              "    <tr style=\"text-align: right;\">\n",
              "      <th></th>\n",
              "      <th>Unnamed: 0.1</th>\n",
              "      <th>post_url</th>\n",
              "      <th>num_comments</th>\n",
              "      <th>num_likes</th>\n",
              "      <th>caption</th>\n",
              "      <th>image_url</th>\n",
              "      <th>is_video</th>\n",
              "      <th>labels</th>\n",
              "      <th>labels_str</th>\n",
              "    </tr>\n",
              "  </thead>\n",
              "  <tbody>\n",
              "    <tr>\n",
              "      <th>3</th>\n",
              "      <td>3</td>\n",
              "      <td>https://www.instagram.com/p/CGdByXPhb0J/</td>\n",
              "      <td>421</td>\n",
              "      <td>73652</td>\n",
              "      <td>FW20 Campaign. Kids Collection\\nCreative Direc...</td>\n",
              "      <td>https://scontent-ort2-1.cdninstagram.com/v/t51...</td>\n",
              "      <td>False</td>\n",
              "      <td>['Clothing', 'Fashion', 'Outerwear', 'Fur', 'S...</td>\n",
              "      <td>Clothing Fashion Outerwear Fur Street fashion ...</td>\n",
              "    </tr>\n",
              "    <tr>\n",
              "      <th>4</th>\n",
              "      <td>4</td>\n",
              "      <td>https://www.instagram.com/p/CGcs5sHBXp5/</td>\n",
              "      <td>126</td>\n",
              "      <td>38707</td>\n",
              "      <td>FW20 Campaign. Kids Collection\\nCreative Direc...</td>\n",
              "      <td>https://scontent-ort2-1.cdninstagram.com/v/t51...</td>\n",
              "      <td>False</td>\n",
              "      <td>[]</td>\n",
              "      <td>NaN</td>\n",
              "    </tr>\n",
              "    <tr>\n",
              "      <th>5</th>\n",
              "      <td>5</td>\n",
              "      <td>https://www.instagram.com/p/CGcEoEkh5hX/</td>\n",
              "      <td>196</td>\n",
              "      <td>56437</td>\n",
              "      <td>FW20 Campaign. Kids Collection\\nCreative Direc...</td>\n",
              "      <td>https://scontent-ort2-1.cdninstagram.com/v/t51...</td>\n",
              "      <td>False</td>\n",
              "      <td>['Cool', 'Fashion', 'Jeans', 'Sitting', 'Denim...</td>\n",
              "      <td>Cool Fashion Jeans Sitting Denim Shoe Style</td>\n",
              "    </tr>\n",
              "    <tr>\n",
              "      <th>6</th>\n",
              "      <td>6</td>\n",
              "      <td>https://www.instagram.com/p/CGacyX7BvYy/</td>\n",
              "      <td>110</td>\n",
              "      <td>34944</td>\n",
              "      <td>FW20 Campaign. Man Collection\\nCreative Direct...</td>\n",
              "      <td>https://scontent-ort2-1.cdninstagram.com/v/t51...</td>\n",
              "      <td>False</td>\n",
              "      <td>['Hair', 'Face', 'Hairstyle', 'Eyebrow', 'Fore...</td>\n",
              "      <td>Hair Face Hairstyle Eyebrow Forehead Chin Head...</td>\n",
              "    </tr>\n",
              "    <tr>\n",
              "      <th>7</th>\n",
              "      <td>7</td>\n",
              "      <td>https://www.instagram.com/p/CGZ3BIVB_Hb/</td>\n",
              "      <td>189</td>\n",
              "      <td>34440</td>\n",
              "      <td>FW20 Campaign. Man Collection\\nCreative Direct...</td>\n",
              "      <td>https://scontent-ort2-1.cdninstagram.com/v/t51...</td>\n",
              "      <td>False</td>\n",
              "      <td>[]</td>\n",
              "      <td>NaN</td>\n",
              "    </tr>\n",
              "  </tbody>\n",
              "</table>\n",
              "</div>"
            ],
            "text/plain": [
              "   Unnamed: 0.1  ...                                         labels_str\n",
              "3             3  ...  Clothing Fashion Outerwear Fur Street fashion ...\n",
              "4             4  ...                                                NaN\n",
              "5             5  ...        Cool Fashion Jeans Sitting Denim Shoe Style\n",
              "6             6  ...  Hair Face Hairstyle Eyebrow Forehead Chin Head...\n",
              "7             7  ...                                                NaN\n",
              "\n",
              "[5 rows x 9 columns]"
            ]
          },
          "metadata": {
            "tags": []
          },
          "execution_count": 6
        }
      ]
    },
    {
      "cell_type": "code",
      "metadata": {
        "id": "2GRD9FO77HfK"
      },
      "source": [
        "df_z.loc[:,('comment_norm')] = df_z['num_comments']/max(df_z['num_comments']) #normalizing comment count\n"
      ],
      "execution_count": null,
      "outputs": []
    },
    {
      "cell_type": "code",
      "metadata": {
        "id": "wrPj5-powYrp"
      },
      "source": [
        "df_z.loc[:,('likes_norm')] = df_z.loc[:,('num_likes')]/max(df_z['num_likes']) #normalizing likes count\n"
      ],
      "execution_count": null,
      "outputs": []
    },
    {
      "cell_type": "code",
      "metadata": {
        "id": "GKSz4m_JwgKW"
      },
      "source": [
        " .4# likes (normalized) + .6# comments (normalized)\n",
        "\n",
        " df_z.loc[:,('engage_scores')] = ((0.4* df_z.loc[:,('likes_norm')]) + \n",
        "                                 (0.6* df_z.loc[:,('comment_norm')]))"
      ],
      "execution_count": null,
      "outputs": []
    },
    {
      "cell_type": "code",
      "metadata": {
        "id": "gW0_-pwQxNt2"
      },
      "source": [
        "# Assign values of 1 and 0 ...\n",
        "\n",
        "center = df_z['engage_scores'].median()\n",
        "#center\n",
        "df_z['engagement_metr'] = np.where( df_z['engage_scores'] >= center, 1, 0)\n",
        "\n",
        "# value counts of 1 and 0\n",
        "df_z['engagement_metr'].value_counts()\n",
        "\n",
        "df_z.to_csv('metricscore.csv')"
      ],
      "execution_count": null,
      "outputs": []
    },
    {
      "cell_type": "code",
      "metadata": {
        "id": "cVexJwdByiUJ",
        "colab": {
          "base_uri": "https://localhost:8080/",
          "height": 568
        },
        "outputId": "e55039ab-9858-4d7c-fc44-b7eb46f45456"
      },
      "source": [
        "df_z.head()"
      ],
      "execution_count": null,
      "outputs": [
        {
          "output_type": "execute_result",
          "data": {
            "text/html": [
              "<div>\n",
              "<style scoped>\n",
              "    .dataframe tbody tr th:only-of-type {\n",
              "        vertical-align: middle;\n",
              "    }\n",
              "\n",
              "    .dataframe tbody tr th {\n",
              "        vertical-align: top;\n",
              "    }\n",
              "\n",
              "    .dataframe thead th {\n",
              "        text-align: right;\n",
              "    }\n",
              "</style>\n",
              "<table border=\"1\" class=\"dataframe\">\n",
              "  <thead>\n",
              "    <tr style=\"text-align: right;\">\n",
              "      <th></th>\n",
              "      <th>Unnamed: 0.1</th>\n",
              "      <th>post_url</th>\n",
              "      <th>num_comments</th>\n",
              "      <th>num_likes</th>\n",
              "      <th>caption</th>\n",
              "      <th>image_url</th>\n",
              "      <th>is_video</th>\n",
              "      <th>labels</th>\n",
              "      <th>labels_str</th>\n",
              "      <th>comment_norm</th>\n",
              "      <th>likes_norm</th>\n",
              "      <th>engage_scores</th>\n",
              "      <th>engagement_metr</th>\n",
              "    </tr>\n",
              "  </thead>\n",
              "  <tbody>\n",
              "    <tr>\n",
              "      <th>3</th>\n",
              "      <td>3</td>\n",
              "      <td>https://www.instagram.com/p/CGdByXPhb0J/</td>\n",
              "      <td>421</td>\n",
              "      <td>73652</td>\n",
              "      <td>FW20 Campaign. Kids Collection\\nCreative Direc...</td>\n",
              "      <td>https://scontent-ort2-1.cdninstagram.com/v/t51...</td>\n",
              "      <td>False</td>\n",
              "      <td>['Clothing', 'Fashion', 'Outerwear', 'Fur', 'S...</td>\n",
              "      <td>Clothing Fashion Outerwear Fur Street fashion ...</td>\n",
              "      <td>0.129698</td>\n",
              "      <td>0.251290</td>\n",
              "      <td>0.178335</td>\n",
              "      <td>1</td>\n",
              "    </tr>\n",
              "    <tr>\n",
              "      <th>4</th>\n",
              "      <td>4</td>\n",
              "      <td>https://www.instagram.com/p/CGcs5sHBXp5/</td>\n",
              "      <td>126</td>\n",
              "      <td>38707</td>\n",
              "      <td>FW20 Campaign. Kids Collection\\nCreative Direc...</td>\n",
              "      <td>https://scontent-ort2-1.cdninstagram.com/v/t51...</td>\n",
              "      <td>False</td>\n",
              "      <td>[]</td>\n",
              "      <td>NaN</td>\n",
              "      <td>0.038817</td>\n",
              "      <td>0.132063</td>\n",
              "      <td>0.076115</td>\n",
              "      <td>0</td>\n",
              "    </tr>\n",
              "    <tr>\n",
              "      <th>5</th>\n",
              "      <td>5</td>\n",
              "      <td>https://www.instagram.com/p/CGcEoEkh5hX/</td>\n",
              "      <td>196</td>\n",
              "      <td>56437</td>\n",
              "      <td>FW20 Campaign. Kids Collection\\nCreative Direc...</td>\n",
              "      <td>https://scontent-ort2-1.cdninstagram.com/v/t51...</td>\n",
              "      <td>False</td>\n",
              "      <td>['Cool', 'Fashion', 'Jeans', 'Sitting', 'Denim...</td>\n",
              "      <td>Cool Fashion Jeans Sitting Denim Shoe Style</td>\n",
              "      <td>0.060382</td>\n",
              "      <td>0.192555</td>\n",
              "      <td>0.113251</td>\n",
              "      <td>0</td>\n",
              "    </tr>\n",
              "    <tr>\n",
              "      <th>6</th>\n",
              "      <td>6</td>\n",
              "      <td>https://www.instagram.com/p/CGacyX7BvYy/</td>\n",
              "      <td>110</td>\n",
              "      <td>34944</td>\n",
              "      <td>FW20 Campaign. Man Collection\\nCreative Direct...</td>\n",
              "      <td>https://scontent-ort2-1.cdninstagram.com/v/t51...</td>\n",
              "      <td>False</td>\n",
              "      <td>['Hair', 'Face', 'Hairstyle', 'Eyebrow', 'Fore...</td>\n",
              "      <td>Hair Face Hairstyle Eyebrow Forehead Chin Head...</td>\n",
              "      <td>0.033888</td>\n",
              "      <td>0.119224</td>\n",
              "      <td>0.068022</td>\n",
              "      <td>0</td>\n",
              "    </tr>\n",
              "    <tr>\n",
              "      <th>7</th>\n",
              "      <td>7</td>\n",
              "      <td>https://www.instagram.com/p/CGZ3BIVB_Hb/</td>\n",
              "      <td>189</td>\n",
              "      <td>34440</td>\n",
              "      <td>FW20 Campaign. Man Collection\\nCreative Direct...</td>\n",
              "      <td>https://scontent-ort2-1.cdninstagram.com/v/t51...</td>\n",
              "      <td>False</td>\n",
              "      <td>[]</td>\n",
              "      <td>NaN</td>\n",
              "      <td>0.058226</td>\n",
              "      <td>0.117504</td>\n",
              "      <td>0.081937</td>\n",
              "      <td>0</td>\n",
              "    </tr>\n",
              "  </tbody>\n",
              "</table>\n",
              "</div>"
            ],
            "text/plain": [
              "   Unnamed: 0.1  ... engagement_metr\n",
              "3             3  ...               1\n",
              "4             4  ...               0\n",
              "5             5  ...               0\n",
              "6             6  ...               0\n",
              "7             7  ...               0\n",
              "\n",
              "[5 rows x 13 columns]"
            ]
          },
          "metadata": {
            "tags": []
          },
          "execution_count": 11
        }
      ]
    },
    {
      "cell_type": "markdown",
      "metadata": {
        "id": "e_IkdCoBtGLQ"
      },
      "source": [
        "# Task B. Using TF-IDF scores, run a logistic regression with engagement (binary) as the dependent variable, and the image labels as independent variables. What is the accuracy (show the confusion matrix)?What accuracy do you get by using the post caption words as the independent variables instead of image labels? Finally, what accuracy do you get by combining the image labels and post captions and using them as independent variables? What can you conclude from your analysis?"
      ]
    },
    {
      "cell_type": "code",
      "metadata": {
        "id": "7zhgMOFRAbVK",
        "colab": {
          "base_uri": "https://localhost:8080/",
          "height": 70
        },
        "outputId": "e6747a7e-27ac-45c8-83fa-d7593813f706"
      },
      "source": [
        "import pandas as pd\n",
        "from pandas import DataFrame, Series\n",
        "import urllib.request \n",
        "import statsmodels.api as sm\n",
        "import math\n",
        "import numpy as np\n",
        "from sklearn.feature_extraction.text import TfidfVectorizer\n",
        "from sklearn.linear_model import LogisticRegression\n",
        "from sklearn.metrics import accuracy_score, roc_auc_score, confusion_matrix, f1_score\n",
        "from sklearn.model_selection import train_test_split"
      ],
      "execution_count": null,
      "outputs": [
        {
          "output_type": "stream",
          "text": [
            "/usr/local/lib/python3.6/dist-packages/statsmodels/tools/_testing.py:19: FutureWarning: pandas.util.testing is deprecated. Use the functions in the public API at pandas.testing instead.\n",
            "  import pandas.util.testing as tm\n"
          ],
          "name": "stderr"
        }
      ]
    },
    {
      "cell_type": "code",
      "metadata": {
        "id": "8JQf7yC_BAeF",
        "colab": {
          "base_uri": "https://localhost:8080/",
          "height": 585
        },
        "outputId": "59ab1fed-e601-4268-bd13-480466e6d109"
      },
      "source": [
        "df_z.head()"
      ],
      "execution_count": null,
      "outputs": [
        {
          "output_type": "execute_result",
          "data": {
            "text/html": [
              "<div>\n",
              "<style scoped>\n",
              "    .dataframe tbody tr th:only-of-type {\n",
              "        vertical-align: middle;\n",
              "    }\n",
              "\n",
              "    .dataframe tbody tr th {\n",
              "        vertical-align: top;\n",
              "    }\n",
              "\n",
              "    .dataframe thead th {\n",
              "        text-align: right;\n",
              "    }\n",
              "</style>\n",
              "<table border=\"1\" class=\"dataframe\">\n",
              "  <thead>\n",
              "    <tr style=\"text-align: right;\">\n",
              "      <th></th>\n",
              "      <th>Unnamed: 0.1</th>\n",
              "      <th>post_url</th>\n",
              "      <th>num_comments</th>\n",
              "      <th>num_likes</th>\n",
              "      <th>caption</th>\n",
              "      <th>image_url</th>\n",
              "      <th>is_video</th>\n",
              "      <th>labels</th>\n",
              "      <th>labels_str</th>\n",
              "      <th>comment_norm</th>\n",
              "      <th>likes_norm</th>\n",
              "      <th>engage_scores</th>\n",
              "      <th>engagement_metr</th>\n",
              "    </tr>\n",
              "  </thead>\n",
              "  <tbody>\n",
              "    <tr>\n",
              "      <th>3</th>\n",
              "      <td>3</td>\n",
              "      <td>https://www.instagram.com/p/CGdByXPhb0J/</td>\n",
              "      <td>421</td>\n",
              "      <td>73652</td>\n",
              "      <td>FW20 Campaign. Kids Collection\\nCreative Direc...</td>\n",
              "      <td>https://scontent-ort2-1.cdninstagram.com/v/t51...</td>\n",
              "      <td>False</td>\n",
              "      <td>['Clothing', 'Fashion', 'Outerwear', 'Fur', 'S...</td>\n",
              "      <td>clothing fashion outerwear fur street fashion ...</td>\n",
              "      <td>0.129698</td>\n",
              "      <td>0.251290</td>\n",
              "      <td>0.178335</td>\n",
              "      <td>1</td>\n",
              "    </tr>\n",
              "    <tr>\n",
              "      <th>5</th>\n",
              "      <td>5</td>\n",
              "      <td>https://www.instagram.com/p/CGcEoEkh5hX/</td>\n",
              "      <td>196</td>\n",
              "      <td>56437</td>\n",
              "      <td>FW20 Campaign. Kids Collection\\nCreative Direc...</td>\n",
              "      <td>https://scontent-ort2-1.cdninstagram.com/v/t51...</td>\n",
              "      <td>False</td>\n",
              "      <td>['Cool', 'Fashion', 'Jeans', 'Sitting', 'Denim...</td>\n",
              "      <td>cool fashion jeans sitting denim shoe style</td>\n",
              "      <td>0.060382</td>\n",
              "      <td>0.192555</td>\n",
              "      <td>0.113251</td>\n",
              "      <td>0</td>\n",
              "    </tr>\n",
              "    <tr>\n",
              "      <th>6</th>\n",
              "      <td>6</td>\n",
              "      <td>https://www.instagram.com/p/CGacyX7BvYy/</td>\n",
              "      <td>110</td>\n",
              "      <td>34944</td>\n",
              "      <td>FW20 Campaign. Man Collection\\nCreative Direct...</td>\n",
              "      <td>https://scontent-ort2-1.cdninstagram.com/v/t51...</td>\n",
              "      <td>False</td>\n",
              "      <td>['Hair', 'Face', 'Hairstyle', 'Eyebrow', 'Fore...</td>\n",
              "      <td>hair face hairstyle eyebrow forehead chin head...</td>\n",
              "      <td>0.033888</td>\n",
              "      <td>0.119224</td>\n",
              "      <td>0.068022</td>\n",
              "      <td>0</td>\n",
              "    </tr>\n",
              "    <tr>\n",
              "      <th>8</th>\n",
              "      <td>8</td>\n",
              "      <td>https://www.instagram.com/p/CGZXRXWBZaX/</td>\n",
              "      <td>144</td>\n",
              "      <td>44766</td>\n",
              "      <td>FW20 Campaign. Man Collection\\nCreative Direct...</td>\n",
              "      <td>https://scontent-ort2-1.cdninstagram.com/v/t51...</td>\n",
              "      <td>False</td>\n",
              "      <td>['Clothing', 'Fashion', 'Outerwear', 'Beige', ...</td>\n",
              "      <td>clothing fashion outerwear beige fashion desig...</td>\n",
              "      <td>0.044362</td>\n",
              "      <td>0.152735</td>\n",
              "      <td>0.087711</td>\n",
              "      <td>0</td>\n",
              "    </tr>\n",
              "    <tr>\n",
              "      <th>9</th>\n",
              "      <td>9</td>\n",
              "      <td>https://www.instagram.com/p/CGXyQJBBn3G/</td>\n",
              "      <td>278</td>\n",
              "      <td>65139</td>\n",
              "      <td>FW20 Campaign. Woman Collection\\nCreative Dire...</td>\n",
              "      <td>https://scontent-ort2-1.cdninstagram.com/v/t51...</td>\n",
              "      <td>False</td>\n",
              "      <td>['People in nature', 'Photograph', 'Black-and-...</td>\n",
              "      <td>people in nature photograph black-and-white st...</td>\n",
              "      <td>0.085644</td>\n",
              "      <td>0.222245</td>\n",
              "      <td>0.140284</td>\n",
              "      <td>1</td>\n",
              "    </tr>\n",
              "  </tbody>\n",
              "</table>\n",
              "</div>"
            ],
            "text/plain": [
              "   Unnamed: 0.1  ... engagement_metr\n",
              "3             3  ...               1\n",
              "5             5  ...               0\n",
              "6             6  ...               0\n",
              "8             8  ...               0\n",
              "9             9  ...               1\n",
              "\n",
              "[5 rows x 13 columns]"
            ]
          },
          "metadata": {
            "tags": []
          },
          "execution_count": 32
        }
      ]
    },
    {
      "cell_type": "code",
      "metadata": {
        "id": "ABaZNvIEK0x2"
      },
      "source": [
        "df_z = df_z.dropna(subset = ['labels_str']).copy()\n"
      ],
      "execution_count": null,
      "outputs": []
    },
    {
      "cell_type": "code",
      "metadata": {
        "id": "E0R25kM4mqmU"
      },
      "source": [
        "df_z['labels_str'] = df_z['labels_str'].apply(lambda x: x.lower())\n"
      ],
      "execution_count": null,
      "outputs": []
    },
    {
      "cell_type": "code",
      "metadata": {
        "id": "NGge4wNgLtHf",
        "colab": {
          "base_uri": "https://localhost:8080/",
          "height": 70
        },
        "outputId": "1725afa4-8514-4962-9274-19d994c2db46"
      },
      "source": [
        "from nltk.tokenize import word_tokenize\n",
        "import re\n",
        "import nltk\n",
        "nltk.download('punkt')"
      ],
      "execution_count": null,
      "outputs": [
        {
          "output_type": "stream",
          "text": [
            "[nltk_data] Downloading package punkt to /root/nltk_data...\n",
            "[nltk_data]   Package punkt is already up-to-date!\n"
          ],
          "name": "stdout"
        },
        {
          "output_type": "execute_result",
          "data": {
            "text/plain": [
              "True"
            ]
          },
          "metadata": {
            "tags": []
          },
          "execution_count": 24
        }
      ]
    },
    {
      "cell_type": "code",
      "metadata": {
        "id": "DSRAFCFSL0V9"
      },
      "source": [
        "##df_z2[\"labels\"] = df_z2[\"labels\"].astype(str)\n",
        "##df_z2[\"labels\"] = df_z2[\"labels\"].apply(lambda each_post: word_tokenize(re.sub(r'[^\\w\\s]',' ',each_post.lower())))\n",
        "##df_z2[\"labels_strings\"] = df_z2['labels'].apply(' '.join)"
      ],
      "execution_count": null,
      "outputs": []
    },
    {
      "cell_type": "code",
      "metadata": {
        "id": "Oc02KL4KRUFf",
        "colab": {
          "base_uri": "https://localhost:8080/",
          "height": 35
        },
        "outputId": "0e1db35f-6bcd-40e3-be68-ba68c4ae1a5e"
      },
      "source": [
        "df_z['labels_str'].isnull().values.any()"
      ],
      "execution_count": null,
      "outputs": [
        {
          "output_type": "execute_result",
          "data": {
            "text/plain": [
              "False"
            ]
          },
          "metadata": {
            "tags": []
          },
          "execution_count": 30
        }
      ]
    },
    {
      "cell_type": "code",
      "metadata": {
        "id": "N_Thd7khpsgR"
      },
      "source": [
        "df_z = df_z.reset_index()\n"
      ],
      "execution_count": null,
      "outputs": []
    },
    {
      "cell_type": "code",
      "metadata": {
        "id": "GRQBXn2eAhkg",
        "colab": {
          "base_uri": "https://localhost:8080/",
          "height": 88
        },
        "outputId": "a34718d4-a0a8-481a-9593-12050ffb6d97"
      },
      "source": [
        "vectorizer = TfidfVectorizer()\n",
        "X = vectorizer.fit_transform(df_z['labels_str'].tolist())\n",
        "q = vectorizer.get_feature_names()\n",
        "l = pd.DataFrame(X.toarray())\n",
        "for i in range(len(q)):\n",
        "    l = l.rename(columns={i: q[i]}) \n",
        "\n",
        "l['engagement_metr'] = df_z['engagement_metr']\n",
        "\n",
        "\n",
        "X_train, X_test, y_train, y_test = train_test_split(l.iloc[:,:-1], l['engagement_metr'], test_size=0.20, random_state=42)\n",
        "\n",
        "clf = LogisticRegression(random_state=0).fit(X_train,y_train )\n",
        "print(\"Accuracy with Image Labels: \" + str(clf.score(X_test, y_test)))\n",
        "print(\"Confusion Matrix:\")\n",
        "print(confusion_matrix(y_test, clf.predict(X_test)))"
      ],
      "execution_count": null,
      "outputs": [
        {
          "output_type": "stream",
          "text": [
            "Accuracy with Image Labels: 0.6637168141592921\n",
            "Confusion Matrix:\n",
            "[[36 29]\n",
            " [ 9 39]]\n"
          ],
          "name": "stdout"
        }
      ]
    },
    {
      "cell_type": "code",
      "metadata": {
        "id": "LwdGgLTxAiBi"
      },
      "source": [
        ""
      ],
      "execution_count": null,
      "outputs": []
    },
    {
      "cell_type": "code",
      "metadata": {
        "id": "CvmXUbtWAiR9",
        "colab": {
          "base_uri": "https://localhost:8080/",
          "height": 88
        },
        "outputId": "1c950906-1b41-4819-97a8-0b91defaee1d"
      },
      "source": [
        "# Keeping all captions intact and using tf-idf score\n",
        "vectorizer = TfidfVectorizer()\n",
        "X = vectorizer.fit_transform(df_z['caption'].tolist())\n",
        "q = vectorizer.get_feature_names()\n",
        "l = pd.DataFrame(X.toarray())\n",
        "for i in range(len(q)):\n",
        "    l = l.rename(columns={i: q[i]}) \n",
        "\n",
        "l['engagementVal'] = df_z['engagement_metr']\n",
        "\n",
        "X_train, X_test, y_train, y_test = train_test_split(l.iloc[:,:-1], l['engagementVal'], test_size=0.20, random_state=42)\n",
        "\n",
        "clf = LogisticRegression(random_state=0, solver='lbfgs').fit(X_train,y_train )\n",
        "print(\"Accuracy with Caption Labels: \" + str(clf.score(X_test, y_test)))\n",
        "print(\"Confusion Matrix:\")\n",
        "print(confusion_matrix(y_test, clf.predict(X_test)))"
      ],
      "execution_count": null,
      "outputs": [
        {
          "output_type": "stream",
          "text": [
            "Accuracy with Caption Labels: 0.7079646017699115\n",
            "Confusion Matrix:\n",
            "[[41 24]\n",
            " [ 9 39]]\n"
          ],
          "name": "stdout"
        }
      ]
    },
    {
      "cell_type": "code",
      "metadata": {
        "id": "hDgluHpnAhz2"
      },
      "source": [
        "df_z['caption+labels'] = df_z['caption'] + \" \" + df_z['labels_str']\n"
      ],
      "execution_count": null,
      "outputs": []
    },
    {
      "cell_type": "code",
      "metadata": {
        "id": "W7-C99k9Agzv",
        "colab": {
          "base_uri": "https://localhost:8080/",
          "height": 88
        },
        "outputId": "ad21a0c6-92e7-4098-9dd3-a7608c67a2e9"
      },
      "source": [
        "vectorizer = TfidfVectorizer()\n",
        "X = vectorizer.fit_transform(df_z['caption+labels'].tolist())\n",
        "q = vectorizer.get_feature_names()\n",
        "l = pd.DataFrame(X.toarray())\n",
        "for i in range(len(q)):\n",
        "    l = l.rename(columns={i: q[i]}) \n",
        "\n",
        "l['engagementVal'] = df_z['engagement_metr']\n",
        "\n",
        "X_train, X_test, y_train, y_test = train_test_split(l.iloc[:,:-1], l['engagementVal'], test_size=0.33, random_state=42)\n",
        "\n",
        "clf = LogisticRegression(random_state=0, solver='lbfgs').fit(X_train,y_train )\n",
        "print(\"Accuracy with both Captions and Image Labels: \" + str(clf.score(X_test, y_test)))\n",
        "print(\"Confusion Matrix:\")\n",
        "print(confusion_matrix(y_test, clf.predict(X_test)))"
      ],
      "execution_count": null,
      "outputs": [
        {
          "output_type": "stream",
          "text": [
            "Accuracy with both Captions and Image Labels: 0.6505376344086021\n",
            "Confusion Matrix:\n",
            "[[57 42]\n",
            " [23 64]]\n"
          ],
          "name": "stdout"
        }
      ]
    },
    {
      "cell_type": "code",
      "metadata": {
        "id": "9iaMAZ3IAgbt"
      },
      "source": [
        ""
      ],
      "execution_count": null,
      "outputs": []
    },
    {
      "cell_type": "markdown",
      "metadata": {
        "id": "kQfT9FyxtLGa"
      },
      "source": [
        "# Task C. Perform topic modeling (LDA) on the image labels. Choose an appropriate number of topics. You may want to start with 4, but adjust the number up or down depending on the word distributions you get. LDA should produce two outputs: (i) A file showing which words load on which topics, and (ii) a file showing topic weights for each image. \n",
        "\n",
        "## Now take the quartiles with highest and lowest engagement scores. What are the differences in the average topic weights of pictures across the two quartiles (e.g., greater proportion of some topics in highest engagement quartile)? Show the main results in a table. "
      ]
    },
    {
      "cell_type": "code",
      "metadata": {
        "id": "6of2iOXDtNuI",
        "colab": {
          "base_uri": "https://localhost:8080/",
          "height": 306
        },
        "outputId": "c86a5064-139d-46fc-caa8-4d3f05c57ec8"
      },
      "source": [
        "pip install --upgrade gensim"
      ],
      "execution_count": null,
      "outputs": [
        {
          "output_type": "stream",
          "text": [
            "Collecting gensim\n",
            "\u001b[?25l  Downloading https://files.pythonhosted.org/packages/2b/e0/fa6326251692056dc880a64eb22117e03269906ba55a6864864d24ec8b4e/gensim-3.8.3-cp36-cp36m-manylinux1_x86_64.whl (24.2MB)\n",
            "\u001b[K     |████████████████████████████████| 24.2MB 168kB/s \n",
            "\u001b[?25hRequirement already satisfied, skipping upgrade: scipy>=0.18.1 in /usr/local/lib/python3.6/dist-packages (from gensim) (1.4.1)\n",
            "Requirement already satisfied, skipping upgrade: numpy>=1.11.3 in /usr/local/lib/python3.6/dist-packages (from gensim) (1.18.5)\n",
            "Requirement already satisfied, skipping upgrade: smart-open>=1.8.1 in /usr/local/lib/python3.6/dist-packages (from gensim) (2.2.0)\n",
            "Requirement already satisfied, skipping upgrade: six>=1.5.0 in /usr/local/lib/python3.6/dist-packages (from gensim) (1.15.0)\n",
            "Requirement already satisfied, skipping upgrade: requests in /usr/local/lib/python3.6/dist-packages (from smart-open>=1.8.1->gensim) (2.23.0)\n",
            "Requirement already satisfied, skipping upgrade: chardet<4,>=3.0.2 in /usr/local/lib/python3.6/dist-packages (from requests->smart-open>=1.8.1->gensim) (3.0.4)\n",
            "Requirement already satisfied, skipping upgrade: urllib3!=1.25.0,!=1.25.1,<1.26,>=1.21.1 in /usr/local/lib/python3.6/dist-packages (from requests->smart-open>=1.8.1->gensim) (1.24.3)\n",
            "Requirement already satisfied, skipping upgrade: certifi>=2017.4.17 in /usr/local/lib/python3.6/dist-packages (from requests->smart-open>=1.8.1->gensim) (2020.6.20)\n",
            "Requirement already satisfied, skipping upgrade: idna<3,>=2.5 in /usr/local/lib/python3.6/dist-packages (from requests->smart-open>=1.8.1->gensim) (2.10)\n",
            "Installing collected packages: gensim\n",
            "  Found existing installation: gensim 3.6.0\n",
            "    Uninstalling gensim-3.6.0:\n",
            "      Successfully uninstalled gensim-3.6.0\n",
            "Successfully installed gensim-3.8.3\n"
          ],
          "name": "stdout"
        }
      ]
    },
    {
      "cell_type": "code",
      "metadata": {
        "id": "tuV8dVzzqqJJ"
      },
      "source": [
        "from gensim import corpora, models"
      ],
      "execution_count": null,
      "outputs": []
    },
    {
      "cell_type": "code",
      "metadata": {
        "id": "AN93AC_xqqai"
      },
      "source": [
        "#Convert labels to lower case. \n",
        "#Do not need to remove punctuation and other preprocessing steps since labels were inputted in very nicely.\n",
        "df_z['labels_str'] = df_z['labels_str'].apply(lambda x: x.lower())"
      ],
      "execution_count": null,
      "outputs": []
    },
    {
      "cell_type": "code",
      "metadata": {
        "id": "o1wwd-3vqqfP"
      },
      "source": [
        "from nltk.tokenize import sent_tokenize, word_tokenize\n",
        "def get_tokens(entry):\n",
        "    #Use nltk to get word tokens.\n",
        "    tokens = word_tokenize(entry)\n",
        "    \n",
        "    #Tokenize the word here. Returns the word if the word is a string. .isalpha() is a method that does this.\n",
        "    token_words = [w for w in tokens if w.isalpha()]\n",
        "    \n",
        "    return token_words"
      ],
      "execution_count": null,
      "outputs": []
    },
    {
      "cell_type": "code",
      "metadata": {
        "id": "9Zd35TCOqqQZ"
      },
      "source": [
        "df_z['labels_tokens'] = df_z['labels_str'].apply(get_tokens)"
      ],
      "execution_count": null,
      "outputs": []
    },
    {
      "cell_type": "markdown",
      "metadata": {
        "id": "2wzfxsJ5q4rD"
      },
      "source": [
        "Notably there are some labels that belong with each other i.e. fashion design. Thus we incorporate bigrams for our LDA.\n"
      ]
    },
    {
      "cell_type": "code",
      "metadata": {
        "id": "BNVBZ2hcqp9T"
      },
      "source": [
        "def bigrams(words, bi_min=15, tri_min=10):\n",
        "    bigram = models.Phrases(words, min_count = bi_min)\n",
        "    bigram_mod = models.phrases.Phraser(bigram)\n",
        "    return bigram_mod"
      ],
      "execution_count": null,
      "outputs": []
    },
    {
      "cell_type": "code",
      "metadata": {
        "id": "LHSkRdFlq8YZ"
      },
      "source": [
        "def get_corpus(df):\n",
        "    \n",
        "    #Use bigram function earlier.\n",
        "    bigram = bigrams(df.labels_tokens)\n",
        "    bigram = [bigram[review] for review in df.labels_tokens]\n",
        "    #Get id2word dictionary\n",
        "    id2word = corpora.Dictionary(bigram)\n",
        "    id2word.filter_extremes(no_below=10, no_above=0.35)\n",
        "    id2word.compactify()\n",
        "    #Make the corpus\n",
        "    corpus = [id2word.doc2bow(text) for text in bigram]\n",
        "    #Return all three\n",
        "    return corpus, id2word, bigram"
      ],
      "execution_count": null,
      "outputs": []
    },
    {
      "cell_type": "code",
      "metadata": {
        "id": "k6euoGzjq8qM"
      },
      "source": [
        "corpus, id2word, bigram = get_corpus(df_z)"
      ],
      "execution_count": null,
      "outputs": []
    },
    {
      "cell_type": "markdown",
      "metadata": {
        "id": "EOxJstszrDQ6"
      },
      "source": [
        "For selecting the ideal number of topics we tested out a range of values and arrive at what we think makes sense from the topic printing. We aim to avoid redundancy in this regard."
      ]
    },
    {
      "cell_type": "code",
      "metadata": {
        "id": "EL-a9Zrwq834"
      },
      "source": [
        "num_topics = 5"
      ],
      "execution_count": null,
      "outputs": []
    },
    {
      "cell_type": "code",
      "metadata": {
        "id": "VySDvyyxq8go"
      },
      "source": [
        "lda_model = models.LdaModel(corpus, num_topics=num_topics, \\\n",
        "                                  id2word=id2word, \\\n",
        "                                  )"
      ],
      "execution_count": null,
      "outputs": []
    },
    {
      "cell_type": "code",
      "metadata": {
        "id": "dTH--Pg1q8Nh",
        "colab": {
          "base_uri": "https://localhost:8080/",
          "height": 187
        },
        "outputId": "cdec87ae-2878-4b8e-e0af-9e0a719f2502"
      },
      "source": [
        "lda_model.print_topics()"
      ],
      "execution_count": null,
      "outputs": [
        {
          "output_type": "execute_result",
          "data": {
            "text/plain": [
              "[(0,\n",
              "  '0.055*\"photography\" + 0.046*\"beauty\" + 0.045*\"shoulder\" + 0.045*\"leg\" + 0.044*\"hair\" + 0.036*\"photo_shoot\" + 0.036*\"black\" + 0.033*\"sitting\" + 0.029*\"human\" + 0.027*\"outerwear\"'),\n",
              " (1,\n",
              "  '0.078*\"photography\" + 0.069*\"white\" + 0.053*\"outerwear\" + 0.037*\"leg\" + 0.036*\"sitting\" + 0.030*\"monochrome\" + 0.024*\"suit\" + 0.023*\"photo_shoot\" + 0.023*\"standing\" + 0.023*\"beauty\"'),\n",
              " (2,\n",
              "  '0.071*\"outerwear\" + 0.036*\"photography\" + 0.036*\"snapshot\" + 0.034*\"footwear\" + 0.031*\"beauty\" + 0.030*\"jacket\" + 0.029*\"shoe\" + 0.026*\"standing\" + 0.026*\"blazer\" + 0.023*\"street\"'),\n",
              " (3,\n",
              "  '0.061*\"shoulder\" + 0.058*\"outerwear\" + 0.053*\"model\" + 0.052*\"dress\" + 0.034*\"neck\" + 0.032*\"standing\" + 0.028*\"hair\" + 0.028*\"photography\" + 0.027*\"leg\" + 0.026*\"beauty\"'),\n",
              " (4,\n",
              "  '0.071*\"photography\" + 0.043*\"beauty\" + 0.040*\"model\" + 0.039*\"design\" + 0.033*\"child\" + 0.028*\"outerwear\" + 0.027*\"face\" + 0.023*\"leg\" + 0.022*\"hair\" + 0.022*\"sitting\"')]"
            ]
          },
          "metadata": {
            "tags": []
          },
          "execution_count": 52
        }
      ]
    },
    {
      "cell_type": "code",
      "metadata": {
        "id": "ENunlBd0rLQk"
      },
      "source": [
        "#Make a dataframe to store the topic and the word weights\n",
        "lda_df = pd.DataFrame(lda_model.show_topics(),columns = ['Topic','Word Weights'])"
      ],
      "execution_count": null,
      "outputs": []
    },
    {
      "cell_type": "code",
      "metadata": {
        "id": "dKPr_aSrrLeD",
        "colab": {
          "base_uri": "https://localhost:8080/",
          "height": 204
        },
        "outputId": "be13fdf2-1849-42ce-edbc-dd900d11cbec"
      },
      "source": [
        "lda_df.head()"
      ],
      "execution_count": null,
      "outputs": [
        {
          "output_type": "execute_result",
          "data": {
            "text/html": [
              "<div>\n",
              "<style scoped>\n",
              "    .dataframe tbody tr th:only-of-type {\n",
              "        vertical-align: middle;\n",
              "    }\n",
              "\n",
              "    .dataframe tbody tr th {\n",
              "        vertical-align: top;\n",
              "    }\n",
              "\n",
              "    .dataframe thead th {\n",
              "        text-align: right;\n",
              "    }\n",
              "</style>\n",
              "<table border=\"1\" class=\"dataframe\">\n",
              "  <thead>\n",
              "    <tr style=\"text-align: right;\">\n",
              "      <th></th>\n",
              "      <th>Topic</th>\n",
              "      <th>Word Weights</th>\n",
              "    </tr>\n",
              "  </thead>\n",
              "  <tbody>\n",
              "    <tr>\n",
              "      <th>0</th>\n",
              "      <td>0</td>\n",
              "      <td>0.055*\"photography\" + 0.046*\"beauty\" + 0.045*\"...</td>\n",
              "    </tr>\n",
              "    <tr>\n",
              "      <th>1</th>\n",
              "      <td>1</td>\n",
              "      <td>0.078*\"photography\" + 0.069*\"white\" + 0.053*\"o...</td>\n",
              "    </tr>\n",
              "    <tr>\n",
              "      <th>2</th>\n",
              "      <td>2</td>\n",
              "      <td>0.071*\"outerwear\" + 0.036*\"photography\" + 0.03...</td>\n",
              "    </tr>\n",
              "    <tr>\n",
              "      <th>3</th>\n",
              "      <td>3</td>\n",
              "      <td>0.061*\"shoulder\" + 0.058*\"outerwear\" + 0.053*\"...</td>\n",
              "    </tr>\n",
              "    <tr>\n",
              "      <th>4</th>\n",
              "      <td>4</td>\n",
              "      <td>0.071*\"photography\" + 0.043*\"beauty\" + 0.040*\"...</td>\n",
              "    </tr>\n",
              "  </tbody>\n",
              "</table>\n",
              "</div>"
            ],
            "text/plain": [
              "   Topic                                       Word Weights\n",
              "0      0  0.055*\"photography\" + 0.046*\"beauty\" + 0.045*\"...\n",
              "1      1  0.078*\"photography\" + 0.069*\"white\" + 0.053*\"o...\n",
              "2      2  0.071*\"outerwear\" + 0.036*\"photography\" + 0.03...\n",
              "3      3  0.061*\"shoulder\" + 0.058*\"outerwear\" + 0.053*\"...\n",
              "4      4  0.071*\"photography\" + 0.043*\"beauty\" + 0.040*\"..."
            ]
          },
          "metadata": {
            "tags": []
          },
          "execution_count": 76
        }
      ]
    },
    {
      "cell_type": "code",
      "metadata": {
        "id": "TbBNLG5yrLoD"
      },
      "source": [
        "#Store dataframe as a csv\n",
        "#Stores word weights for each topic as a file task.\n",
        "lda_df.to_csv('Word_Weights_for_Topics.csv')"
      ],
      "execution_count": null,
      "outputs": []
    },
    {
      "cell_type": "code",
      "metadata": {
        "id": "sN9XHDQ2rLru"
      },
      "source": [
        "image_vecs = []\n",
        "#Iterate through every image in the document and get the vector for the topic weights for each image\n",
        "for i in range(len(df_z.labels_tokens)):\n",
        "    top_topics = lda_model.get_document_topics(corpus[i], minimum_probability=0.0)\n",
        "    topic_vec = [top_topics[i][1] for i in range(len(lda_df))]\n",
        "    image_vecs.append(topic_vec)"
      ],
      "execution_count": null,
      "outputs": []
    },
    {
      "cell_type": "code",
      "metadata": {
        "id": "CKPwRj50rLjQ"
      },
      "source": [
        "image_vec_df = pd.DataFrame(image_vecs)\n",
        "image_vec_df.columns = ['topic0','topic1','topic2','topic3','topic4']"
      ],
      "execution_count": null,
      "outputs": []
    },
    {
      "cell_type": "code",
      "metadata": {
        "id": "ghpKsDb-rLWw"
      },
      "source": [
        "#Put in the weights for each image in a dataframe\n",
        "df_z_weights =pd.concat([df_z.reset_index(drop=True), image_vec_df.reset_index(drop=True)], axis=1)"
      ],
      "execution_count": null,
      "outputs": []
    },
    {
      "cell_type": "code",
      "metadata": {
        "id": "jIcy4bitrLIS"
      },
      "source": [
        "df_z_weights.to_csv('Image_Topic_Weights.csv')"
      ],
      "execution_count": null,
      "outputs": []
    },
    {
      "cell_type": "code",
      "metadata": {
        "id": "qZwjz51rrYK5"
      },
      "source": [
        "#Use numpy's percentiles to get things into quartiles.\n",
        "q1=np.percentile(df_z_weights.engage_scores, 25) \n",
        "q2=np.percentile(df_z_weights.engage_scores, 50)  \n",
        "q3=np.percentile(df_z_weights.engage_scores, 75)"
      ],
      "execution_count": null,
      "outputs": []
    },
    {
      "cell_type": "code",
      "metadata": {
        "id": "Doo_J3kLrYS_"
      },
      "source": [
        "top_quartile = df_z_weights[df_z_weights['engage_scores']>q3]"
      ],
      "execution_count": null,
      "outputs": []
    },
    {
      "cell_type": "code",
      "metadata": {
        "id": "wspspT2hrYaj",
        "colab": {
          "base_uri": "https://localhost:8080/",
          "height": 649
        },
        "outputId": "a40bb12b-dd34-4095-b391-f7e56e77fedc"
      },
      "source": [
        "top_quartile.sort_values(by ='engage_scores', ascending = False).head()"
      ],
      "execution_count": null,
      "outputs": [
        {
          "output_type": "execute_result",
          "data": {
            "text/html": [
              "<div>\n",
              "<style scoped>\n",
              "    .dataframe tbody tr th:only-of-type {\n",
              "        vertical-align: middle;\n",
              "    }\n",
              "\n",
              "    .dataframe tbody tr th {\n",
              "        vertical-align: top;\n",
              "    }\n",
              "\n",
              "    .dataframe thead th {\n",
              "        text-align: right;\n",
              "    }\n",
              "</style>\n",
              "<table border=\"1\" class=\"dataframe\">\n",
              "  <thead>\n",
              "    <tr style=\"text-align: right;\">\n",
              "      <th></th>\n",
              "      <th>index</th>\n",
              "      <th>Unnamed: 0.1</th>\n",
              "      <th>post_url</th>\n",
              "      <th>num_comments</th>\n",
              "      <th>num_likes</th>\n",
              "      <th>caption</th>\n",
              "      <th>image_url</th>\n",
              "      <th>is_video</th>\n",
              "      <th>labels</th>\n",
              "      <th>labels_str</th>\n",
              "      <th>comment_norm</th>\n",
              "      <th>likes_norm</th>\n",
              "      <th>engage_scores</th>\n",
              "      <th>engagement_metr</th>\n",
              "      <th>caption+labels</th>\n",
              "      <th>labels_tokens</th>\n",
              "      <th>topic0</th>\n",
              "      <th>topic1</th>\n",
              "      <th>topic2</th>\n",
              "      <th>topic3</th>\n",
              "      <th>topic4</th>\n",
              "    </tr>\n",
              "  </thead>\n",
              "  <tbody>\n",
              "    <tr>\n",
              "      <th>121</th>\n",
              "      <td>148</td>\n",
              "      <td>148</td>\n",
              "      <td>https://www.instagram.com/p/CA5y1ovhdXV/</td>\n",
              "      <td>3246</td>\n",
              "      <td>85040</td>\n",
              "      <td>We stand for equality</td>\n",
              "      <td>https://scontent-ort2-1.cdninstagram.com/v/t51...</td>\n",
              "      <td>False</td>\n",
              "      <td>['Text', 'Black', 'Font', 'Darkness', 'Light',...</td>\n",
              "      <td>text black font darkness light logo black-and-...</td>\n",
              "      <td>1.000000</td>\n",
              "      <td>0.290144</td>\n",
              "      <td>0.716058</td>\n",
              "      <td>1</td>\n",
              "      <td>We stand for equality text black font darkness...</td>\n",
              "      <td>[text, black, font, darkness, light, logo, sky...</td>\n",
              "      <td>0.052301</td>\n",
              "      <td>0.795679</td>\n",
              "      <td>0.050498</td>\n",
              "      <td>0.050887</td>\n",
              "      <td>0.050635</td>\n",
              "    </tr>\n",
              "    <tr>\n",
              "      <th>294</th>\n",
              "      <td>371</td>\n",
              "      <td>371</td>\n",
              "      <td>https://www.instagram.com/p/B4o4mwQir5I/</td>\n",
              "      <td>873</td>\n",
              "      <td>268939</td>\n",
              "      <td>Celebrate yourself this season! #zaratrf Thank...</td>\n",
              "      <td>https://scontent-ort2-1.cdninstagram.com/v/t51...</td>\n",
              "      <td>False</td>\n",
              "      <td>['Clothing', 'Sitting', 'Beauty', 'Photo shoot...</td>\n",
              "      <td>clothing sitting beauty photo shoot fashion fa...</td>\n",
              "      <td>0.268946</td>\n",
              "      <td>0.917580</td>\n",
              "      <td>0.528400</td>\n",
              "      <td>1</td>\n",
              "      <td>Celebrate yourself this season! #zaratrf Thank...</td>\n",
              "      <td>[clothing, sitting, beauty, photo, shoot, fash...</td>\n",
              "      <td>0.918284</td>\n",
              "      <td>0.020384</td>\n",
              "      <td>0.020302</td>\n",
              "      <td>0.020509</td>\n",
              "      <td>0.020521</td>\n",
              "    </tr>\n",
              "    <tr>\n",
              "      <th>346</th>\n",
              "      <td>443</td>\n",
              "      <td>443</td>\n",
              "      <td>https://www.instagram.com/p/B3EVc7GiY5k/</td>\n",
              "      <td>571</td>\n",
              "      <td>293096</td>\n",
              "      <td>The Autumn approaches and the Bourgeois trend ...</td>\n",
              "      <td>https://scontent-ort2-1.cdninstagram.com/v/t51...</td>\n",
              "      <td>False</td>\n",
              "      <td>['Clothing', 'Collar', 'Neck', 'Fashion', 'Out...</td>\n",
              "      <td>clothing collar neck fashion outerwear blouse ...</td>\n",
              "      <td>0.175909</td>\n",
              "      <td>1.000000</td>\n",
              "      <td>0.505545</td>\n",
              "      <td>1</td>\n",
              "      <td>The Autumn approaches and the Bourgeois trend ...</td>\n",
              "      <td>[clothing, collar, neck, fashion, outerwear, b...</td>\n",
              "      <td>0.534274</td>\n",
              "      <td>0.029156</td>\n",
              "      <td>0.029179</td>\n",
              "      <td>0.378063</td>\n",
              "      <td>0.029328</td>\n",
              "    </tr>\n",
              "    <tr>\n",
              "      <th>474</th>\n",
              "      <td>601</td>\n",
              "      <td>601</td>\n",
              "      <td>https://www.instagram.com/p/By27vPIiHi-/</td>\n",
              "      <td>2408</td>\n",
              "      <td>39559</td>\n",
              "      <td>ZARA SRPLS | New sweatshirts are now available...</td>\n",
              "      <td>https://scontent-ort2-1.cdninstagram.com/v/t51...</td>\n",
              "      <td>False</td>\n",
              "      <td>['Clothing', 'T-shirt', 'Sleeve', 'Neck', 'Lon...</td>\n",
              "      <td>clothing t-shirt sleeve neck long-sleeved t-sh...</td>\n",
              "      <td>0.741836</td>\n",
              "      <td>0.134969</td>\n",
              "      <td>0.499089</td>\n",
              "      <td>1</td>\n",
              "      <td>ZARA SRPLS | New sweatshirts are now available...</td>\n",
              "      <td>[clothing, sleeve, neck, shoulder, pink, outer...</td>\n",
              "      <td>0.025876</td>\n",
              "      <td>0.025489</td>\n",
              "      <td>0.025859</td>\n",
              "      <td>0.897383</td>\n",
              "      <td>0.025392</td>\n",
              "    </tr>\n",
              "    <tr>\n",
              "      <th>298</th>\n",
              "      <td>375</td>\n",
              "      <td>375</td>\n",
              "      <td>https://www.instagram.com/p/B4kq2FKCT8E/</td>\n",
              "      <td>682</td>\n",
              "      <td>264309</td>\n",
              "      <td>It's party night! Get ready with our latest ed...</td>\n",
              "      <td>https://scontent-ort2-1.cdninstagram.com/v/t51...</td>\n",
              "      <td>False</td>\n",
              "      <td>['Clothing', 'Fashion model', 'Tights', 'Leggi...</td>\n",
              "      <td>clothing fashion model tights leggings shoulde...</td>\n",
              "      <td>0.210105</td>\n",
              "      <td>0.901783</td>\n",
              "      <td>0.486776</td>\n",
              "      <td>1</td>\n",
              "      <td>It's party night! Get ready with our latest ed...</td>\n",
              "      <td>[clothing, fashion, model, tights, leggings, s...</td>\n",
              "      <td>0.029522</td>\n",
              "      <td>0.028997</td>\n",
              "      <td>0.030958</td>\n",
              "      <td>0.880932</td>\n",
              "      <td>0.029591</td>\n",
              "    </tr>\n",
              "  </tbody>\n",
              "</table>\n",
              "</div>"
            ],
            "text/plain": [
              "     index  Unnamed: 0.1  ...    topic3    topic4\n",
              "121    148           148  ...  0.050887  0.050635\n",
              "294    371           371  ...  0.020509  0.020521\n",
              "346    443           443  ...  0.378063  0.029328\n",
              "474    601           601  ...  0.897383  0.025392\n",
              "298    375           375  ...  0.880932  0.029591\n",
              "\n",
              "[5 rows x 21 columns]"
            ]
          },
          "metadata": {
            "tags": []
          },
          "execution_count": 83
        }
      ]
    },
    {
      "cell_type": "code",
      "metadata": {
        "id": "MPq8-XQIrYio"
      },
      "source": [
        "top_quartile_average_weights = top_quartile[[\"topic0\",'topic1',\"topic2\",'topic3',\"topic4\"]].mean(axis=0)"
      ],
      "execution_count": null,
      "outputs": []
    },
    {
      "cell_type": "code",
      "metadata": {
        "id": "jZStWZdXrYfa",
        "colab": {
          "base_uri": "https://localhost:8080/",
          "height": 119
        },
        "outputId": "9140d779-417d-4ca8-9558-4f568f19d128"
      },
      "source": [
        "top_quartile_average_weights"
      ],
      "execution_count": null,
      "outputs": [
        {
          "output_type": "execute_result",
          "data": {
            "text/plain": [
              "topic0    0.247330\n",
              "topic1    0.177471\n",
              "topic2    0.076464\n",
              "topic3    0.350597\n",
              "topic4    0.148138\n",
              "dtype: float64"
            ]
          },
          "metadata": {
            "tags": []
          },
          "execution_count": 84
        }
      ]
    },
    {
      "cell_type": "code",
      "metadata": {
        "id": "i2l5rWsZrYX9"
      },
      "source": [
        "bottom_quartile = df_z_weights[df_z_weights['engage_scores']<q1]"
      ],
      "execution_count": null,
      "outputs": []
    },
    {
      "cell_type": "code",
      "metadata": {
        "id": "8oMpRKs-rYQD",
        "colab": {
          "base_uri": "https://localhost:8080/",
          "height": 632
        },
        "outputId": "9d1f1f15-3449-4aed-c170-889a668362ac"
      },
      "source": [
        "bottom_quartile.sort_values(by ='engage_scores', ascending = True).head()"
      ],
      "execution_count": null,
      "outputs": [
        {
          "output_type": "execute_result",
          "data": {
            "text/html": [
              "<div>\n",
              "<style scoped>\n",
              "    .dataframe tbody tr th:only-of-type {\n",
              "        vertical-align: middle;\n",
              "    }\n",
              "\n",
              "    .dataframe tbody tr th {\n",
              "        vertical-align: top;\n",
              "    }\n",
              "\n",
              "    .dataframe thead th {\n",
              "        text-align: right;\n",
              "    }\n",
              "</style>\n",
              "<table border=\"1\" class=\"dataframe\">\n",
              "  <thead>\n",
              "    <tr style=\"text-align: right;\">\n",
              "      <th></th>\n",
              "      <th>index</th>\n",
              "      <th>Unnamed: 0.1</th>\n",
              "      <th>post_url</th>\n",
              "      <th>num_comments</th>\n",
              "      <th>num_likes</th>\n",
              "      <th>caption</th>\n",
              "      <th>image_url</th>\n",
              "      <th>is_video</th>\n",
              "      <th>labels</th>\n",
              "      <th>labels_str</th>\n",
              "      <th>comment_norm</th>\n",
              "      <th>likes_norm</th>\n",
              "      <th>engage_scores</th>\n",
              "      <th>engagement_metr</th>\n",
              "      <th>caption+labels</th>\n",
              "      <th>labels_tokens</th>\n",
              "      <th>topic0</th>\n",
              "      <th>topic1</th>\n",
              "      <th>topic2</th>\n",
              "      <th>topic3</th>\n",
              "      <th>topic4</th>\n",
              "    </tr>\n",
              "  </thead>\n",
              "  <tbody>\n",
              "    <tr>\n",
              "      <th>340</th>\n",
              "      <td>436</td>\n",
              "      <td>436</td>\n",
              "      <td>https://www.instagram.com/p/B3Uwi2cilmC/</td>\n",
              "      <td>75</td>\n",
              "      <td>20539</td>\n",
              "      <td>ZARA SRPLS | CLLCTN 03 | DRP01 available tomor...</td>\n",
              "      <td>https://scontent-ort2-1.cdninstagram.com/v/t51...</td>\n",
              "      <td>False</td>\n",
              "      <td>['Military uniform', 'Design', 'Soldier', 'Pat...</td>\n",
              "      <td>military uniform design soldier pattern unifor...</td>\n",
              "      <td>0.023105</td>\n",
              "      <td>0.070076</td>\n",
              "      <td>0.041894</td>\n",
              "      <td>0</td>\n",
              "      <td>ZARA SRPLS | CLLCTN 03 | DRP01 available tomor...</td>\n",
              "      <td>[military, uniform, design, soldier, pattern, ...</td>\n",
              "      <td>0.040392</td>\n",
              "      <td>0.040583</td>\n",
              "      <td>0.040571</td>\n",
              "      <td>0.837059</td>\n",
              "      <td>0.041395</td>\n",
              "    </tr>\n",
              "    <tr>\n",
              "      <th>548</th>\n",
              "      <td>683</td>\n",
              "      <td>683</td>\n",
              "      <td>https://www.instagram.com/p/BxKU6d8hsbT/</td>\n",
              "      <td>87</td>\n",
              "      <td>18930</td>\n",
              "      <td>ZARA SRPLS | Next chapter | DRP02\\nA limited e...</td>\n",
              "      <td>https://scontent-ort2-1.cdninstagram.com/v/t51...</td>\n",
              "      <td>False</td>\n",
              "      <td>['Clothing', 'Fashion', 'Dress', 'Footwear', '...</td>\n",
              "      <td>clothing fashion dress footwear waist leg desi...</td>\n",
              "      <td>0.026802</td>\n",
              "      <td>0.064586</td>\n",
              "      <td>0.041916</td>\n",
              "      <td>0</td>\n",
              "      <td>ZARA SRPLS | Next chapter | DRP02\\nA limited e...</td>\n",
              "      <td>[clothing, fashion, dress, footwear, waist, le...</td>\n",
              "      <td>0.022623</td>\n",
              "      <td>0.022492</td>\n",
              "      <td>0.022480</td>\n",
              "      <td>0.909519</td>\n",
              "      <td>0.022886</td>\n",
              "    </tr>\n",
              "    <tr>\n",
              "      <th>547</th>\n",
              "      <td>682</td>\n",
              "      <td>682</td>\n",
              "      <td>https://www.instagram.com/p/BxK0ivNhBOg/</td>\n",
              "      <td>113</td>\n",
              "      <td>19726</td>\n",
              "      <td>ZARA SRPLS | Next chapter | DRP02\\nThis is a l...</td>\n",
              "      <td>https://scontent-ort2-1.cdninstagram.com/v/t51...</td>\n",
              "      <td>False</td>\n",
              "      <td>['Hair', 'Face', 'Hairstyle', 'Fashion model',...</td>\n",
              "      <td>hair face hairstyle fashion model eyebrow fash...</td>\n",
              "      <td>0.034812</td>\n",
              "      <td>0.067302</td>\n",
              "      <td>0.047808</td>\n",
              "      <td>0</td>\n",
              "      <td>ZARA SRPLS | Next chapter | DRP02\\nThis is a l...</td>\n",
              "      <td>[hair, face, hairstyle, fashion, model, eyebro...</td>\n",
              "      <td>0.020525</td>\n",
              "      <td>0.020171</td>\n",
              "      <td>0.020180</td>\n",
              "      <td>0.020308</td>\n",
              "      <td>0.918815</td>\n",
              "    </tr>\n",
              "    <tr>\n",
              "      <th>529</th>\n",
              "      <td>662</td>\n",
              "      <td>662</td>\n",
              "      <td>https://www.instagram.com/p/BxhgPUKipTO/</td>\n",
              "      <td>86</td>\n",
              "      <td>23715</td>\n",
              "      <td>#ZARATRIBE Meet @dylanfender “At this moment i...</td>\n",
              "      <td>https://scontent-ort2-1.cdninstagram.com/v/t51...</td>\n",
              "      <td>False</td>\n",
              "      <td>['Eating', 'Food', 'Dish', 'Fast food', 'Cuisi...</td>\n",
              "      <td>eating food dish fast food cuisine junk food m...</td>\n",
              "      <td>0.026494</td>\n",
              "      <td>0.080912</td>\n",
              "      <td>0.048261</td>\n",
              "      <td>0</td>\n",
              "      <td>#ZARATRIBE Meet @dylanfender “At this moment i...</td>\n",
              "      <td>[eating, food, dish, fast, food, cuisine, junk...</td>\n",
              "      <td>0.200000</td>\n",
              "      <td>0.200000</td>\n",
              "      <td>0.200000</td>\n",
              "      <td>0.200000</td>\n",
              "      <td>0.200000</td>\n",
              "    </tr>\n",
              "    <tr>\n",
              "      <th>549</th>\n",
              "      <td>684</td>\n",
              "      <td>684</td>\n",
              "      <td>https://www.instagram.com/p/BxJ7CyChdbN/</td>\n",
              "      <td>96</td>\n",
              "      <td>23277</td>\n",
              "      <td>ZARA SRPLS | Next chapter | DRP02\\nThis second...</td>\n",
              "      <td>https://scontent-ort2-1.cdninstagram.com/v/t51...</td>\n",
              "      <td>False</td>\n",
              "      <td>['Hair', 'Face', 'Hairstyle', 'Eyebrow', 'Chin...</td>\n",
              "      <td>hair face hairstyle eyebrow chin long hair fas...</td>\n",
              "      <td>0.029575</td>\n",
              "      <td>0.079418</td>\n",
              "      <td>0.049512</td>\n",
              "      <td>0</td>\n",
              "      <td>ZARA SRPLS | Next chapter | DRP02\\nThis second...</td>\n",
              "      <td>[hair, face, hairstyle, eyebrow, chin, long, h...</td>\n",
              "      <td>0.020626</td>\n",
              "      <td>0.020357</td>\n",
              "      <td>0.020125</td>\n",
              "      <td>0.020374</td>\n",
              "      <td>0.918518</td>\n",
              "    </tr>\n",
              "  </tbody>\n",
              "</table>\n",
              "</div>"
            ],
            "text/plain": [
              "     index  Unnamed: 0.1  ...    topic3    topic4\n",
              "340    436           436  ...  0.837059  0.041395\n",
              "548    683           683  ...  0.909519  0.022886\n",
              "547    682           682  ...  0.020308  0.918815\n",
              "529    662           662  ...  0.200000  0.200000\n",
              "549    684           684  ...  0.020374  0.918518\n",
              "\n",
              "[5 rows x 21 columns]"
            ]
          },
          "metadata": {
            "tags": []
          },
          "execution_count": 85
        }
      ]
    },
    {
      "cell_type": "code",
      "metadata": {
        "id": "gxkLXIN4rX_H"
      },
      "source": [
        "bottom_quartile_average_weights = bottom_quartile[[\"topic0\",'topic1',\"topic2\",'topic3',\"topic4\"]].mean(axis=0)"
      ],
      "execution_count": null,
      "outputs": []
    },
    {
      "cell_type": "code",
      "metadata": {
        "id": "3AA97hZtrlsZ",
        "colab": {
          "base_uri": "https://localhost:8080/",
          "height": 119
        },
        "outputId": "c8274ad9-db4b-4738-fd7d-7275131eb4f7"
      },
      "source": [
        "bottom_quartile_average_weights"
      ],
      "execution_count": null,
      "outputs": [
        {
          "output_type": "execute_result",
          "data": {
            "text/plain": [
              "topic0    0.163466\n",
              "topic1    0.177368\n",
              "topic2    0.157826\n",
              "topic3    0.208403\n",
              "topic4    0.292936\n",
              "dtype: float64"
            ]
          },
          "metadata": {
            "tags": []
          },
          "execution_count": 86
        }
      ]
    },
    {
      "cell_type": "code",
      "metadata": {
        "id": "VPtl2z2Erl0z"
      },
      "source": [
        "quartile_topics = pd.concat([top_quartile_average_weights,bottom_quartile_average_weights],axis=1)\n",
        "quartile_topics.columns = ['Top Quartile','Bottom Quartile']"
      ],
      "execution_count": null,
      "outputs": []
    },
    {
      "cell_type": "code",
      "metadata": {
        "id": "caGQ1a4crl8s",
        "colab": {
          "base_uri": "https://localhost:8080/",
          "height": 204
        },
        "outputId": "c6dbf57c-56a0-4cd3-a18a-58b790ac3240"
      },
      "source": [
        "quartile_topics"
      ],
      "execution_count": null,
      "outputs": [
        {
          "output_type": "execute_result",
          "data": {
            "text/html": [
              "<div>\n",
              "<style scoped>\n",
              "    .dataframe tbody tr th:only-of-type {\n",
              "        vertical-align: middle;\n",
              "    }\n",
              "\n",
              "    .dataframe tbody tr th {\n",
              "        vertical-align: top;\n",
              "    }\n",
              "\n",
              "    .dataframe thead th {\n",
              "        text-align: right;\n",
              "    }\n",
              "</style>\n",
              "<table border=\"1\" class=\"dataframe\">\n",
              "  <thead>\n",
              "    <tr style=\"text-align: right;\">\n",
              "      <th></th>\n",
              "      <th>Top Quartile</th>\n",
              "      <th>Bottom Quartile</th>\n",
              "    </tr>\n",
              "  </thead>\n",
              "  <tbody>\n",
              "    <tr>\n",
              "      <th>topic0</th>\n",
              "      <td>0.247330</td>\n",
              "      <td>0.163466</td>\n",
              "    </tr>\n",
              "    <tr>\n",
              "      <th>topic1</th>\n",
              "      <td>0.177471</td>\n",
              "      <td>0.177368</td>\n",
              "    </tr>\n",
              "    <tr>\n",
              "      <th>topic2</th>\n",
              "      <td>0.076464</td>\n",
              "      <td>0.157826</td>\n",
              "    </tr>\n",
              "    <tr>\n",
              "      <th>topic3</th>\n",
              "      <td>0.350597</td>\n",
              "      <td>0.208403</td>\n",
              "    </tr>\n",
              "    <tr>\n",
              "      <th>topic4</th>\n",
              "      <td>0.148138</td>\n",
              "      <td>0.292936</td>\n",
              "    </tr>\n",
              "  </tbody>\n",
              "</table>\n",
              "</div>"
            ],
            "text/plain": [
              "        Top Quartile  Bottom Quartile\n",
              "topic0      0.247330         0.163466\n",
              "topic1      0.177471         0.177368\n",
              "topic2      0.076464         0.157826\n",
              "topic3      0.350597         0.208403\n",
              "topic4      0.148138         0.292936"
            ]
          },
          "metadata": {
            "tags": []
          },
          "execution_count": 87
        }
      ]
    },
    {
      "cell_type": "code",
      "metadata": {
        "id": "55TyXiIorlpI",
        "colab": {
          "base_uri": "https://localhost:8080/",
          "height": 35
        },
        "outputId": "834a44af-e101-4868-80da-ee5d0903e99f"
      },
      "source": [
        "lda_df['Word Weights'][0]\n"
      ],
      "execution_count": null,
      "outputs": [
        {
          "output_type": "execute_result",
          "data": {
            "application/vnd.google.colaboratory.intrinsic+json": {
              "type": "string"
            },
            "text/plain": [
              "'0.055*\"photography\" + 0.046*\"beauty\" + 0.045*\"shoulder\" + 0.045*\"leg\" + 0.044*\"hair\" + 0.036*\"photo_shoot\" + 0.036*\"black\" + 0.033*\"sitting\" + 0.029*\"human\" + 0.027*\"outerwear\"'"
            ]
          },
          "metadata": {
            "tags": []
          },
          "execution_count": 71
        }
      ]
    },
    {
      "cell_type": "code",
      "metadata": {
        "id": "7hQNC1vv158I",
        "colab": {
          "base_uri": "https://localhost:8080/",
          "height": 35
        },
        "outputId": "7554b6d8-6c84-49a9-9dab-a2a043e2f834"
      },
      "source": [
        "lda_df['Word Weights'][1]"
      ],
      "execution_count": null,
      "outputs": [
        {
          "output_type": "execute_result",
          "data": {
            "application/vnd.google.colaboratory.intrinsic+json": {
              "type": "string"
            },
            "text/plain": [
              "'0.078*\"photography\" + 0.069*\"white\" + 0.053*\"outerwear\" + 0.037*\"leg\" + 0.036*\"sitting\" + 0.030*\"monochrome\" + 0.024*\"suit\" + 0.023*\"photo_shoot\" + 0.023*\"standing\" + 0.023*\"beauty\"'"
            ]
          },
          "metadata": {
            "tags": []
          },
          "execution_count": 72
        }
      ]
    },
    {
      "cell_type": "code",
      "metadata": {
        "id": "GXhhPwB816jY",
        "colab": {
          "base_uri": "https://localhost:8080/",
          "height": 35
        },
        "outputId": "3ebd79c2-9385-43d6-b266-7ed30bb61917"
      },
      "source": [
        "lda_df['Word Weights'][2]"
      ],
      "execution_count": null,
      "outputs": [
        {
          "output_type": "execute_result",
          "data": {
            "application/vnd.google.colaboratory.intrinsic+json": {
              "type": "string"
            },
            "text/plain": [
              "'0.071*\"outerwear\" + 0.036*\"photography\" + 0.036*\"snapshot\" + 0.034*\"footwear\" + 0.031*\"beauty\" + 0.030*\"jacket\" + 0.029*\"shoe\" + 0.026*\"standing\" + 0.026*\"blazer\" + 0.023*\"street\"'"
            ]
          },
          "metadata": {
            "tags": []
          },
          "execution_count": 73
        }
      ]
    },
    {
      "cell_type": "code",
      "metadata": {
        "id": "6R4qH47V16MT",
        "colab": {
          "base_uri": "https://localhost:8080/",
          "height": 35
        },
        "outputId": "7b16b067-a4ae-4dac-d854-d43cab431b7d"
      },
      "source": [
        "lda_df['Word Weights'][3]"
      ],
      "execution_count": null,
      "outputs": [
        {
          "output_type": "execute_result",
          "data": {
            "application/vnd.google.colaboratory.intrinsic+json": {
              "type": "string"
            },
            "text/plain": [
              "'0.061*\"shoulder\" + 0.058*\"outerwear\" + 0.053*\"model\" + 0.052*\"dress\" + 0.034*\"neck\" + 0.032*\"standing\" + 0.028*\"hair\" + 0.028*\"photography\" + 0.027*\"leg\" + 0.026*\"beauty\"'"
            ]
          },
          "metadata": {
            "tags": []
          },
          "execution_count": 74
        }
      ]
    },
    {
      "cell_type": "code",
      "metadata": {
        "id": "4BX8fegj15sD",
        "colab": {
          "base_uri": "https://localhost:8080/",
          "height": 35
        },
        "outputId": "4309067e-7121-466f-c66f-74fa2f189527"
      },
      "source": [
        "lda_df['Word Weights'][4]"
      ],
      "execution_count": null,
      "outputs": [
        {
          "output_type": "execute_result",
          "data": {
            "application/vnd.google.colaboratory.intrinsic+json": {
              "type": "string"
            },
            "text/plain": [
              "'0.071*\"photography\" + 0.043*\"beauty\" + 0.040*\"model\" + 0.039*\"design\" + 0.033*\"child\" + 0.028*\"outerwear\" + 0.027*\"face\" + 0.023*\"leg\" + 0.022*\"hair\" + 0.022*\"sitting\"'"
            ]
          },
          "metadata": {
            "tags": []
          },
          "execution_count": 75
        }
      ]
    },
    {
      "cell_type": "markdown",
      "metadata": {
        "id": "rZYZQA8gtTHS"
      },
      "source": [
        "# Task D. What advice would you give Zara if it wants to increase engagement on its Instagram page based on your findings in Tasks B and C?   "
      ]
    },
    {
      "cell_type": "markdown",
      "metadata": {
        "id": "DsacZZF7003E"
      },
      "source": [
        "From our LDA we can conclude that topic 3 had the highest engagement score.\n",
        "Topic 2 had the lowest engagement score.\n",
        "\n",
        "Looking at just our high engagement posts, we see that shoulder is the highest score for topic and when we look at topic 3 we can see that shoulder is absent. This leads us to belive that shoulder is a really important attribute to focus on which leads us to belive that showing more skin or more revealing clothing is generally preferred and draws higher attention from the customers. When looking at topic 2 we see that jacket and blazer gets lower engagement scores which makes sense considering our previous finding that tells us that showing more skin leads to higher engagement. Topic 2 also includes standing as an important attribute and this lead to topic 2 having a lower engagement. Models also appear to be important topic for higher engagement as they have high score in many of the high engagment topics. At the highest level of fashion clothes are displayed on a runway, where models are active and walking. \n",
        "\n",
        "From task B we can determine that the inclusion of captions improved accuracy from 66.3% without captions to 70.7% with captions included. Therefore, we would definitely recommend Zara to include captions in any analytics they may be doing to increase engagement. Including the captions would help narrow down the specific attributes that influence engagement the most.\n",
        "\n",
        "\n",
        "\n"
      ]
    }
  ]
}