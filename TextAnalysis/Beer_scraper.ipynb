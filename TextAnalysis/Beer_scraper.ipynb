{
  "nbformat": 4,
  "nbformat_minor": 0,
  "metadata": {
    "kernelspec": {
      "display_name": "Python 3",
      "language": "python",
      "name": "python3"
    },
    "language_info": {
      "codemirror_mode": {
        "name": "ipython",
        "version": 3
      },
      "file_extension": ".py",
      "mimetype": "text/x-python",
      "name": "python",
      "nbconvert_exporter": "python",
      "pygments_lexer": "ipython3",
      "version": "3.8.3"
    },
    "colab": {
      "name": "Beer scraper.ipynb",
      "provenance": []
    }
  },
  "cells": [
    {
      "cell_type": "code",
      "metadata": {
        "id": "wfRKrcLN_ic3",
        "colab": {
          "base_uri": "https://localhost:8080/",
          "height": 353
        },
        "outputId": "03fc32d3-886d-4c40-9f83-2b9b2f25dc84"
      },
      "source": [
        "!pip install selenium\n",
        "!apt-get -q update # to update ubuntu to correctly run apt install\n",
        "!apt install -yq chromium-chromedriver\n",
        "!cp /usr/lib/chromium-browser/chromedriver /usr/bin"
      ],
      "execution_count": null,
      "outputs": [
        {
          "output_type": "stream",
          "text": [
            "Requirement already satisfied: selenium in /usr/local/lib/python3.6/dist-packages (3.141.0)\n",
            "Requirement already satisfied: urllib3 in /usr/local/lib/python3.6/dist-packages (from selenium) (1.24.3)\n",
            "Ign:1 https://developer.download.nvidia.com/compute/cuda/repos/ubuntu1804/x86_64  InRelease\n",
            "Hit:2 https://cloud.r-project.org/bin/linux/ubuntu bionic-cran40/ InRelease\n",
            "Ign:3 https://developer.download.nvidia.com/compute/machine-learning/repos/ubuntu1804/x86_64  InRelease\n",
            "Hit:4 http://security.ubuntu.com/ubuntu bionic-security InRelease\n",
            "Hit:5 http://ppa.launchpad.net/c2d4u.team/c2d4u4.0+/ubuntu bionic InRelease\n",
            "Hit:6 http://archive.ubuntu.com/ubuntu bionic InRelease\n",
            "Hit:7 https://developer.download.nvidia.com/compute/cuda/repos/ubuntu1804/x86_64  Release\n",
            "Hit:8 https://developer.download.nvidia.com/compute/machine-learning/repos/ubuntu1804/x86_64  Release\n",
            "Hit:9 http://archive.ubuntu.com/ubuntu bionic-updates InRelease\n",
            "Hit:10 http://ppa.launchpad.net/graphics-drivers/ppa/ubuntu bionic InRelease\n",
            "Hit:11 http://archive.ubuntu.com/ubuntu bionic-backports InRelease\n",
            "Reading package lists...\n",
            "Reading package lists...\n",
            "Building dependency tree...\n",
            "Reading state information...\n",
            "chromium-chromedriver is already the newest version (85.0.4183.121-0ubuntu0.18.04.1).\n",
            "0 upgraded, 0 newly installed, 0 to remove and 7 not upgraded.\n",
            "cp: '/usr/lib/chromium-browser/chromedriver' and '/usr/bin/chromedriver' are the same file\n"
          ],
          "name": "stdout"
        }
      ]
    },
    {
      "cell_type": "code",
      "metadata": {
        "id": "XJMSOvxU_YVS"
      },
      "source": [
        "#Importing packages\n",
        "import sys\n",
        "sys.path.insert(0,'/usr/lib/chromium-browser/chromedriver')\n",
        "from selenium import webdriver\n",
        "chrome_options = webdriver.ChromeOptions()\n",
        "chrome_options.add_argument('--headless')\n",
        "chrome_options.add_argument('--no-sandbox')\n",
        "chrome_options.add_argument('--disable-dev-shm-usage')\n",
        "import pandas as pd"
      ],
      "execution_count": null,
      "outputs": []
    },
    {
      "cell_type": "code",
      "metadata": {
        "id": "f7yTQ8zP_YVX"
      },
      "source": [
        "#load in driver\n",
        "driver = webdriver.Chrome('chromedriver', options=chrome_options)"
      ],
      "execution_count": null,
      "outputs": []
    },
    {
      "cell_type": "code",
      "metadata": {
        "id": "aGdozq3H_YVc"
      },
      "source": [
        "driver.get('https://www.beeradvocate.com/beer/top-rated/')"
      ],
      "execution_count": null,
      "outputs": []
    },
    {
      "cell_type": "code",
      "metadata": {
        "id": "zF6GQ8NZ_YVf",
        "colab": {
          "base_uri": "https://localhost:8080/",
          "height": 50
        },
        "outputId": "4ae88cf3-866d-4dbf-8ba7-e0fbbcb1f6ba"
      },
      "source": [
        "%%time\n",
        "\n",
        "# create beer list for web scraper\n",
        "beer_list = []\n",
        "\n",
        "x = 2\n",
        "while x < 252:\n",
        "    beer = driver.find_elements_by_xpath(\"//*[@id='ba-content']/table/tbody/tr[{}]/td[2]/a/b\".format(x))[0].text\n",
        "    beer_list.append(beer)\n",
        "    x += 1"
      ],
      "execution_count": null,
      "outputs": [
        {
          "output_type": "stream",
          "text": [
            "CPU times: user 562 ms, sys: 26.7 ms, total: 589 ms\n",
            "Wall time: 10.6 s\n"
          ],
          "name": "stdout"
        }
      ]
    },
    {
      "cell_type": "code",
      "metadata": {
        "id": "PGQnxrvt_YVj",
        "colab": {
          "base_uri": "https://localhost:8080/",
          "height": 34
        },
        "outputId": "53d59d18-2867-4516-9e97-5b878d121ec6"
      },
      "source": [
        "len(beer_list)"
      ],
      "execution_count": null,
      "outputs": [
        {
          "output_type": "execute_result",
          "data": {
            "text/plain": [
              "250"
            ]
          },
          "metadata": {
            "tags": []
          },
          "execution_count": 6
        }
      ]
    },
    {
      "cell_type": "code",
      "metadata": {
        "id": "eVJYMzYDAHyk"
      },
      "source": [
        "beer_list2 = beer_list[0:2]"
      ],
      "execution_count": null,
      "outputs": []
    },
    {
      "cell_type": "markdown",
      "metadata": {
        "id": "sAyOYw6BBkyF"
      },
      "source": [
        "//*[@id=\"rating_fullview_content_2\"]/span[2]"
      ]
    },
    {
      "cell_type": "code",
      "metadata": {
        "id": "t0eRHYNJ_YVn",
        "colab": {
          "base_uri": "https://localhost:8080/",
          "height": 1000
        },
        "outputId": "b002a746-12f3-42ca-9d5c-e39882966d7e"
      },
      "source": [
        "%%time\n",
        "all_comments = pd.DataFrame(columns = ['Product_name','product_review', 'user_ratings', \"overall_rating\"]) \n",
        "\n",
        "page = 0\n",
        "\n",
        "for beer in beer_list:\n",
        "    print(page)\n",
        "    \n",
        "    driver.find_element_by_link_text(\"{}\".format(beer)).click()\n",
        "    driver.implicitly_wait(1)\n",
        "     \n",
        "    ids = driver.find_elements_by_xpath(\"//*[@id='rating_fullview_user']/div/a\")\n",
        "    \n",
        "    rating = 0\n",
        "    \n",
        "    # not all beers have 25 reviews\n",
        "    while rating <= (len(ids) - 1):\n",
        "\n",
        "        product = beer\n",
        "        \n",
        "        # this gets the whole review with ratings and date, cant seem to figure out how to just get review\n",
        "        review = driver.find_elements_by_xpath(\"//*[@id='rating_fullview_content_2']\")[rating].text\n",
        "        \n",
        "        # this gets all of the ratings, dont exactly know which rating he wants \n",
        "        user_ratings = driver.find_elements_by_xpath(\"//*[@id='rating_fullview_content_2']/span[4]\")[rating].text\n",
        "        \n",
        "        # this gets the big overall rating, im guessing this is what rating he wants us to use\n",
        "        overall_rating = driver.find_elements_by_xpath(\"//*[@id='rating_fullview_content_2']/span[2]\")[rating].text\n",
        "\n",
        "        all_comments.loc[len(all_comments)] = [product,review,user_ratings,overall_rating]\n",
        "\n",
        "        rating += 1\n",
        "    \n",
        "    page += 1\n",
        "    driver.execute_script(\"window.history.go(-1)\")\n",
        "    driver.implicitly_wait(3)"
      ],
      "execution_count": null,
      "outputs": [
        {
          "output_type": "stream",
          "text": [
            "0\n",
            "1\n",
            "2\n",
            "3\n",
            "4\n",
            "5\n",
            "6\n",
            "7\n",
            "8\n",
            "9\n",
            "10\n",
            "11\n",
            "12\n",
            "13\n",
            "14\n",
            "15\n",
            "16\n",
            "17\n",
            "18\n",
            "19\n",
            "20\n",
            "21\n",
            "22\n",
            "23\n",
            "24\n",
            "25\n",
            "26\n",
            "27\n",
            "28\n",
            "29\n",
            "30\n",
            "31\n",
            "32\n",
            "33\n",
            "34\n",
            "35\n",
            "36\n",
            "37\n",
            "38\n",
            "39\n",
            "40\n",
            "41\n",
            "42\n",
            "43\n",
            "44\n",
            "45\n",
            "46\n",
            "47\n",
            "48\n",
            "49\n",
            "50\n",
            "51\n",
            "52\n",
            "53\n",
            "54\n",
            "55\n",
            "56\n",
            "57\n",
            "58\n",
            "59\n",
            "60\n",
            "61\n",
            "62\n",
            "63\n",
            "64\n",
            "65\n",
            "66\n",
            "67\n",
            "68\n",
            "69\n",
            "70\n",
            "71\n",
            "72\n",
            "73\n",
            "74\n",
            "75\n",
            "76\n",
            "77\n",
            "78\n",
            "79\n",
            "80\n",
            "81\n",
            "82\n",
            "83\n",
            "84\n",
            "85\n",
            "86\n",
            "87\n",
            "88\n",
            "89\n",
            "90\n",
            "91\n",
            "92\n",
            "93\n",
            "94\n",
            "95\n",
            "96\n",
            "97\n",
            "98\n",
            "99\n",
            "100\n",
            "101\n",
            "102\n",
            "103\n",
            "104\n",
            "105\n",
            "106\n",
            "107\n",
            "108\n",
            "109\n",
            "110\n",
            "111\n",
            "112\n",
            "113\n",
            "114\n",
            "115\n",
            "116\n",
            "117\n",
            "118\n",
            "119\n",
            "120\n",
            "121\n",
            "122\n",
            "123\n",
            "124\n",
            "125\n",
            "126\n",
            "127\n",
            "128\n",
            "129\n",
            "130\n",
            "131\n",
            "132\n",
            "133\n",
            "134\n",
            "135\n",
            "136\n",
            "137\n",
            "138\n",
            "139\n",
            "140\n",
            "141\n",
            "142\n",
            "143\n",
            "144\n",
            "145\n",
            "146\n",
            "147\n",
            "148\n",
            "149\n",
            "150\n",
            "151\n",
            "152\n",
            "153\n",
            "154\n",
            "155\n",
            "156\n",
            "157\n",
            "158\n",
            "159\n",
            "160\n",
            "161\n",
            "162\n",
            "163\n",
            "164\n",
            "165\n",
            "166\n",
            "167\n",
            "168\n",
            "169\n",
            "170\n",
            "171\n",
            "172\n",
            "173\n",
            "174\n",
            "175\n",
            "176\n",
            "177\n",
            "178\n",
            "179\n",
            "180\n",
            "181\n",
            "182\n",
            "183\n",
            "184\n",
            "185\n",
            "186\n",
            "187\n",
            "188\n",
            "189\n",
            "190\n",
            "191\n",
            "192\n",
            "193\n",
            "194\n",
            "195\n",
            "196\n",
            "197\n",
            "198\n",
            "199\n",
            "200\n",
            "201\n",
            "202\n",
            "203\n",
            "204\n",
            "205\n",
            "206\n",
            "207\n",
            "208\n",
            "209\n",
            "210\n",
            "211\n",
            "212\n",
            "213\n",
            "214\n",
            "215\n",
            "216\n",
            "217\n",
            "218\n",
            "219\n",
            "220\n",
            "221\n",
            "222\n",
            "223\n",
            "224\n",
            "225\n",
            "226\n",
            "227\n",
            "228\n",
            "229\n",
            "230\n",
            "231\n",
            "232\n",
            "233\n",
            "234\n",
            "235\n",
            "236\n",
            "237\n",
            "238\n",
            "239\n",
            "240\n",
            "241\n",
            "242\n",
            "243\n",
            "244\n",
            "245\n",
            "246\n",
            "247\n",
            "248\n",
            "249\n",
            "CPU times: user 1min 15s, sys: 2.5 s, total: 1min 18s\n",
            "Wall time: 18min 25s\n"
          ],
          "name": "stdout"
        }
      ]
    },
    {
      "cell_type": "code",
      "metadata": {
        "id": "0KTI5m7b_YVs"
      },
      "source": [
        "def clean_review(s):\n",
        "    string = s.splitlines()\n",
        "    string = list(filter(None, string))\n",
        "    del string[0:2]\n",
        "    del string[-2:]\n",
        "    return string"
      ],
      "execution_count": null,
      "outputs": []
    },
    {
      "cell_type": "code",
      "metadata": {
        "id": "3yUUJkJ4_YV0"
      },
      "source": [
        "all_comments[\"clean_review\"] = all_comments[\"product_review\"].map(clean_review)"
      ],
      "execution_count": null,
      "outputs": []
    },
    {
      "cell_type": "code",
      "metadata": {
        "id": "o0Fc2x7R_YV3",
        "colab": {
          "base_uri": "https://localhost:8080/",
          "height": 34
        },
        "outputId": "d7768b50-0a62-4725-f1d5-ac16f6fe2be0"
      },
      "source": [
        "all_comments.shape"
      ],
      "execution_count": null,
      "outputs": [
        {
          "output_type": "execute_result",
          "data": {
            "text/plain": [
              "(6205, 5)"
            ]
          },
          "metadata": {
            "tags": []
          },
          "execution_count": 16
        }
      ]
    },
    {
      "cell_type": "code",
      "metadata": {
        "id": "TEQKqT47_YV6",
        "colab": {
          "base_uri": "https://localhost:8080/",
          "height": 195
        },
        "outputId": "ab46d35d-641c-4f9f-ce2a-68c6a05b4ed0"
      },
      "source": [
        "all_comments.head()"
      ],
      "execution_count": null,
      "outputs": [
        {
          "output_type": "execute_result",
          "data": {
            "text/html": [
              "<div>\n",
              "<style scoped>\n",
              "    .dataframe tbody tr th:only-of-type {\n",
              "        vertical-align: middle;\n",
              "    }\n",
              "\n",
              "    .dataframe tbody tr th {\n",
              "        vertical-align: top;\n",
              "    }\n",
              "\n",
              "    .dataframe thead th {\n",
              "        text-align: right;\n",
              "    }\n",
              "</style>\n",
              "<table border=\"1\" class=\"dataframe\">\n",
              "  <thead>\n",
              "    <tr style=\"text-align: right;\">\n",
              "      <th></th>\n",
              "      <th>Product_name</th>\n",
              "      <th>product_review</th>\n",
              "      <th>user_ratings</th>\n",
              "      <th>overall_rating</th>\n",
              "      <th>clean_review</th>\n",
              "    </tr>\n",
              "  </thead>\n",
              "  <tbody>\n",
              "    <tr>\n",
              "      <th>0</th>\n",
              "      <td>Kentucky Brunch Brand Stout</td>\n",
              "      <td>HOPTOMIC_BOMB from California\\n\\n5/5  rDev +2%...</td>\n",
              "      <td>+2%</td>\n",
              "      <td>5</td>\n",
              "      <td>[look: 5 | smell: 5 | taste: 5 | feel: 5 | ove...</td>\n",
              "    </tr>\n",
              "    <tr>\n",
              "      <th>1</th>\n",
              "      <td>Kentucky Brunch Brand Stout</td>\n",
              "      <td>Prospero from Colorado\\n\\n4.53/5  rDev -7.6%\\n...</td>\n",
              "      <td>-7.6%</td>\n",
              "      <td>4.53</td>\n",
              "      <td>[look: 4.5 | smell: 4.5 | taste: 4.5 | feel: 4...</td>\n",
              "    </tr>\n",
              "    <tr>\n",
              "      <th>2</th>\n",
              "      <td>Kentucky Brunch Brand Stout</td>\n",
              "      <td>BourbonForBeer from Illinois\\n\\n1.49/5  rDev -...</td>\n",
              "      <td>-69.6%</td>\n",
              "      <td>1.49</td>\n",
              "      <td>[look: 3 | smell: 1.5 | taste: 1.5 | feel: 1.5...</td>\n",
              "    </tr>\n",
              "    <tr>\n",
              "      <th>3</th>\n",
              "      <td>Kentucky Brunch Brand Stout</td>\n",
              "      <td>JellybonesElmer from Wisconsin\\n\\n4.52/5  rDev...</td>\n",
              "      <td>-7.8%</td>\n",
              "      <td>4.52</td>\n",
              "      <td>[look: 4 | smell: 4.5 | taste: 4.5 | feel: 5 |...</td>\n",
              "    </tr>\n",
              "    <tr>\n",
              "      <th>4</th>\n",
              "      <td>Kentucky Brunch Brand Stout</td>\n",
              "      <td>WormGod from New York\\n\\n4.99/5  rDev +1.8%\\nl...</td>\n",
              "      <td>+1.8%</td>\n",
              "      <td>4.99</td>\n",
              "      <td>[look: 4.75 | smell: 5 | taste: 5 | feel: 5 | ...</td>\n",
              "    </tr>\n",
              "  </tbody>\n",
              "</table>\n",
              "</div>"
            ],
            "text/plain": [
              "                  Product_name  ...                                       clean_review\n",
              "0  Kentucky Brunch Brand Stout  ...  [look: 5 | smell: 5 | taste: 5 | feel: 5 | ove...\n",
              "1  Kentucky Brunch Brand Stout  ...  [look: 4.5 | smell: 4.5 | taste: 4.5 | feel: 4...\n",
              "2  Kentucky Brunch Brand Stout  ...  [look: 3 | smell: 1.5 | taste: 1.5 | feel: 1.5...\n",
              "3  Kentucky Brunch Brand Stout  ...  [look: 4 | smell: 4.5 | taste: 4.5 | feel: 5 |...\n",
              "4  Kentucky Brunch Brand Stout  ...  [look: 4.75 | smell: 5 | taste: 5 | feel: 5 | ...\n",
              "\n",
              "[5 rows x 5 columns]"
            ]
          },
          "metadata": {
            "tags": []
          },
          "execution_count": 17
        }
      ]
    },
    {
      "cell_type": "code",
      "metadata": {
        "id": "PIKPkuV8_YV9",
        "colab": {
          "base_uri": "https://localhost:8080/",
          "height": 35
        },
        "outputId": "ddb86b02-3de3-4b7c-c6cb-40256524bd26"
      },
      "source": [
        "beer_list[249]"
      ],
      "execution_count": null,
      "outputs": [
        {
          "output_type": "execute_result",
          "data": {
            "application/vnd.google.colaboratory.intrinsic+json": {
              "type": "string"
            },
            "text/plain": [
              "'Flora - Blueberry'"
            ]
          },
          "metadata": {
            "tags": []
          },
          "execution_count": 18
        }
      ]
    },
    {
      "cell_type": "code",
      "metadata": {
        "id": "5zpIsNRJ_YWA"
      },
      "source": [
        "all_comments.to_csv(\"6205 beer reviews of 250 beers.csv\", sep=\"\\t\")"
      ],
      "execution_count": null,
      "outputs": []
    },
    {
      "cell_type": "code",
      "metadata": {
        "id": "QeB_6JA9_YWD"
      },
      "source": [
        ""
      ],
      "execution_count": null,
      "outputs": []
    }
  ]
}