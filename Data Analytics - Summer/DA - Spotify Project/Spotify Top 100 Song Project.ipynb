{
  "nbformat": 4,
  "nbformat_minor": 0,
  "metadata": {
    "kernelspec": {
      "display_name": "Python 3",
      "language": "python",
      "name": "python3"
    },
    "language_info": {
      "codemirror_mode": {
        "name": "ipython",
        "version": 3
      },
      "file_extension": ".py",
      "mimetype": "text/x-python",
      "name": "python",
      "nbconvert_exporter": "python",
      "pygments_lexer": "ipython3",
      "version": "3.7.6"
    },
    "colab": {
      "name": "Spotify_notebook.ipynb",
      "provenance": []
    }
  },
  "cells": [
    {
      "cell_type": "code",
      "metadata": {
        "id": "lPliKwcLuydv",
        "outputId": "978e4fac-8967-4340-bcfa-a340dacccce5"
      },
      "source": [
        "from pandas import Series, DataFrame\n",
        "import pandas as pd\n",
        "import statsmodels.api as sm\n",
        "from patsy import dmatrices\n",
        "%pylab inline"
      ],
      "execution_count": null,
      "outputs": [
        {
          "output_type": "stream",
          "text": [
            "Populating the interactive namespace from numpy and matplotlib\n"
          ],
          "name": "stdout"
        }
      ]
    },
    {
      "cell_type": "code",
      "metadata": {
        "id": "x3yz_Ccxuyd8"
      },
      "source": [
        "df = pd.read_csv('Spotify.csv', encoding='latin_1')"
      ],
      "execution_count": null,
      "outputs": []
    },
    {
      "cell_type": "code",
      "metadata": {
        "id": "NQht7r9Iuyd9",
        "outputId": "6625823b-1088-493e-c680-aa0571e5f277"
      },
      "source": [
        "df.head()"
      ],
      "execution_count": null,
      "outputs": [
        {
          "output_type": "execute_result",
          "data": {
            "text/html": [
              "<div>\n",
              "<style scoped>\n",
              "    .dataframe tbody tr th:only-of-type {\n",
              "        vertical-align: middle;\n",
              "    }\n",
              "\n",
              "    .dataframe tbody tr th {\n",
              "        vertical-align: top;\n",
              "    }\n",
              "\n",
              "    .dataframe thead th {\n",
              "        text-align: right;\n",
              "    }\n",
              "</style>\n",
              "<table border=\"1\" class=\"dataframe\">\n",
              "  <thead>\n",
              "    <tr style=\"text-align: right;\">\n",
              "      <th></th>\n",
              "      <th>Unnamed: 0</th>\n",
              "      <th>title</th>\n",
              "      <th>artist</th>\n",
              "      <th>top genre</th>\n",
              "      <th>year</th>\n",
              "      <th>bpm</th>\n",
              "      <th>nrgy</th>\n",
              "      <th>dnce</th>\n",
              "      <th>dB</th>\n",
              "      <th>live</th>\n",
              "      <th>val</th>\n",
              "      <th>dur</th>\n",
              "      <th>acous</th>\n",
              "      <th>spch</th>\n",
              "      <th>pop</th>\n",
              "    </tr>\n",
              "  </thead>\n",
              "  <tbody>\n",
              "    <tr>\n",
              "      <th>0</th>\n",
              "      <td>1</td>\n",
              "      <td>Hey, Soul Sister</td>\n",
              "      <td>Train</td>\n",
              "      <td>neo mellow</td>\n",
              "      <td>2010</td>\n",
              "      <td>97</td>\n",
              "      <td>89</td>\n",
              "      <td>67</td>\n",
              "      <td>-4</td>\n",
              "      <td>8</td>\n",
              "      <td>80</td>\n",
              "      <td>217</td>\n",
              "      <td>19</td>\n",
              "      <td>4</td>\n",
              "      <td>83</td>\n",
              "    </tr>\n",
              "    <tr>\n",
              "      <th>1</th>\n",
              "      <td>2</td>\n",
              "      <td>Love The Way You Lie</td>\n",
              "      <td>Eminem</td>\n",
              "      <td>detroit hip hop</td>\n",
              "      <td>2010</td>\n",
              "      <td>87</td>\n",
              "      <td>93</td>\n",
              "      <td>75</td>\n",
              "      <td>-5</td>\n",
              "      <td>52</td>\n",
              "      <td>64</td>\n",
              "      <td>263</td>\n",
              "      <td>24</td>\n",
              "      <td>23</td>\n",
              "      <td>82</td>\n",
              "    </tr>\n",
              "    <tr>\n",
              "      <th>2</th>\n",
              "      <td>3</td>\n",
              "      <td>TiK ToK</td>\n",
              "      <td>Kesha</td>\n",
              "      <td>dance pop</td>\n",
              "      <td>2010</td>\n",
              "      <td>120</td>\n",
              "      <td>84</td>\n",
              "      <td>76</td>\n",
              "      <td>-3</td>\n",
              "      <td>29</td>\n",
              "      <td>71</td>\n",
              "      <td>200</td>\n",
              "      <td>10</td>\n",
              "      <td>14</td>\n",
              "      <td>80</td>\n",
              "    </tr>\n",
              "    <tr>\n",
              "      <th>3</th>\n",
              "      <td>4</td>\n",
              "      <td>Bad Romance</td>\n",
              "      <td>Lady Gaga</td>\n",
              "      <td>dance pop</td>\n",
              "      <td>2010</td>\n",
              "      <td>119</td>\n",
              "      <td>92</td>\n",
              "      <td>70</td>\n",
              "      <td>-4</td>\n",
              "      <td>8</td>\n",
              "      <td>71</td>\n",
              "      <td>295</td>\n",
              "      <td>0</td>\n",
              "      <td>4</td>\n",
              "      <td>79</td>\n",
              "    </tr>\n",
              "    <tr>\n",
              "      <th>4</th>\n",
              "      <td>5</td>\n",
              "      <td>Just the Way You Are</td>\n",
              "      <td>Bruno Mars</td>\n",
              "      <td>pop</td>\n",
              "      <td>2010</td>\n",
              "      <td>109</td>\n",
              "      <td>84</td>\n",
              "      <td>64</td>\n",
              "      <td>-5</td>\n",
              "      <td>9</td>\n",
              "      <td>43</td>\n",
              "      <td>221</td>\n",
              "      <td>2</td>\n",
              "      <td>4</td>\n",
              "      <td>78</td>\n",
              "    </tr>\n",
              "  </tbody>\n",
              "</table>\n",
              "</div>"
            ],
            "text/plain": [
              "   Unnamed: 0                 title      artist        top genre  year  bpm  \\\n",
              "0           1      Hey, Soul Sister       Train       neo mellow  2010   97   \n",
              "1           2  Love The Way You Lie      Eminem  detroit hip hop  2010   87   \n",
              "2           3               TiK ToK       Kesha        dance pop  2010  120   \n",
              "3           4           Bad Romance   Lady Gaga        dance pop  2010  119   \n",
              "4           5  Just the Way You Are  Bruno Mars              pop  2010  109   \n",
              "\n",
              "   nrgy  dnce  dB  live  val  dur  acous  spch  pop  \n",
              "0    89    67  -4     8   80  217     19     4   83  \n",
              "1    93    75  -5    52   64  263     24    23   82  \n",
              "2    84    76  -3    29   71  200     10    14   80  \n",
              "3    92    70  -4     8   71  295      0     4   79  \n",
              "4    84    64  -5     9   43  221      2     4   78  "
            ]
          },
          "metadata": {
            "tags": []
          },
          "execution_count": 3
        }
      ]
    },
    {
      "cell_type": "code",
      "metadata": {
        "id": "JUKk6MONuyd_",
        "outputId": "e8302fb6-c8fa-4cfe-acde-042ba2f85728"
      },
      "source": [
        "df.describe()"
      ],
      "execution_count": null,
      "outputs": [
        {
          "output_type": "execute_result",
          "data": {
            "text/html": [
              "<div>\n",
              "<style scoped>\n",
              "    .dataframe tbody tr th:only-of-type {\n",
              "        vertical-align: middle;\n",
              "    }\n",
              "\n",
              "    .dataframe tbody tr th {\n",
              "        vertical-align: top;\n",
              "    }\n",
              "\n",
              "    .dataframe thead th {\n",
              "        text-align: right;\n",
              "    }\n",
              "</style>\n",
              "<table border=\"1\" class=\"dataframe\">\n",
              "  <thead>\n",
              "    <tr style=\"text-align: right;\">\n",
              "      <th></th>\n",
              "      <th>Unnamed: 0</th>\n",
              "      <th>year</th>\n",
              "      <th>bpm</th>\n",
              "      <th>nrgy</th>\n",
              "      <th>dnce</th>\n",
              "      <th>dB</th>\n",
              "      <th>live</th>\n",
              "      <th>val</th>\n",
              "      <th>dur</th>\n",
              "      <th>acous</th>\n",
              "      <th>spch</th>\n",
              "      <th>pop</th>\n",
              "    </tr>\n",
              "  </thead>\n",
              "  <tbody>\n",
              "    <tr>\n",
              "      <th>count</th>\n",
              "      <td>603.000000</td>\n",
              "      <td>603.000000</td>\n",
              "      <td>603.000000</td>\n",
              "      <td>603.000000</td>\n",
              "      <td>603.000000</td>\n",
              "      <td>603.000000</td>\n",
              "      <td>603.000000</td>\n",
              "      <td>603.000000</td>\n",
              "      <td>603.000000</td>\n",
              "      <td>603.000000</td>\n",
              "      <td>603.000000</td>\n",
              "      <td>603.000000</td>\n",
              "    </tr>\n",
              "    <tr>\n",
              "      <th>mean</th>\n",
              "      <td>302.000000</td>\n",
              "      <td>2014.592040</td>\n",
              "      <td>118.545605</td>\n",
              "      <td>70.504146</td>\n",
              "      <td>64.379768</td>\n",
              "      <td>-5.578773</td>\n",
              "      <td>17.774461</td>\n",
              "      <td>52.225539</td>\n",
              "      <td>224.674959</td>\n",
              "      <td>14.326700</td>\n",
              "      <td>8.358209</td>\n",
              "      <td>66.520730</td>\n",
              "    </tr>\n",
              "    <tr>\n",
              "      <th>std</th>\n",
              "      <td>174.215384</td>\n",
              "      <td>2.607057</td>\n",
              "      <td>24.795358</td>\n",
              "      <td>16.310664</td>\n",
              "      <td>13.378718</td>\n",
              "      <td>2.798020</td>\n",
              "      <td>13.102543</td>\n",
              "      <td>22.513020</td>\n",
              "      <td>34.130059</td>\n",
              "      <td>20.766165</td>\n",
              "      <td>7.483162</td>\n",
              "      <td>14.517746</td>\n",
              "    </tr>\n",
              "    <tr>\n",
              "      <th>min</th>\n",
              "      <td>1.000000</td>\n",
              "      <td>2010.000000</td>\n",
              "      <td>0.000000</td>\n",
              "      <td>0.000000</td>\n",
              "      <td>0.000000</td>\n",
              "      <td>-60.000000</td>\n",
              "      <td>0.000000</td>\n",
              "      <td>0.000000</td>\n",
              "      <td>134.000000</td>\n",
              "      <td>0.000000</td>\n",
              "      <td>0.000000</td>\n",
              "      <td>0.000000</td>\n",
              "    </tr>\n",
              "    <tr>\n",
              "      <th>25%</th>\n",
              "      <td>151.500000</td>\n",
              "      <td>2013.000000</td>\n",
              "      <td>100.000000</td>\n",
              "      <td>61.000000</td>\n",
              "      <td>57.000000</td>\n",
              "      <td>-6.000000</td>\n",
              "      <td>9.000000</td>\n",
              "      <td>35.000000</td>\n",
              "      <td>202.000000</td>\n",
              "      <td>2.000000</td>\n",
              "      <td>4.000000</td>\n",
              "      <td>60.000000</td>\n",
              "    </tr>\n",
              "    <tr>\n",
              "      <th>50%</th>\n",
              "      <td>302.000000</td>\n",
              "      <td>2015.000000</td>\n",
              "      <td>120.000000</td>\n",
              "      <td>74.000000</td>\n",
              "      <td>66.000000</td>\n",
              "      <td>-5.000000</td>\n",
              "      <td>12.000000</td>\n",
              "      <td>52.000000</td>\n",
              "      <td>221.000000</td>\n",
              "      <td>6.000000</td>\n",
              "      <td>5.000000</td>\n",
              "      <td>69.000000</td>\n",
              "    </tr>\n",
              "    <tr>\n",
              "      <th>75%</th>\n",
              "      <td>452.500000</td>\n",
              "      <td>2017.000000</td>\n",
              "      <td>129.000000</td>\n",
              "      <td>82.000000</td>\n",
              "      <td>73.000000</td>\n",
              "      <td>-4.000000</td>\n",
              "      <td>24.000000</td>\n",
              "      <td>69.000000</td>\n",
              "      <td>239.500000</td>\n",
              "      <td>17.000000</td>\n",
              "      <td>9.000000</td>\n",
              "      <td>76.000000</td>\n",
              "    </tr>\n",
              "    <tr>\n",
              "      <th>max</th>\n",
              "      <td>603.000000</td>\n",
              "      <td>2019.000000</td>\n",
              "      <td>206.000000</td>\n",
              "      <td>98.000000</td>\n",
              "      <td>97.000000</td>\n",
              "      <td>-2.000000</td>\n",
              "      <td>74.000000</td>\n",
              "      <td>98.000000</td>\n",
              "      <td>424.000000</td>\n",
              "      <td>99.000000</td>\n",
              "      <td>48.000000</td>\n",
              "      <td>99.000000</td>\n",
              "    </tr>\n",
              "  </tbody>\n",
              "</table>\n",
              "</div>"
            ],
            "text/plain": [
              "       Unnamed: 0         year         bpm        nrgy        dnce  \\\n",
              "count  603.000000   603.000000  603.000000  603.000000  603.000000   \n",
              "mean   302.000000  2014.592040  118.545605   70.504146   64.379768   \n",
              "std    174.215384     2.607057   24.795358   16.310664   13.378718   \n",
              "min      1.000000  2010.000000    0.000000    0.000000    0.000000   \n",
              "25%    151.500000  2013.000000  100.000000   61.000000   57.000000   \n",
              "50%    302.000000  2015.000000  120.000000   74.000000   66.000000   \n",
              "75%    452.500000  2017.000000  129.000000   82.000000   73.000000   \n",
              "max    603.000000  2019.000000  206.000000   98.000000   97.000000   \n",
              "\n",
              "               dB        live         val         dur       acous        spch  \\\n",
              "count  603.000000  603.000000  603.000000  603.000000  603.000000  603.000000   \n",
              "mean    -5.578773   17.774461   52.225539  224.674959   14.326700    8.358209   \n",
              "std      2.798020   13.102543   22.513020   34.130059   20.766165    7.483162   \n",
              "min    -60.000000    0.000000    0.000000  134.000000    0.000000    0.000000   \n",
              "25%     -6.000000    9.000000   35.000000  202.000000    2.000000    4.000000   \n",
              "50%     -5.000000   12.000000   52.000000  221.000000    6.000000    5.000000   \n",
              "75%     -4.000000   24.000000   69.000000  239.500000   17.000000    9.000000   \n",
              "max     -2.000000   74.000000   98.000000  424.000000   99.000000   48.000000   \n",
              "\n",
              "              pop  \n",
              "count  603.000000  \n",
              "mean    66.520730  \n",
              "std     14.517746  \n",
              "min      0.000000  \n",
              "25%     60.000000  \n",
              "50%     69.000000  \n",
              "75%     76.000000  \n",
              "max     99.000000  "
            ]
          },
          "metadata": {
            "tags": []
          },
          "execution_count": 4
        }
      ]
    },
    {
      "cell_type": "code",
      "metadata": {
        "id": "hXMBxOK3uyeB",
        "outputId": "bd8711aa-d093-4b1c-8614-bf071fd58242"
      },
      "source": [
        "df.isna().sum() #check is there are NaN in the Data"
      ],
      "execution_count": null,
      "outputs": [
        {
          "output_type": "execute_result",
          "data": {
            "text/plain": [
              "Unnamed: 0    0\n",
              "title         0\n",
              "artist        0\n",
              "top genre     0\n",
              "year          0\n",
              "bpm           0\n",
              "nrgy          0\n",
              "dnce          0\n",
              "dB            0\n",
              "live          0\n",
              "val           0\n",
              "dur           0\n",
              "acous         0\n",
              "spch          0\n",
              "pop           0\n",
              "dtype: int64"
            ]
          },
          "metadata": {
            "tags": []
          },
          "execution_count": 5
        }
      ]
    },
    {
      "cell_type": "code",
      "metadata": {
        "id": "dNN3chfQuyeB",
        "outputId": "df6d9aeb-1512-4e6a-e901-bcc3c4890a3c"
      },
      "source": [
        "df.set_index('title')\n",
        "\n",
        "df[['pop','title']].sort_values(by='pop', ascending=False)"
      ],
      "execution_count": null,
      "outputs": [
        {
          "output_type": "execute_result",
          "data": {
            "text/html": [
              "<div>\n",
              "<style scoped>\n",
              "    .dataframe tbody tr th:only-of-type {\n",
              "        vertical-align: middle;\n",
              "    }\n",
              "\n",
              "    .dataframe tbody tr th {\n",
              "        vertical-align: top;\n",
              "    }\n",
              "\n",
              "    .dataframe thead th {\n",
              "        text-align: right;\n",
              "    }\n",
              "</style>\n",
              "<table border=\"1\" class=\"dataframe\">\n",
              "  <thead>\n",
              "    <tr style=\"text-align: right;\">\n",
              "      <th></th>\n",
              "      <th>pop</th>\n",
              "      <th>title</th>\n",
              "    </tr>\n",
              "  </thead>\n",
              "  <tbody>\n",
              "    <tr>\n",
              "      <th>572</th>\n",
              "      <td>99</td>\n",
              "      <td>Memories</td>\n",
              "    </tr>\n",
              "    <tr>\n",
              "      <th>573</th>\n",
              "      <td>97</td>\n",
              "      <td>Lose You To Love Me</td>\n",
              "    </tr>\n",
              "    <tr>\n",
              "      <th>574</th>\n",
              "      <td>96</td>\n",
              "      <td>Someone You Loved</td>\n",
              "    </tr>\n",
              "    <tr>\n",
              "      <th>575</th>\n",
              "      <td>95</td>\n",
              "      <td>Señorita</td>\n",
              "    </tr>\n",
              "    <tr>\n",
              "      <th>576</th>\n",
              "      <td>93</td>\n",
              "      <td>How Do You Sleep?</td>\n",
              "    </tr>\n",
              "    <tr>\n",
              "      <th>...</th>\n",
              "      <td>...</td>\n",
              "      <td>...</td>\n",
              "    </tr>\n",
              "    <tr>\n",
              "      <th>50</th>\n",
              "      <td>0</td>\n",
              "      <td>Hello</td>\n",
              "    </tr>\n",
              "    <tr>\n",
              "      <th>362</th>\n",
              "      <td>0</td>\n",
              "      <td>L.A.LOVE (la la)</td>\n",
              "    </tr>\n",
              "    <tr>\n",
              "      <th>442</th>\n",
              "      <td>0</td>\n",
              "      <td>Million Years Ago</td>\n",
              "    </tr>\n",
              "    <tr>\n",
              "      <th>138</th>\n",
              "      <td>0</td>\n",
              "      <td>Blow Me (One Last Kiss)</td>\n",
              "    </tr>\n",
              "    <tr>\n",
              "      <th>267</th>\n",
              "      <td>0</td>\n",
              "      <td>Not a Bad Thing</td>\n",
              "    </tr>\n",
              "  </tbody>\n",
              "</table>\n",
              "<p>603 rows × 2 columns</p>\n",
              "</div>"
            ],
            "text/plain": [
              "     pop                    title\n",
              "572   99                 Memories\n",
              "573   97      Lose You To Love Me\n",
              "574   96        Someone You Loved\n",
              "575   95                 Señorita\n",
              "576   93        How Do You Sleep?\n",
              "..   ...                      ...\n",
              "50     0                    Hello\n",
              "362    0         L.A.LOVE (la la)\n",
              "442    0        Million Years Ago\n",
              "138    0  Blow Me (One Last Kiss)\n",
              "267    0          Not a Bad Thing\n",
              "\n",
              "[603 rows x 2 columns]"
            ]
          },
          "metadata": {
            "tags": []
          },
          "execution_count": 7
        }
      ]
    },
    {
      "cell_type": "code",
      "metadata": {
        "id": "uHVpmt1CuyeC",
        "outputId": "1e762103-7e3e-407a-ac84-a3bdfd1daeaf"
      },
      "source": [
        "all_art = df['artist'].value_counts()\n",
        "all_art[:20].plot(kind='bar')"
      ],
      "execution_count": null,
      "outputs": [
        {
          "output_type": "execute_result",
          "data": {
            "text/plain": [
              "<matplotlib.axes._subplots.AxesSubplot at 0x7fbbbef80290>"
            ]
          },
          "metadata": {
            "tags": []
          },
          "execution_count": 29
        },
        {
          "output_type": "display_data",
          "data": {
            "image/png": "[encoded data removed]",
            "text/plain": [
              "<Figure size 432x288 with 1 Axes>"
            ]
          },
          "metadata": {
            "tags": [],
            "needs_background": "light"
          }
        }
      ]
    },
    {
      "cell_type": "code",
      "metadata": {
        "id": "GqxnqamquyeD",
        "outputId": "9a88b0f1-5e62-4047-d12d-e36ed58c820f"
      },
      "source": [
        "df['pop'].plot(kind='box')"
      ],
      "execution_count": null,
      "outputs": [
        {
          "output_type": "execute_result",
          "data": {
            "text/plain": [
              "<matplotlib.axes._subplots.AxesSubplot at 0x7fbbc0d8eed0>"
            ]
          },
          "metadata": {
            "tags": []
          },
          "execution_count": 46
        },
        {
          "output_type": "display_data",
          "data": {
            "image/png": "[encoded data removed]",
            "text/plain": [
              "<Figure size 432x288 with 1 Axes>"
            ]
          },
          "metadata": {
            "tags": [],
            "needs_background": "light"
          }
        }
      ]
    },
    {
      "cell_type": "code",
      "metadata": {
        "id": "ENGL1aEwuyeE",
        "outputId": "df3f970a-5c94-4eb2-90a7-040634660f93"
      },
      "source": [
        "#print(df['artist'].value_counts()[:10].plot(kind='pie'))\n",
        "\n",
        "\n",
        "\n",
        "\n",
        "\n",
        "\n",
        "print(df['artist'].value_counts()[:20].plot(kind='bar'))\n"
      ],
      "execution_count": null,
      "outputs": [
        {
          "output_type": "stream",
          "text": [
            "AxesSubplot(0.125,0.125;0.775x0.755)\n"
          ],
          "name": "stdout"
        },
        {
          "output_type": "display_data",
          "data": {
            "image/png": "[encoded data removed]",
            "text/plain": [
              "<Figure size 432x288 with 1 Axes>"
            ]
          },
          "metadata": {
            "tags": [],
            "needs_background": "light"
          }
        }
      ]
    },
    {
      "cell_type": "code",
      "metadata": {
        "id": "9BkhG_IxuyeE",
        "outputId": "eb264655-971c-4d40-8560-b9909316d6bd"
      },
      "source": [
        "all_art[:10].plot(kind='pie')"
      ],
      "execution_count": null,
      "outputs": [
        {
          "output_type": "execute_result",
          "data": {
            "text/plain": [
              "<matplotlib.axes._subplots.AxesSubplot at 0x7fbb97135c10>"
            ]
          },
          "metadata": {
            "tags": []
          },
          "execution_count": 82
        },
        {
          "output_type": "display_data",
          "data": {
            "image/png": "[encoded data removed]",
            "text/plain": [
              "<Figure size 432x288 with 1 Axes>"
            ]
          },
          "metadata": {
            "tags": []
          }
        }
      ]
    },
    {
      "cell_type": "code",
      "metadata": {
        "id": "tRKgVElRuyeF",
        "outputId": "3dfa6f75-3d12-435d-9b3f-d2cbf40b0f12"
      },
      "source": [
        "df2 = df.groupby('title')['artist'].value_counts()\n",
        "df2[:50]"
      ],
      "execution_count": null,
      "outputs": [
        {
          "output_type": "execute_result",
          "data": {
            "text/plain": [
              "title                                                      artist          \n",
              "#Beautiful                                                 Mariah Carey        1\n",
              "#SELFIE                                                    The Chainsmokers    1\n",
              "#thatPOWER                                                 will.i.am           1\n",
              "...Ready For It? - BloodPop® Remix                         Taylor Swift        1\n",
              "1+1                                                        Beyoncé             1\n",
              "24K Magic                                                  Bruno Mars          1\n",
              "2U (feat. Justin Bieber)                                   David Guetta        1\n",
              "3                                                          Britney Spears      1\n",
              "43776                                                      Beyoncé             1\n",
              "7 Years                                                    Lukas Graham        1\n",
              "A L I E N S                                                Coldplay            1\n",
              "A Little Party Never Killed Nobody (All We Got)            Fergie              2\n",
              "A Sky Full of Stars                                        Coldplay            1\n",
              "A Thousand Years                                           Christina Perri     1\n",
              "Adore You                                                  Miley Cyrus         1\n",
              "Ain't Your Mama                                            Jennifer Lopez      1\n",
              "Alejandro                                                  Lady Gaga           1\n",
              "Alive                                                      Sia                 1\n",
              "All About That Bass                                        Meghan Trainor      1\n",
              "All Around The World (La La La)                            R3HAB               1\n",
              "All I Ask                                                  Adele               2\n",
              "All The Right Moves                                        OneRepublic         1\n",
              "All We Know                                                The Chainsmokers    1\n",
              "All of Me                                                  John Legend         1\n",
              "American Oxygen                                            Rihanna             1\n",
              "Anaconda                                                   Nicki Minaj         1\n",
              "Angel                                                      Fifth Harmony       1\n",
              "Animal                                                     Neon Trees          1\n",
              "Animals                                                    Maroon 5            1\n",
              "Antisocial (with Travis Scott)                             Ed Sheeran          1\n",
              "Anything Could Happen                                      Ellie Goulding      1\n",
              "Anywhere                                                   Rita Ora            1\n",
              "Applause                                                   Lady Gaga           1\n",
              "Atlas - From The Hunger Games: Catching Fire Soundtrack  Coldplay            1\n",
              "Attention                                                  Charlie Puth        1\n",
              "BO$$                                                       Fifth Harmony       1\n",
              "BURNITUP!                                                  Janet Jackson       1\n",
              "Baby                                                       Justin Bieber       1\n",
              "Baby Don't Lie                                             Gwen Stefani        1\n",
              "Bad At Love                                                Halsey              1\n",
              "Bad Liar                                                   Selena Gomez        1\n",
              "Bad Romance                                                Lady Gaga           1\n",
              "Bang Bang                                                  Jessie J            1\n",
              "Bang My Head (feat. Sia & Fetty Wap)                       David Guetta        1\n",
              "Beautiful Birds (feat. Birdy)                              Passenger           1\n",
              "Beautiful People (feat. Khalid)                            Ed Sheeran          1\n",
              "Beauty And A Beat                                          Justin Bieber       1\n",
              "Been You                                                   Justin Bieber       1\n",
              "Behind Your Back                                           Nelly Furtado       1\n",
              "Beneath Your Beautiful                                     Labrinth            1\n",
              "Name: artist, dtype: int64"
            ]
          },
          "metadata": {
            "tags": []
          },
          "execution_count": 95
        }
      ]
    },
    {
      "cell_type": "code",
      "metadata": {
        "id": "JU2RoPdOuyeF",
        "outputId": "ad530235-99c4-4a4a-f626-9e94f89e9b92"
      },
      "source": [
        "df3 = df[['artist','pop','title']].sort_values(by='pop',ascending=False)[:100]\n",
        "df3.set_index('title')[:10].plot(kind='bar')"
      ],
      "execution_count": null,
      "outputs": [
        {
          "output_type": "execute_result",
          "data": {
            "text/plain": [
              "<matplotlib.axes._subplots.AxesSubplot at 0x7fbb7e3796d0>"
            ]
          },
          "metadata": {
            "tags": []
          },
          "execution_count": 148
        },
        {
          "output_type": "display_data",
          "data": {
            "image/png": "[encoded data removed]",
            "text/plain": [
              "<Figure size 432x288 with 1 Axes>"
            ]
          },
          "metadata": {
            "tags": [],
            "needs_background": "light"
          }
        }
      ]
    },
    {
      "cell_type": "code",
      "metadata": {
        "id": "onJZsXUNuyeG"
      },
      "source": [
        ""
      ],
      "execution_count": null,
      "outputs": []
    },
    {
      "cell_type": "code",
      "metadata": {
        "id": "U29FF2_MuyeG"
      },
      "source": [
        ""
      ],
      "execution_count": null,
      "outputs": []
    },
    {
      "cell_type": "code",
      "metadata": {
        "id": "CpzyHPxTuyeG"
      },
      "source": [
        ""
      ],
      "execution_count": null,
      "outputs": []
    },
    {
      "cell_type": "code",
      "metadata": {
        "id": "wCEZKnF1uyeH"
      },
      "source": [
        ""
      ],
      "execution_count": null,
      "outputs": []
    },
    {
      "cell_type": "code",
      "metadata": {
        "id": "MLhwNXviuyeH"
      },
      "source": [
        ""
      ],
      "execution_count": null,
      "outputs": []
    },
    {
      "cell_type": "code",
      "metadata": {
        "id": "Qi43PBncuyeH"
      },
      "source": [
        ""
      ],
      "execution_count": null,
      "outputs": []
    },
    {
      "cell_type": "code",
      "metadata": {
        "id": "-9VoD88quyeH",
        "outputId": "9515b8e2-8e11-4787-883d-d086dc2eeb73"
      },
      "source": [
        "#df['top genre'].value_counts()\n",
        "\n",
        "def all_pop(x):\n",
        "    return x.split(' ')[-1]\n",
        "\n",
        "all_pop('neo mellow')\n",
        "\n",
        "df['All pop'] = df['top genre'].apply(lambda x: all_pop(x))\n",
        "df.head()"
      ],
      "execution_count": null,
      "outputs": [
        {
          "output_type": "execute_result",
          "data": {
            "text/html": [
              "<div>\n",
              "<style scoped>\n",
              "    .dataframe tbody tr th:only-of-type {\n",
              "        vertical-align: middle;\n",
              "    }\n",
              "\n",
              "    .dataframe tbody tr th {\n",
              "        vertical-align: top;\n",
              "    }\n",
              "\n",
              "    .dataframe thead th {\n",
              "        text-align: right;\n",
              "    }\n",
              "</style>\n",
              "<table border=\"1\" class=\"dataframe\">\n",
              "  <thead>\n",
              "    <tr style=\"text-align: right;\">\n",
              "      <th></th>\n",
              "      <th>Unnamed: 0</th>\n",
              "      <th>title</th>\n",
              "      <th>artist</th>\n",
              "      <th>top genre</th>\n",
              "      <th>year</th>\n",
              "      <th>bpm</th>\n",
              "      <th>nrgy</th>\n",
              "      <th>dnce</th>\n",
              "      <th>dB</th>\n",
              "      <th>live</th>\n",
              "      <th>val</th>\n",
              "      <th>dur</th>\n",
              "      <th>acous</th>\n",
              "      <th>spch</th>\n",
              "      <th>pop</th>\n",
              "      <th>All pop</th>\n",
              "    </tr>\n",
              "  </thead>\n",
              "  <tbody>\n",
              "    <tr>\n",
              "      <th>0</th>\n",
              "      <td>1</td>\n",
              "      <td>Hey, Soul Sister</td>\n",
              "      <td>Train</td>\n",
              "      <td>neo mellow</td>\n",
              "      <td>2010</td>\n",
              "      <td>97</td>\n",
              "      <td>89</td>\n",
              "      <td>67</td>\n",
              "      <td>-4</td>\n",
              "      <td>8</td>\n",
              "      <td>80</td>\n",
              "      <td>217</td>\n",
              "      <td>19</td>\n",
              "      <td>4</td>\n",
              "      <td>83</td>\n",
              "      <td>mellow</td>\n",
              "    </tr>\n",
              "    <tr>\n",
              "      <th>1</th>\n",
              "      <td>2</td>\n",
              "      <td>Love The Way You Lie</td>\n",
              "      <td>Eminem</td>\n",
              "      <td>detroit hip hop</td>\n",
              "      <td>2010</td>\n",
              "      <td>87</td>\n",
              "      <td>93</td>\n",
              "      <td>75</td>\n",
              "      <td>-5</td>\n",
              "      <td>52</td>\n",
              "      <td>64</td>\n",
              "      <td>263</td>\n",
              "      <td>24</td>\n",
              "      <td>23</td>\n",
              "      <td>82</td>\n",
              "      <td>hop</td>\n",
              "    </tr>\n",
              "    <tr>\n",
              "      <th>2</th>\n",
              "      <td>3</td>\n",
              "      <td>TiK ToK</td>\n",
              "      <td>Kesha</td>\n",
              "      <td>dance pop</td>\n",
              "      <td>2010</td>\n",
              "      <td>120</td>\n",
              "      <td>84</td>\n",
              "      <td>76</td>\n",
              "      <td>-3</td>\n",
              "      <td>29</td>\n",
              "      <td>71</td>\n",
              "      <td>200</td>\n",
              "      <td>10</td>\n",
              "      <td>14</td>\n",
              "      <td>80</td>\n",
              "      <td>pop</td>\n",
              "    </tr>\n",
              "    <tr>\n",
              "      <th>3</th>\n",
              "      <td>4</td>\n",
              "      <td>Bad Romance</td>\n",
              "      <td>Lady Gaga</td>\n",
              "      <td>dance pop</td>\n",
              "      <td>2010</td>\n",
              "      <td>119</td>\n",
              "      <td>92</td>\n",
              "      <td>70</td>\n",
              "      <td>-4</td>\n",
              "      <td>8</td>\n",
              "      <td>71</td>\n",
              "      <td>295</td>\n",
              "      <td>0</td>\n",
              "      <td>4</td>\n",
              "      <td>79</td>\n",
              "      <td>pop</td>\n",
              "    </tr>\n",
              "    <tr>\n",
              "      <th>4</th>\n",
              "      <td>5</td>\n",
              "      <td>Just the Way You Are</td>\n",
              "      <td>Bruno Mars</td>\n",
              "      <td>pop</td>\n",
              "      <td>2010</td>\n",
              "      <td>109</td>\n",
              "      <td>84</td>\n",
              "      <td>64</td>\n",
              "      <td>-5</td>\n",
              "      <td>9</td>\n",
              "      <td>43</td>\n",
              "      <td>221</td>\n",
              "      <td>2</td>\n",
              "      <td>4</td>\n",
              "      <td>78</td>\n",
              "      <td>pop</td>\n",
              "    </tr>\n",
              "  </tbody>\n",
              "</table>\n",
              "</div>"
            ],
            "text/plain": [
              "   Unnamed: 0                 title      artist        top genre  year  bpm  \\\n",
              "0           1      Hey, Soul Sister       Train       neo mellow  2010   97   \n",
              "1           2  Love The Way You Lie      Eminem  detroit hip hop  2010   87   \n",
              "2           3               TiK ToK       Kesha        dance pop  2010  120   \n",
              "3           4           Bad Romance   Lady Gaga        dance pop  2010  119   \n",
              "4           5  Just the Way You Are  Bruno Mars              pop  2010  109   \n",
              "\n",
              "   nrgy  dnce  dB  live  val  dur  acous  spch  pop All pop  \n",
              "0    89    67  -4     8   80  217     19     4   83  mellow  \n",
              "1    93    75  -5    52   64  263     24    23   82     hop  \n",
              "2    84    76  -3    29   71  200     10    14   80     pop  \n",
              "3    92    70  -4     8   71  295      0     4   79     pop  \n",
              "4    84    64  -5     9   43  221      2     4   78     pop  "
            ]
          },
          "metadata": {
            "tags": []
          },
          "execution_count": 40
        }
      ]
    },
    {
      "cell_type": "code",
      "metadata": {
        "id": "cpcHANF0uyeI",
        "outputId": "57ce9e28-2b43-4734-8e66-219387be062e"
      },
      "source": [
        "all_pop_masked = df[df['All pop'] == 'pop']\n",
        "all_pop_masked[:10]"
      ],
      "execution_count": null,
      "outputs": [
        {
          "output_type": "execute_result",
          "data": {
            "text/html": [
              "<div>\n",
              "<style scoped>\n",
              "    .dataframe tbody tr th:only-of-type {\n",
              "        vertical-align: middle;\n",
              "    }\n",
              "\n",
              "    .dataframe tbody tr th {\n",
              "        vertical-align: top;\n",
              "    }\n",
              "\n",
              "    .dataframe thead th {\n",
              "        text-align: right;\n",
              "    }\n",
              "</style>\n",
              "<table border=\"1\" class=\"dataframe\">\n",
              "  <thead>\n",
              "    <tr style=\"text-align: right;\">\n",
              "      <th></th>\n",
              "      <th>Unnamed: 0</th>\n",
              "      <th>title</th>\n",
              "      <th>artist</th>\n",
              "      <th>top genre</th>\n",
              "      <th>year</th>\n",
              "      <th>bpm</th>\n",
              "      <th>nrgy</th>\n",
              "      <th>dnce</th>\n",
              "      <th>dB</th>\n",
              "      <th>live</th>\n",
              "      <th>val</th>\n",
              "      <th>dur</th>\n",
              "      <th>acous</th>\n",
              "      <th>spch</th>\n",
              "      <th>pop</th>\n",
              "      <th>All pop</th>\n",
              "    </tr>\n",
              "  </thead>\n",
              "  <tbody>\n",
              "    <tr>\n",
              "      <th>2</th>\n",
              "      <td>3</td>\n",
              "      <td>TiK ToK</td>\n",
              "      <td>Kesha</td>\n",
              "      <td>dance pop</td>\n",
              "      <td>2010</td>\n",
              "      <td>120</td>\n",
              "      <td>84</td>\n",
              "      <td>76</td>\n",
              "      <td>-3</td>\n",
              "      <td>29</td>\n",
              "      <td>71</td>\n",
              "      <td>200</td>\n",
              "      <td>10</td>\n",
              "      <td>14</td>\n",
              "      <td>80</td>\n",
              "      <td>pop</td>\n",
              "    </tr>\n",
              "    <tr>\n",
              "      <th>3</th>\n",
              "      <td>4</td>\n",
              "      <td>Bad Romance</td>\n",
              "      <td>Lady Gaga</td>\n",
              "      <td>dance pop</td>\n",
              "      <td>2010</td>\n",
              "      <td>119</td>\n",
              "      <td>92</td>\n",
              "      <td>70</td>\n",
              "      <td>-4</td>\n",
              "      <td>8</td>\n",
              "      <td>71</td>\n",
              "      <td>295</td>\n",
              "      <td>0</td>\n",
              "      <td>4</td>\n",
              "      <td>79</td>\n",
              "      <td>pop</td>\n",
              "    </tr>\n",
              "    <tr>\n",
              "      <th>4</th>\n",
              "      <td>5</td>\n",
              "      <td>Just the Way You Are</td>\n",
              "      <td>Bruno Mars</td>\n",
              "      <td>pop</td>\n",
              "      <td>2010</td>\n",
              "      <td>109</td>\n",
              "      <td>84</td>\n",
              "      <td>64</td>\n",
              "      <td>-5</td>\n",
              "      <td>9</td>\n",
              "      <td>43</td>\n",
              "      <td>221</td>\n",
              "      <td>2</td>\n",
              "      <td>4</td>\n",
              "      <td>78</td>\n",
              "      <td>pop</td>\n",
              "    </tr>\n",
              "    <tr>\n",
              "      <th>5</th>\n",
              "      <td>6</td>\n",
              "      <td>Baby</td>\n",
              "      <td>Justin Bieber</td>\n",
              "      <td>canadian pop</td>\n",
              "      <td>2010</td>\n",
              "      <td>65</td>\n",
              "      <td>86</td>\n",
              "      <td>73</td>\n",
              "      <td>-5</td>\n",
              "      <td>11</td>\n",
              "      <td>54</td>\n",
              "      <td>214</td>\n",
              "      <td>4</td>\n",
              "      <td>14</td>\n",
              "      <td>77</td>\n",
              "      <td>pop</td>\n",
              "    </tr>\n",
              "    <tr>\n",
              "      <th>6</th>\n",
              "      <td>7</td>\n",
              "      <td>Dynamite</td>\n",
              "      <td>Taio Cruz</td>\n",
              "      <td>dance pop</td>\n",
              "      <td>2010</td>\n",
              "      <td>120</td>\n",
              "      <td>78</td>\n",
              "      <td>75</td>\n",
              "      <td>-4</td>\n",
              "      <td>4</td>\n",
              "      <td>82</td>\n",
              "      <td>203</td>\n",
              "      <td>0</td>\n",
              "      <td>9</td>\n",
              "      <td>77</td>\n",
              "      <td>pop</td>\n",
              "    </tr>\n",
              "    <tr>\n",
              "      <th>7</th>\n",
              "      <td>8</td>\n",
              "      <td>Secrets</td>\n",
              "      <td>OneRepublic</td>\n",
              "      <td>dance pop</td>\n",
              "      <td>2010</td>\n",
              "      <td>148</td>\n",
              "      <td>76</td>\n",
              "      <td>52</td>\n",
              "      <td>-6</td>\n",
              "      <td>12</td>\n",
              "      <td>38</td>\n",
              "      <td>225</td>\n",
              "      <td>7</td>\n",
              "      <td>4</td>\n",
              "      <td>77</td>\n",
              "      <td>pop</td>\n",
              "    </tr>\n",
              "    <tr>\n",
              "      <th>8</th>\n",
              "      <td>9</td>\n",
              "      <td>Empire State of Mind (Part II) Broken Down</td>\n",
              "      <td>Alicia Keys</td>\n",
              "      <td>hip pop</td>\n",
              "      <td>2010</td>\n",
              "      <td>93</td>\n",
              "      <td>37</td>\n",
              "      <td>48</td>\n",
              "      <td>-8</td>\n",
              "      <td>12</td>\n",
              "      <td>14</td>\n",
              "      <td>216</td>\n",
              "      <td>74</td>\n",
              "      <td>3</td>\n",
              "      <td>76</td>\n",
              "      <td>pop</td>\n",
              "    </tr>\n",
              "    <tr>\n",
              "      <th>9</th>\n",
              "      <td>10</td>\n",
              "      <td>Only Girl (In The World)</td>\n",
              "      <td>Rihanna</td>\n",
              "      <td>barbadian pop</td>\n",
              "      <td>2010</td>\n",
              "      <td>126</td>\n",
              "      <td>72</td>\n",
              "      <td>79</td>\n",
              "      <td>-4</td>\n",
              "      <td>7</td>\n",
              "      <td>61</td>\n",
              "      <td>235</td>\n",
              "      <td>13</td>\n",
              "      <td>4</td>\n",
              "      <td>73</td>\n",
              "      <td>pop</td>\n",
              "    </tr>\n",
              "    <tr>\n",
              "      <th>10</th>\n",
              "      <td>11</td>\n",
              "      <td>Club Can't Handle Me (feat. David Guetta)</td>\n",
              "      <td>Flo Rida</td>\n",
              "      <td>dance pop</td>\n",
              "      <td>2010</td>\n",
              "      <td>128</td>\n",
              "      <td>87</td>\n",
              "      <td>62</td>\n",
              "      <td>-4</td>\n",
              "      <td>6</td>\n",
              "      <td>47</td>\n",
              "      <td>235</td>\n",
              "      <td>3</td>\n",
              "      <td>3</td>\n",
              "      <td>73</td>\n",
              "      <td>pop</td>\n",
              "    </tr>\n",
              "    <tr>\n",
              "      <th>11</th>\n",
              "      <td>12</td>\n",
              "      <td>Marry You</td>\n",
              "      <td>Bruno Mars</td>\n",
              "      <td>pop</td>\n",
              "      <td>2010</td>\n",
              "      <td>145</td>\n",
              "      <td>83</td>\n",
              "      <td>62</td>\n",
              "      <td>-5</td>\n",
              "      <td>10</td>\n",
              "      <td>48</td>\n",
              "      <td>230</td>\n",
              "      <td>33</td>\n",
              "      <td>4</td>\n",
              "      <td>73</td>\n",
              "      <td>pop</td>\n",
              "    </tr>\n",
              "  </tbody>\n",
              "</table>\n",
              "</div>"
            ],
            "text/plain": [
              "    Unnamed: 0                                       title         artist  \\\n",
              "2            3                                     TiK ToK          Kesha   \n",
              "3            4                                 Bad Romance      Lady Gaga   \n",
              "4            5                        Just the Way You Are     Bruno Mars   \n",
              "5            6                                        Baby  Justin Bieber   \n",
              "6            7                                    Dynamite      Taio Cruz   \n",
              "7            8                                     Secrets    OneRepublic   \n",
              "8            9  Empire State of Mind (Part II) Broken Down    Alicia Keys   \n",
              "9           10                    Only Girl (In The World)        Rihanna   \n",
              "10          11   Club Can't Handle Me (feat. David Guetta)       Flo Rida   \n",
              "11          12                                   Marry You     Bruno Mars   \n",
              "\n",
              "        top genre  year  bpm  nrgy  dnce  dB  live  val  dur  acous  spch  \\\n",
              "2       dance pop  2010  120    84    76  -3    29   71  200     10    14   \n",
              "3       dance pop  2010  119    92    70  -4     8   71  295      0     4   \n",
              "4             pop  2010  109    84    64  -5     9   43  221      2     4   \n",
              "5    canadian pop  2010   65    86    73  -5    11   54  214      4    14   \n",
              "6       dance pop  2010  120    78    75  -4     4   82  203      0     9   \n",
              "7       dance pop  2010  148    76    52  -6    12   38  225      7     4   \n",
              "8         hip pop  2010   93    37    48  -8    12   14  216     74     3   \n",
              "9   barbadian pop  2010  126    72    79  -4     7   61  235     13     4   \n",
              "10      dance pop  2010  128    87    62  -4     6   47  235      3     3   \n",
              "11            pop  2010  145    83    62  -5    10   48  230     33     4   \n",
              "\n",
              "    pop All pop  \n",
              "2    80     pop  \n",
              "3    79     pop  \n",
              "4    78     pop  \n",
              "5    77     pop  \n",
              "6    77     pop  \n",
              "7    77     pop  \n",
              "8    76     pop  \n",
              "9    73     pop  \n",
              "10   73     pop  \n",
              "11   73     pop  "
            ]
          },
          "metadata": {
            "tags": []
          },
          "execution_count": 42
        }
      ]
    },
    {
      "cell_type": "code",
      "metadata": {
        "id": "O4GiPUiauyeI",
        "outputId": "fb776e9c-7663-4263-f3f7-5a9cd6491d32"
      },
      "source": [
        "len(all_pop_masked)"
      ],
      "execution_count": null,
      "outputs": [
        {
          "output_type": "execute_result",
          "data": {
            "text/plain": [
              "469"
            ]
          },
          "metadata": {
            "tags": []
          },
          "execution_count": 43
        }
      ]
    },
    {
      "cell_type": "code",
      "metadata": {
        "id": "a3oThcaHuyeJ",
        "outputId": "3875c2d3-d809-4057-967f-5d0d3c419110"
      },
      "source": [
        "all_pop_masked[['top genre','All pop']][:20]\n",
        "\n",
        "all_pop_masked['top genre'].value_counts().plot(kind='bar')"
      ],
      "execution_count": null,
      "outputs": [
        {
          "output_type": "execute_result",
          "data": {
            "text/plain": [
              "<matplotlib.axes._subplots.AxesSubplot at 0x7fa825848d10>"
            ]
          },
          "metadata": {
            "tags": []
          },
          "execution_count": 47
        },
        {
          "output_type": "display_data",
          "data": {
            "image/png": "[encoded data removed]",
            "text/plain": [
              "<Figure size 432x288 with 1 Axes>"
            ]
          },
          "metadata": {
            "tags": [],
            "needs_background": "light"
          }
        }
      ]
    },
    {
      "cell_type": "code",
      "metadata": {
        "id": "0vmao4wluyeJ",
        "outputId": "762ca824-7af5-4ce3-9f79-aaf39d08340a"
      },
      "source": [
        "all_pop_masked[['top genre','All pop']]['top genre'].value_counts()\n"
      ],
      "execution_count": null,
      "outputs": [
        {
          "output_type": "execute_result",
          "data": {
            "text/plain": [
              "dance pop           327\n",
              "pop                  60\n",
              "canadian pop         34\n",
              "barbadian pop        15\n",
              "art pop               8\n",
              "hip pop               6\n",
              "australian pop        5\n",
              "colombian pop         3\n",
              "acoustic pop          2\n",
              "candy pop             2\n",
              "indie pop             2\n",
              "baroque pop           2\n",
              "danish pop            1\n",
              "moroccan pop          1\n",
              "french indie pop      1\n",
              "Name: top genre, dtype: int64"
            ]
          },
          "metadata": {
            "tags": []
          },
          "execution_count": 49
        }
      ]
    },
    {
      "cell_type": "code",
      "metadata": {
        "id": "Hh45oUYCuyeK"
      },
      "source": [
        ""
      ],
      "execution_count": null,
      "outputs": []
    }
  ]
}