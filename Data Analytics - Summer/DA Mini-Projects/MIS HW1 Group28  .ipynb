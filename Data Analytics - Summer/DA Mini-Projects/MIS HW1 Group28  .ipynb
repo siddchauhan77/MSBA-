{
 "cells": [
  {
   "cell_type": "markdown",
   "metadata": {},
   "source": [
    "HOMEWORK #1\n",
    "Group Members: Rongzhi Xu, Siddhant Chauhan, and Matthew Ruffner"
   ]
  },
  {
   "cell_type": "markdown",
   "metadata": {},
   "source": [
    "Question #1:"
   ]
  },
  {
   "cell_type": "code",
   "execution_count": 3,
   "metadata": {},
   "outputs": [
    {
     "name": "stdout",
     "output_type": "stream",
     "text": [
      "\n",
      "i\n",
      "you chose: i\n",
      "You have chosen an invalid option. Please select one of the following: Rock, Paper, Scissors, Quit\n",
      "\n",
      "Quit\n",
      "you have quit the game here are your results: games played = 0 , games you won = 0\n"
     ]
    }
   ],
   "source": [
    "import random\n",
    "cpu_options = ['Rock','Paper','Scissors']\n",
    "human_rock_choices = 0\n",
    "human_paper_choices = 0\n",
    "human_scissors_choices = 0\n",
    "total_games_played = 0\n",
    "games_human_won = 0\n",
    "human_choice = 0\n",
    "computer_choice = 0\n",
    "\n",
    "while human_choice != 'Quit':\n",
    "    if computer_choice != 7:\n",
    "        if (human_rock_choices > human_paper_choices) & (human_rock_choices > human_scissors_choices):\n",
    "            computer_choice = 'Paper'\n",
    "        elif (human_paper_choices > human_rock_choices) & (human_paper_choices > human_scissors_choices):\n",
    "            computer_choice = 'Scissors'\n",
    "        elif (human_scissors_choices > human_paper_choices) & (human_scissors_choices > human_rock_choices):\n",
    "            computer_choice = 'Rock'\n",
    "        elif (human_rock_choices == human_paper_choices) & (human_scissors_choices < human_paper_choices) & (human_scissors_choices < human_rock_choices):\n",
    "            computer_choice = random.choice(cpu_options[1:3])\n",
    "        elif (human_rock_choices == human_scissors_choices) & (human_paper_choices < human_scissors_choices) & (human_paper_choices < human_rock_choices):\n",
    "            computer_choice = random.choice(cpu_options[0:2])\n",
    "        elif (human_scissors_choices == human_paper_choices) & (human_rock_choices < human_scissors_choices) & (human_rock_choices < human_paper_choices):\n",
    "            computer_choice = random.choice(cpu_options[0:3:2])\n",
    "        else:\n",
    "            computer_choice = random.choice(cpu_options)\n",
    "    print()\n",
    "    human_choice = input()\n",
    "   \n",
    "    if human_choice == 'Quit':\n",
    "        break\n",
    "    print('you chose:',human_choice)\n",
    "    if human_choice == 'Rock':\n",
    "        print('computer throws:',computer_choice)\n",
    "        human_rock_choices += 1\n",
    "        if computer_choice == 'Rock':\n",
    "            print(\"it's a draw!\")\n",
    "            print()\n",
    "            total_games_played += 1\n",
    "            print('ROUND:', total_games_played+1)\n",
    "        elif computer_choice == 'Paper':\n",
    "            print(\"Paper covers Rock, so Paper beats Rock\")\n",
    "            print()\n",
    "            total_games_played += 1\n",
    "            print('ROUND:', total_games_played+1)\n",
    "        elif computer_choice == 'Scissors':\n",
    "            print(\"Rock smashes Scissors, so Rock beats Scissors\")\n",
    "            print()\n",
    "            total_games_played += 1\n",
    "            print('ROUND:', total_games_played+1)\n",
    "            games_human_won += 1        \n",
    "    elif human_choice == 'Paper':\n",
    "        print('computer throws:',computer_choice)\n",
    "        human_paper_choices += 1\n",
    "        if computer_choice == 'Rock':\n",
    "            print(\"Paper covers Rock, so Paper beats Rock\")\n",
    "            print()\n",
    "            total_games_played += 1\n",
    "            print('ROUND:', total_games_played+1)\n",
    "            games_human_won += 1\n",
    "        elif computer_choice == 'Paper':\n",
    "            print(\"it's a draw!\")\n",
    "            print()\n",
    "            total_games_played += 1\n",
    "            print('ROUND:', total_games_played+1)\n",
    "        elif computer_choice == 'Scissors':\n",
    "            print(\"Scissors can cut up paper, so Scissors beat Paper\")\n",
    "            print()\n",
    "            total_games_played += 1\n",
    "            print('ROUND:', total_games_played+1)\n",
    "    elif human_choice == 'Scissors':\n",
    "        print('computer throws:',computer_choice)\n",
    "        human_scissors_choices += 1\n",
    "        if computer_choice == 'Rock':\n",
    "            print(\"Rock smashes Scissors, so Rock beats Scissors\")\n",
    "            print()\n",
    "            total_games_played += 1\n",
    "            print('ROUND:', total_games_played+1)\n",
    "        elif computer_choice == 'Paper':\n",
    "            print(\"Scissors can cut up paper, so Scissors beat Paper\")\n",
    "            print()\n",
    "            total_games_played += 1\n",
    "            print('ROUND:', total_games_played+1)\n",
    "            games_human_won += 1\n",
    "        elif computer_choice == 'Scissors':\n",
    "            print(\"it's a draw!\")\n",
    "            print()\n",
    "            total_games_played += 1\n",
    "            print('ROUND:', total_games_played+1)\n",
    "    elif human_choice != 'Rock' or 'Paper' or 'Scissors' or 'Quit':\n",
    "        print('You have chosen an invalid option. Please select one of the following: Rock, Paper, Scissors, Quit')\n",
    "if human_choice == 'Quit':\n",
    "    print('you have quit the game here are your results:', 'games played =', total_games_played,\n",
    "              ', games you won =', games_human_won)"
   ]
  },
  {
   "cell_type": "markdown",
   "metadata": {},
   "source": [
    "Question #2:"
   ]
  },
  {
   "cell_type": "code",
   "execution_count": 4,
   "metadata": {},
   "outputs": [],
   "source": [
    "from pandas import Series, DataFrame\n",
    "import pandas as pd\n",
    "import re"
   ]
  },
  {
   "cell_type": "code",
   "execution_count": 9,
   "metadata": {},
   "outputs": [],
   "source": [
    "path = 'FloridaVoters.html'\n",
    "in_file = open(path,\"r\")\n",
    "in_file=in_file.readlines()\n",
    "in_file=[line.strip() for line in in_file]"
   ]
  },
  {
   "cell_type": "code",
   "execution_count": 10,
   "metadata": {},
   "outputs": [],
   "source": [
    "votetable = []\n",
    "for line in in_file:\n",
    "    n=(re.findall(\"<td>[\\w\\d\\s\\-\\.,]+</td>\",line))\n",
    "    if len(n) > 0:\n",
    "        votetable.append(n)"
   ]
  },
  {
   "cell_type": "code",
   "execution_count": 11,
   "metadata": {},
   "outputs": [],
   "source": [
    "county=[]\n",
    "repub=[]\n",
    "democ=[]\n",
    "for i in range(0,len(votetable),6):\n",
    "    county.append(re.findall(\"[\\w]+\",votetable[i][0]))\n",
    "    repub.append(re.findall(\"[\\d]+\",votetable[i+1][0]))\n",
    "    democ.append(re.findall(\"[\\d]+\",votetable[i+2][0]))\n",
    "\n",
    "# all data stored in these three lists\n",
    "t_county=[]    \n",
    "t_repub=[]\n",
    "t_democ=[]\n",
    "\n",
    "for c in county:\n",
    "    c.pop(0)\n",
    "    c.pop(len(c)-1)\n",
    "\n",
    "for coun in county:\n",
    "    t_county.append(coun[0])\n",
    "\n",
    "for j in repub:\n",
    "    l=0\n",
    "    s=\"\"\n",
    "    while l < len(j):\n",
    "        s += j[l]\n",
    "        l += 1\n",
    "    v = int(s)\n",
    "    t_repub.append(v)\n",
    "        \n",
    "for k in democ:\n",
    "    e=0\n",
    "    string=\"\"\n",
    "    while e < len(k):\n",
    "        string += k[e]\n",
    "        e += 1\n",
    "    vote = int(string)\n",
    "    t_democ.append(vote)"
   ]
  },
  {
   "cell_type": "code",
   "execution_count": 12,
   "metadata": {},
   "outputs": [
    {
     "data": {
      "text/html": [
       "<div>\n",
       "<style scoped>\n",
       "    .dataframe tbody tr th:only-of-type {\n",
       "        vertical-align: middle;\n",
       "    }\n",
       "\n",
       "    .dataframe tbody tr th {\n",
       "        vertical-align: top;\n",
       "    }\n",
       "\n",
       "    .dataframe thead th {\n",
       "        text-align: right;\n",
       "    }\n",
       "</style>\n",
       "<table border=\"1\" class=\"dataframe\">\n",
       "  <thead>\n",
       "    <tr style=\"text-align: right;\">\n",
       "      <th></th>\n",
       "      <th>republican</th>\n",
       "      <th>democrat</th>\n",
       "    </tr>\n",
       "  </thead>\n",
       "  <tbody>\n",
       "    <tr>\n",
       "      <th>LAFAYETTE</th>\n",
       "      <td>1373</td>\n",
       "      <td>2672</td>\n",
       "    </tr>\n",
       "    <tr>\n",
       "      <th>GLADES</th>\n",
       "      <td>2190</td>\n",
       "      <td>3110</td>\n",
       "    </tr>\n",
       "    <tr>\n",
       "      <th>LIBERTY</th>\n",
       "      <td>720</td>\n",
       "      <td>3372</td>\n",
       "    </tr>\n",
       "    <tr>\n",
       "      <th>UNION</th>\n",
       "      <td>2752</td>\n",
       "      <td>3579</td>\n",
       "    </tr>\n",
       "    <tr>\n",
       "      <th>GILCHRIST</th>\n",
       "      <td>5789</td>\n",
       "      <td>3652</td>\n",
       "    </tr>\n",
       "    <tr>\n",
       "      <th>...</th>\n",
       "      <td>...</td>\n",
       "      <td>...</td>\n",
       "    </tr>\n",
       "    <tr>\n",
       "      <th>HILLSBOROUGH</th>\n",
       "      <td>257436</td>\n",
       "      <td>314265</td>\n",
       "    </tr>\n",
       "    <tr>\n",
       "      <th>PALM</th>\n",
       "      <td>245452</td>\n",
       "      <td>367236</td>\n",
       "    </tr>\n",
       "    <tr>\n",
       "      <th>MIAMI</th>\n",
       "      <td>362161</td>\n",
       "      <td>539367</td>\n",
       "    </tr>\n",
       "    <tr>\n",
       "      <th>BROWARD</th>\n",
       "      <td>249762</td>\n",
       "      <td>566185</td>\n",
       "    </tr>\n",
       "    <tr>\n",
       "      <th>Total</th>\n",
       "      <td>4377713</td>\n",
       "      <td>4637026</td>\n",
       "    </tr>\n",
       "  </tbody>\n",
       "</table>\n",
       "<p>68 rows × 2 columns</p>\n",
       "</div>"
      ],
      "text/plain": [
       "              republican  democrat\n",
       "LAFAYETTE           1373      2672\n",
       "GLADES              2190      3110\n",
       "LIBERTY              720      3372\n",
       "UNION               2752      3579\n",
       "GILCHRIST           5789      3652\n",
       "...                  ...       ...\n",
       "HILLSBOROUGH      257436    314265\n",
       "PALM              245452    367236\n",
       "MIAMI             362161    539367\n",
       "BROWARD           249762    566185\n",
       "Total            4377713   4637026\n",
       "\n",
       "[68 rows x 2 columns]"
      ]
     },
     "execution_count": 12,
     "metadata": {},
     "output_type": "execute_result"
    }
   ],
   "source": [
    "data = {\"republican\":t_repub,\"democrat\":t_democ}\n",
    "\n",
    "table=DataFrame(data,index=t_county)\n",
    "table = table.sort_values(by='democrat')\n",
    "table"
   ]
  },
  {
   "cell_type": "markdown",
   "metadata": {},
   "source": [
    "Question #3:"
   ]
  },
  {
   "cell_type": "code",
   "execution_count": 13,
   "metadata": {},
   "outputs": [],
   "source": [
    "import math"
   ]
  },
  {
   "cell_type": "code",
   "execution_count": 14,
   "metadata": {},
   "outputs": [],
   "source": [
    "def make_phraselist(t):\n",
    "    t=t.split(\" \")\n",
    "    phrase_list = []\n",
    "    for i in range(0,len(t)-2): \n",
    "        phrase_list.append(t[i] + \" \" + t[i+1]+ \" \" + t[i+2])\n",
    "    return phrase_list"
   ]
  },
  {
   "cell_type": "code",
   "execution_count": 15,
   "metadata": {},
   "outputs": [],
   "source": [
    "def moving_window(tweet):\n",
    "    \n",
    "    phrase_list = make_phraselist(tweet)\n",
    "    phrase_dict={}      \n",
    "    for item in phrase_list:\n",
    "        if item not in phrase_dict:\n",
    "            phrase_dict[item]=1\n",
    "    return phrase_dict "
   ]
  },
  {
   "cell_type": "code",
   "execution_count": 16,
   "metadata": {},
   "outputs": [],
   "source": [
    "def cal_sim(t1_dict,t2_dict):\n",
    "    \n",
    "    match = 0\n",
    "    for key in t1_dict:\n",
    "        if key in t2_dict:\n",
    "            match += 1\n",
    "        else:\n",
    "            match += 0\n",
    "    \n",
    "    cos = match/math.sqrt(len(t1_dict)*len(t2_dict))\n",
    "    return cos "
   ]
  },
  {
   "cell_type": "code",
   "execution_count": 18,
   "metadata": {},
   "outputs": [
    {
     "name": "stdout",
     "output_type": "stream",
     "text": [
      "RT @BuyBookstore: SPECIAL SECRET HEARTS: A Child's Introduction to Dementia and Pink Curls - A Santa ... - http://t.co/UWCdc8FA9a http://t.",
      "\n",
      " and SPECIAL SECRET HEARTS: A Child's Introduction to Dementia and Pink Curls - A Santa ... - http://t.co/UWCdc8FA9a http://t.co/meexKLGTKl\n",
      " are near-duplicates.\n",
      "Similarity is 0.8838834764831844\n",
      " \n",
      "\"RT @DrewFtDevonne_: Rt si te gusta Santa Claus Is Coming To Town #MTVHottest Justin Bieber\"\n",
      " and \"Santa Claus Is Coming To Town #MTVHottest Justin Bieber\"\n",
      " are near-duplicates.\n",
      "Similarity is 0.628970902033151\n",
      " \n",
      "\"Rt si te gusta Santa Claus Is Coming To Town #MTVHottest Justin Bieber\"\n",
      " and \"RT @DrewFtDevonne_: Rt si te gusta Santa Claus Is Coming To Town #MTVHottest Justin Bieber\"\n",
      " are near-duplicates.\n",
      "Similarity is 0.8362420100070908\n",
      " \n",
      "\"Rt si te gusta Santa Claus Is Coming To Town #MTVHottest Justin Bieber\"\n",
      " and \"Santa Claus Is Coming To Town #MTVHottest Justin Bieber\"\n",
      " are near-duplicates.\n",
      "Similarity is 0.6837634587578276\n",
      " \n"
     ]
    }
   ],
   "source": [
    "def main():\n",
    "    path = 'Santa.txt'\n",
    "    in_file = open(path,\"r\")\n",
    "    in_file=in_file.readlines()\n",
    "   \n",
    "    \n",
    "    for t in range(len(in_file)):\n",
    "        previous = t-1\n",
    "        while previous >= 0:\n",
    "            t_dict = moving_window(in_file[t])\n",
    "            prev_dict = moving_window(in_file[previous])\n",
    "            sim = cal_sim(t_dict,prev_dict)\n",
    "            if sim > 0.5:\n",
    "                print(in_file[t], \"and\", in_file[previous],\"are near-duplicates.\")\n",
    "                print(\"Similarity is\", sim)\n",
    "                print(\" \")\n",
    "                previous -= 1\n",
    "            else:\n",
    "               \n",
    "                previous -= 1\n",
    "                \n",
    "main()"
   ]
  },
  {
   "cell_type": "markdown",
   "metadata": {},
   "source": [
    "Question #4:"
   ]
  },
  {
   "cell_type": "code",
   "execution_count": 23,
   "metadata": {},
   "outputs": [],
   "source": [
    "def build_wordlist(quote):\n",
    "    quote=quote.lower()\n",
    "    word_list = re.split(r'[^\\w\\d_]',quote)\n",
    "    while '' in word_list:\n",
    "        word_list.remove('')\n",
    "    return word_list"
   ]
  },
  {
   "cell_type": "code",
   "execution_count": 24,
   "metadata": {},
   "outputs": [],
   "source": [
    "def build_worddict(wordlist):\n",
    "    worddict={}\n",
    "    for item in wordlist:\n",
    "        if item in worddict:\n",
    "            worddict[item] += 1\n",
    "        else:\n",
    "            worddict[item] = 1\n",
    "    \n",
    "    return worddict"
   ]
  },
  {
   "cell_type": "code",
   "execution_count": 25,
   "metadata": {},
   "outputs": [],
   "source": [
    "def posting_listdict(full_quotes):\n",
    "    post_listdict={}\n",
    "    for q in full_quotes:\n",
    "        word_list = build_wordlist(q)\n",
    "        word_dict=build_worddict(word_list)\n",
    "        post_listdict[q] = word_dict\n",
    "    return post_listdict"
   ]
  },
  {
   "cell_type": "code",
   "execution_count": 26,
   "metadata": {},
   "outputs": [],
   "source": [
    "def revposting_listdict(post_listdict):\n",
    "    revpost_listdict={}\n",
    "    for quote in post_listdict:\n",
    "        for word in post_listdict[quote]:\n",
    "            if word in revpost_listdict:\n",
    "                 revpost_listdict[word][quote] = post_listdict[quote][word]\n",
    "            else:\n",
    "                revpost_listdict[word]={}\n",
    "                revpost_listdict[word][quote] = post_listdict[quote][word]\n",
    "    return revpost_listdict"
   ]
  },
  {
   "cell_type": "code",
   "execution_count": 27,
   "metadata": {},
   "outputs": [],
   "source": [
    "def tf_idf(word,quote):\n",
    "    path = 'quotes.txt'\n",
    "    in_file = open(path,\"r\", encoding='latin-1')\n",
    "    in_file = in_file.readlines()\n",
    "    for q in range(len(in_file)):\n",
    "        in_file[q]=in_file[q].rstrip(\"\\n\")\n",
    "    full_quotes=[]\n",
    "    for i in range(0,len(in_file)-1,2):\n",
    "        full_quotes.append(in_file[i] + \" \" + \"-\" + \" \" + in_file[i+1])\n",
    "    \n",
    "    post_listdict=posting_listdict(full_quotes)\n",
    "    revpost_listdict = revposting_listdict(post_listdict)    \n",
    "    \n",
    "    word_max = 0\n",
    "    for key in post_listdict[quote]:\n",
    "        if post_listdict[quote][key] > word_max:\n",
    "            word_max = post_listdict[quote][key]\n",
    "    \n",
    "    tf =  post_listdict[quote][word] / word_max\n",
    "    idf = math.log(len(post_listdict.keys())) / len(revpost_listdict[word].keys())\n",
    "    tfidf = tf * idf\n",
    "    return tfidf"
   ]
  },
  {
   "cell_type": "code",
   "execution_count": 32,
   "metadata": {},
   "outputs": [],
   "source": [
    "def revdict_byword(word):\n",
    "    path = 'quotes.txt'\n",
    "    in_file = open(path,\"r\", encoding='latin-1')\n",
    "    in_file = in_file.readlines()\n",
    "    for q in range(len(in_file)):\n",
    "        in_file[q]=in_file[q].rstrip(\"\\n\")\n",
    "    full_quotes=[]\n",
    "    for i in range(0,len(in_file)-1,2):\n",
    "        full_quotes.append(in_file[i] + \" \" + \"-\" + \" \" + in_file[i+1])\n",
    "    post_listdict=posting_listdict(full_quotes)\n",
    "    revpost_listdict = revposting_listdict(post_listdict)\n",
    "    word_dict = revpost_listdict[word]\n",
    "    return word_dict"
   ]
  },
  {
   "cell_type": "code",
   "execution_count": 33,
   "metadata": {},
   "outputs": [],
   "source": [
    "def single_quotesearch(word):\n",
    "    word_dict = revdict_byword(word)\n",
    "    q_dict = {}\n",
    "    for quote in word_dict:\n",
    "        tfidf = tf_idf(word,quote)\n",
    "        q_dict[quote] = tfidf\n",
    "    \n",
    "    return q_dict"
   ]
  },
  {
   "cell_type": "code",
   "execution_count": 37,
   "metadata": {},
   "outputs": [],
   "source": [
    "def multiple_quotesearch(wlist):\n",
    "    wordlist_dict = {}\n",
    "    for word in wlist:\n",
    "        q_dict=single_quotesearch(word)\n",
    "        for q in q_dict:\n",
    "            if q in wordlist_dict:\n",
    "                wordlist_dict[q] += q_dict[q]\n",
    "            else:\n",
    "                wordlist_dict[q] = q_dict[q]\n",
    "    \n",
    "    return wordlist_dict\n",
    "        \n",
    "        "
   ]
  },
  {
   "cell_type": "code",
   "execution_count": 38,
   "metadata": {},
   "outputs": [
    {
     "name": "stdout",
     "output_type": "stream",
     "text": [
      "dict_items([('Everything that used to be a sin is now a disease. - Bill Maher', 3.3933584753025405)])\n",
      "\n",
      "\n",
      "dict_items([('The heart has its reasons, of which the mind knows nothing. - Blaise Pascal', 0.5655597458837567), ('In every man`s heart there is a secret nerve that answers to the vibrations of beauty. - Christopher Morley', 0.6786716950605081), ('Everybody can be great... because anybody can serve. You don`t have to have a college degree to serve. You don`t have to make your subject and verb agree to serve. You only need a heart full of grace. A soul generated by love. - Martin Luther King Jr.', 0.16966792376512702), ('Love anything and your heart will be wrung and possibly broken. If you want to make sure of keeping it intact you must give it to no one, not even an animal. Wrap it carefully round with hobbies and little luxuries; avoid all entanglements. Lock it up safe in the casket or coffin of your selfishness. But in that casket, safe, dark, motionless, airless, it will change. It will not be broken; it will become unbreakable, impenetrable, irredeemable. To love is to be vulnerable. - C.S. Lewis', 0.09695309929435829), ('We all wish to be judged by our peers, by the men `after our own heart.` Only they really know our mind and only they judge it by standards we fully acknowledge. Theirs is the praise we really covet and the blame we really dread. The little pockets of early Chrstians survived because they cared exclusively for the love of `the bretheren` and stopped their ears to the opinion of the Pagan society around them. But a circle of criminals, cranks, or perverts survives in just the same way; by becoming deaf to the opinion of the outer world, by discounting it as the chatter of outsiders who `don`t understand,` of the `conventional,` the `bourgeois,` the `Establishment,` of prigs, prudes, and humbugs. - C.S. Lewis', 0.07540796611783424), ('I will honor Christmas in my heart, and try to keep it all the year. - Charles Dickens', 0.6786716950605081), ('Show me your hands. Do they have scars from giving? Show me your feet. Are they wounded in service? Show me your heart. Have you left a place for divine love? - Fulton J. Sheen', 0.22622389835350268), ('`Tis the business of little minds to shrink, but he whose heart is firm, and whose conscience approves his conduct, will pursue his principles unto death. - Thomas Paine', 0.33933584753025403), ('The best and most beautiful things in the world cannot be seen or even touched. They must be felt with the heart. - Helen Keller', 0.22622389835350268), ('The mystic chords of memory, stretching from every battlefield and patriot grave to every living heart and hearthstone all over this broad land, will yet swell the chorus of the Union, when again touched, as surely they will be, by the better angels of our nature. - Abraham Lincoln', 0.16966792376512702), ('It is necessary for the welfare of society that genius should be privileged to utter sedition, to blaspheme, to outrage good taste, to corrupt the youthful mind, and generally to scandalize one`s uncles. - George Bernard Shaw', 0.09048955934140109), ('It is always thus, impelled by a state of mind which is destined not to last, that we make our irrevocable decisions. - Marcel Proust', 0.2262238983535027), ('A mind that is stretched by a new experience can never go back to its old dimensions. - Oliver Wendell Holmes', 0.2262238983535027), ('The mind of the thoroughly well-informed man is a dreadful thing. It is like a bric-à-brac shop, all monsters and dust, with everything priced above its proper value. - Oscar Wilde', 0.2262238983535027), ('No passion so effectually robs the mind of all its powers of acting and reasoning as fear. - Edmund Burke', 0.2262238983535027), ('Too many poets delude themselves by thinking that the mind is dangerous and must be left out. Well, the mind is dangerous and must be left in. - Robert Frost', 0.4524477967070054), ('It is your mind that creates this world. - Siddhartha Buddha', 0.4524477967070054), ('As every divided kingdom falls, so every mind divided between many studies confounds and saps itself. - Leonardo da Vinci', 0.2262238983535027), ('My mind is my own church. - Thomas Paine', 0.2262238983535027), ('What we are today comes from our thoughts of yesterday and our present thoughts build our life tomorrow. Our life is the creation of our mind. - Siddhartha Buddha', 0.09048955934140109), ('Beauty is ever to the lonely mind a shadow fleeting; she is never plain. She is a visitor who leaves behind the gift of grief, the souvenir of pain. - Christopher Morley', 0.15081593223566847), ('What a man`s mind can create, man`s character can control. - Thomas Edison', 0.2262238983535027), ('Games lubricate the body and the mind. - Benjamin Franklin', 0.2262238983535027), ('Everything that used to be a sin is now a disease. - Bill Maher', 3.3933584753025405)])\n"
     ]
    }
   ],
   "source": [
    "q_dict=single_quotesearch(\"disease\")\n",
    "print(q_dict.items())\n",
    "print()\n",
    "print()\n",
    "mq_dict = multiple_quotesearch(['heart','mind','disease'])\n",
    "print(mq_dict.items())"
   ]
  },
  {
   "cell_type": "code",
   "execution_count": null,
   "metadata": {},
   "outputs": [],
   "source": []
  },
  {
   "cell_type": "code",
   "execution_count": null,
   "metadata": {},
   "outputs": [],
   "source": []
  },
  {
   "cell_type": "code",
   "execution_count": null,
   "metadata": {},
   "outputs": [],
   "source": []
  },
  {
   "cell_type": "code",
   "execution_count": null,
   "metadata": {},
   "outputs": [],
   "source": []
  }
 ],
 "metadata": {
  "kernelspec": {
   "display_name": "Python 3",
   "language": "python",
   "name": "python3"
  },
  "language_info": {
   "codemirror_mode": {
    "name": "ipython",
    "version": 3
   },
   "file_extension": ".py",
   "mimetype": "text/x-python",
   "name": "python",
   "nbconvert_exporter": "python",
   "pygments_lexer": "ipython3",
   "version": "3.7.6"
  }
 },
 "nbformat": 4,
 "nbformat_minor": 2
}
