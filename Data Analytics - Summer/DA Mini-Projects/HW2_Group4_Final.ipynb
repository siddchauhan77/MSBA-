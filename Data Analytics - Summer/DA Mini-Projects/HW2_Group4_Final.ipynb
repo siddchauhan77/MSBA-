{
 "cells": [
  {
   "cell_type": "markdown",
   "metadata": {},
   "source": [
    "# HW_2\n",
    "## Group 4 ##\n",
    "### Siddhant Chauhan, Chirag Ramesh, Adam Hoard ###\n"
   ]
  },
  {
   "cell_type": "code",
   "execution_count": 1,
   "metadata": {},
   "outputs": [],
   "source": [
    "import pandas as pd\n",
    "import numpy as np\n",
    "from pandas import Series,DataFrame"
   ]
  },
  {
   "cell_type": "code",
   "execution_count": 2,
   "metadata": {},
   "outputs": [],
   "source": [
    "df = pd.read_csv('NYC_Restaurants.csv',dtype=str)\n"
   ]
  },
  {
   "cell_type": "markdown",
   "metadata": {},
   "source": [
    "# [Q1, 6 points] Create a unique name for each restaurant. On the\n",
    "DataFrame created above, add a new column to your DataFrame, called\n",
    "’RESTAURANT’, that combines DBA, BUILDING, STREET, ZIPCODE,\n",
    "and BORO fields. For example, “WENDY’S 469 FLATBUSH AVENUE\n",
    "11225 BROOKLYN”. Print the first 10 values of the RESTAURANT column\n",
    "of your DataFrame"
   ]
  },
  {
   "cell_type": "code",
   "execution_count": 3,
   "metadata": {},
   "outputs": [
    {
     "data": {
      "text/plain": [
       "0           WENDY'S 469 FLATBUSH AVENUE 11225 BROOKLYN\n",
       "1           WENDY'S 469 FLATBUSH AVENUE 11225 BROOKLYN\n",
       "2           WENDY'S 469 FLATBUSH AVENUE 11225 BROOKLYN\n",
       "3           WENDY'S 469 FLATBUSH AVENUE 11225 BROOKLYN\n",
       "4           WENDY'S 469 FLATBUSH AVENUE 11225 BROOKLYN\n",
       "5        TOV KOSHER KITCHEN 97-22 63 ROAD 11374 QUEENS\n",
       "6        TOV KOSHER KITCHEN 97-22 63 ROAD 11374 QUEENS\n",
       "7        TOV KOSHER KITCHEN 97-22 63 ROAD 11374 QUEENS\n",
       "8        TOV KOSHER KITCHEN 97-22 63 ROAD 11374 QUEENS\n",
       "9    BRUNOS ON THE BOULEVARD 8825 ASTORIA BOULEVARD...\n",
       "Name: RESTAURANT, dtype: object"
      ]
     },
     "execution_count": 3,
     "metadata": {},
     "output_type": "execute_result"
    }
   ],
   "source": [
    "#Q1 Print the first 10 values of your column\n",
    "df['RESTAURANT'] = df['DBA'] + \" \" + df['BUILDING'] + \" \" + df['STREET'] + \" \" + df['ZIPCODE']+ \" \" + df['BORO']\n",
    "df['RESTAURANT'].iloc[:10]"
   ]
  },
  {
   "cell_type": "markdown",
   "metadata": {},
   "source": [
    "# [Q2, 6 points] How many restaurants are included in the data?\n",
    "Careful now:\n",
    "• A “Subway” in one particular address (i.e., building, street, zipcode,\n",
    "and boro) counts as one restaurant; don’t combine all Subways into\n",
    "one restaurant!\n",
    "• The data can have multiple violations for the same restaurant!"
   ]
  },
  {
   "cell_type": "code",
   "execution_count": 5,
   "metadata": {},
   "outputs": [
    {
     "data": {
      "text/plain": [
       "10114"
      ]
     },
     "execution_count": 5,
     "metadata": {},
     "output_type": "execute_result"
    }
   ],
   "source": [
    "\n",
    "restcount =  df.drop_duplicates('RESTAURANT')\n",
    "\n",
    "number_restaurants = len(restcount)\n",
    "number_restaurants"
   ]
  },
  {
   "cell_type": "markdown",
   "metadata": {},
   "source": [
    "# [Q3, 6 points] How many chains are there? Let us define a chain to be\n",
    "the same restaurant name occurring in at least two different (building, street,\n",
    "zipcode, boro) addresses (i.e., one DBA with multiple restaurant locations).\n",
    "You’ll see multiple versions of the name ”DUNKIN DONUTS”. Just act\n",
    "as if they are different chains."
   ]
  },
  {
   "cell_type": "code",
   "execution_count": 6,
   "metadata": {},
   "outputs": [
    {
     "data": {
      "text/plain": [
       "SUBWAY                           144\n",
       "MCDONALD'S                        79\n",
       "STARBUCKS COFFEE                  74\n",
       "DUNKIN' DONUTS                    69\n",
       "DUNKIN DONUTS                     64\n",
       "                                ... \n",
       "PEPPINOS PIZZA                     1\n",
       "FDR 99¢ SLICE PIZZA                1\n",
       "DUDLEYS                            1\n",
       "MOVE WITH GRACE                    1\n",
       "CRIF DOGS / PLEASE DON'T TELL      1\n",
       "Name: DBA, Length: 8816, dtype: int64"
      ]
     },
     "execution_count": 6,
     "metadata": {},
     "output_type": "execute_result"
    }
   ],
   "source": [
    "#DBA per address\n",
    "chains_df = df[['DBA','RESTAURANT']].dropna(how='any') \\\n",
    "                                      .drop_duplicates() \\\n",
    "                                      ['DBA'] \\\n",
    "                                      .value_counts()\n",
    "chains_df"
   ]
  },
  {
   "cell_type": "code",
   "execution_count": 7,
   "metadata": {},
   "outputs": [
    {
     "data": {
      "text/plain": [
       "SUBWAY                            True\n",
       "MCDONALD'S                        True\n",
       "STARBUCKS COFFEE                  True\n",
       "DUNKIN' DONUTS                    True\n",
       "DUNKIN DONUTS                     True\n",
       "                                 ...  \n",
       "PEPPINOS PIZZA                   False\n",
       "FDR 99¢ SLICE PIZZA              False\n",
       "DUDLEYS                          False\n",
       "MOVE WITH GRACE                  False\n",
       "CRIF DOGS / PLEASE DON'T TELL    False\n",
       "Name: DBA, Length: 8816, dtype: bool"
      ]
     },
     "execution_count": 7,
     "metadata": {},
     "output_type": "execute_result"
    }
   ],
   "source": [
    "mask = (chains_df > 1) #to be a chain needs more than 1 address\n",
    "mask"
   ]
  },
  {
   "cell_type": "code",
   "execution_count": 8,
   "metadata": {},
   "outputs": [
    {
     "data": {
      "text/plain": [
       "SUBWAY                  144\n",
       "MCDONALD'S               79\n",
       "STARBUCKS COFFEE         74\n",
       "DUNKIN' DONUTS           69\n",
       "DUNKIN DONUTS            64\n",
       "                       ... \n",
       "BOULEVARD TAVERN          2\n",
       "LA BERGAMOTE              2\n",
       "CASCABEL TAQUERIA         2\n",
       "CAFFEBENE                 2\n",
       "GLAZE TERIYAKI GRILL      2\n",
       "Name: DBA, Length: 368, dtype: int64"
      ]
     },
     "execution_count": 8,
     "metadata": {},
     "output_type": "execute_result"
    }
   ],
   "source": [
    "chains= chains_df[mask] #looks at DBA and address where address is > 1\n",
    "chains"
   ]
  },
  {
   "cell_type": "code",
   "execution_count": 9,
   "metadata": {},
   "outputs": [
    {
     "data": {
      "text/plain": [
       "368"
      ]
     },
     "execution_count": 9,
     "metadata": {},
     "output_type": "execute_result"
    }
   ],
   "source": [
    "len(chains) #number of chains in NYC dataset"
   ]
  },
  {
   "cell_type": "markdown",
   "metadata": {},
   "source": [
    "# [Q4, 6 points] Plot a bar graph of the top 20 most popular chains.\n",
    "We already have the chains from the previous problem. Count the number\n",
    "of restaurants for each chain as a measure of its popularity."
   ]
  },
  {
   "cell_type": "code",
   "execution_count": 10,
   "metadata": {},
   "outputs": [
    {
     "data": {
      "text/plain": [
       "<matplotlib.axes._subplots.AxesSubplot at 0x7ff558372d10>"
      ]
     },
     "execution_count": 10,
     "metadata": {},
     "output_type": "execute_result"
    },
    {
     "data": {
      "image/png": "[encoded data removed]",
      "text/plain": [
       "<Figure size 432x288 with 1 Axes>"
      ]
     },
     "metadata": {
      "needs_background": "light"
     },
     "output_type": "display_data"
    }
   ],
   "source": [
    "chains[:20].plot(kind='bar')"
   ]
  },
  {
   "cell_type": "markdown",
   "metadata": {},
   "source": [
    "# [Q5, 6 points] What fraction of all restaurants are chain restaurants?"
   ]
  },
  {
   "cell_type": "code",
   "execution_count": 11,
   "metadata": {},
   "outputs": [
    {
     "data": {
      "text/plain": [
       "Index(['SUBWAY', 'MCDONALD'S', 'STARBUCKS COFFEE', 'DUNKIN' DONUTS',\n",
       "       'DUNKIN DONUTS', 'KENNEDY FRIED CHICKEN', 'BURGER KING',\n",
       "       'CROWN FRIED CHICKEN', 'DUNKIN' DONUTS, BASKIN ROBBINS',\n",
       "       'CHIPOTLE MEXICAN GRILL',\n",
       "       ...\n",
       "       'MOMO SUSHI', 'S'MAC', 'OBAO', 'BOCCA DI BACCO', 'KROLEWSKIE JADLO',\n",
       "       'BOULEVARD TAVERN', 'LA BERGAMOTE', 'CASCABEL TAQUERIA', 'CAFFEBENE',\n",
       "       'GLAZE TERIYAKI GRILL'],\n",
       "      dtype='object', length=368)"
      ]
     },
     "execution_count": 11,
     "metadata": {},
     "output_type": "execute_result"
    }
   ],
   "source": [
    "frac_of_chains = chains[restcount['DBA'].value_counts()>1].index\n",
    "frac_of_chains"
   ]
  },
  {
   "cell_type": "code",
   "execution_count": 12,
   "metadata": {},
   "outputs": [],
   "source": [
    "def func(id):\n",
    "    if restcount.loc[id, 'DBA'] in frac_of_chains:\n",
    "        return True\n",
    "    return False\n",
    "\n",
    "restcount_chain = restcount[restcount.index.map(func)]"
   ]
  },
  {
   "cell_type": "code",
   "execution_count": 13,
   "metadata": {},
   "outputs": [
    {
     "data": {
      "text/plain": [
       "0.16472216729286138"
      ]
     },
     "execution_count": 13,
     "metadata": {},
     "output_type": "execute_result"
    }
   ],
   "source": [
    "float(len(restcount_chain))/ number_restaurants"
   ]
  },
  {
   "cell_type": "markdown",
   "metadata": {},
   "source": [
    "# [Q6, 6 points] Plot the number of non-chain restaurants in each\n",
    "boro. First, we need to figure out all the non-chain restaurants, then select\n",
    "out only those restaurants, and finally plot the number of such restaurants\n",
    "by boro. Make sure to look at the plot; we don’t want to see... oh... the\n",
    "“missing” boro."
   ]
  },
  {
   "cell_type": "code",
   "execution_count": 14,
   "metadata": {},
   "outputs": [],
   "source": [
    "#All_Rest = df.drop_duplicates('CAMIS', keep='first').dropna()\n",
    "#Non_Chain = All_Rest.drop_duplicates('DBA', keep = False)\n",
    "#Non_Chain_Numbers= Non_Chain['BORO'].value_counts()\n",
    "#Non_Chain_Numbers[:5].plot(kind = 'bar')\n",
    "\n",
    "def ourfunc(id):\n",
    "    if restcount.loc[id,'DBA'] in frac_of_chains:\n",
    "        return True\n",
    "    return False"
   ]
  },
  {
   "cell_type": "code",
   "execution_count": 15,
   "metadata": {},
   "outputs": [],
   "source": [
    "restcount_nonchain = restcount[restcount.index.map(ourfunc) == False]"
   ]
  },
  {
   "cell_type": "code",
   "execution_count": 16,
   "metadata": {},
   "outputs": [
    {
     "data": {
      "text/plain": [
       "<matplotlib.axes._subplots.AxesSubplot at 0x7ff558eca390>"
      ]
     },
     "execution_count": 16,
     "metadata": {},
     "output_type": "execute_result"
    },
    {
     "data": {
      "image/png": "[encoded data removed]",
      "text/plain": [
       "<Figure size 432x288 with 1 Axes>"
      ]
     },
     "metadata": {
      "needs_background": "light"
     },
     "output_type": "display_data"
    }
   ],
   "source": [
    "restcount_nonchain_all = restcount_nonchain[restcount_nonchain['BORO']!='Missing']\n",
    "#plot\n",
    "restcount_nonchain_all['BORO'].value_counts().plot(kind='bar')"
   ]
  },
  {
   "cell_type": "markdown",
   "metadata": {},
   "source": [
    "# [Q7, 8 points] Plot the fraction of non-chain restaurants in each\n",
    "boro. The boro with the most non-chain restaurants might just be the\n",
    "boro with the most restaurants in general. If we want to find the boro that\n",
    "attracts the most “independent” restauranteurs, we must divide the number\n",
    "of non-chain restaurants by the total number of restaurants in the boro. Plot\n",
    "this.\n",
    "Is the boro with the most independent restaurants also the one with the\n",
    "highest ratio of independent restaurants?"
   ]
  },
  {
   "cell_type": "code",
   "execution_count": 17,
   "metadata": {},
   "outputs": [
    {
     "data": {
      "text/plain": [
       "<matplotlib.axes._subplots.AxesSubplot at 0x7ff558f57cd0>"
      ]
     },
     "execution_count": 17,
     "metadata": {},
     "output_type": "execute_result"
    },
    {
     "data": {
      "image/png": "[encoded data removed]",
      "text/plain": [
       "<Figure size 432x288 with 1 Axes>"
      ]
     },
     "metadata": {
      "needs_background": "light"
     },
     "output_type": "display_data"
    }
   ],
   "source": [
    "All_Rest= df.drop_duplicates('CAMIS', keep= 'first').dropna()\n",
    "\n",
    "Non_Chain = All_Rest.drop_duplicates('DBA', keep = False)\n",
    "\n",
    "All_Rest_Numbers=All_Rest['BORO'].value_counts()\n",
    "\n",
    "Non_Chain_Numbers= Non_Chain['BORO'].value_counts()\n",
    "\n",
    "frac_of_Non_Chain = Non_Chain_Numbers/All_Rest_Numbers\n",
    "\n",
    "frac_of_Non_Chain[:5].plot(kind = 'bar')"
   ]
  },
  {
   "cell_type": "markdown",
   "metadata": {},
   "source": [
    "# [Q8, 6 points] Plot the popularity of cuisines. Which cuisines are\n",
    "the most well-represented among all restaurants? Define the popularity of a\n",
    "cuisine as the number of restaurants serving that cuisine. Plot the popularity\n",
    "of the top 20 cuisines."
   ]
  },
  {
   "cell_type": "code",
   "execution_count": 18,
   "metadata": {},
   "outputs": [
    {
     "data": {
      "text/plain": [
       "<matplotlib.axes._subplots.AxesSubplot at 0x7ff559b2f610>"
      ]
     },
     "execution_count": 18,
     "metadata": {},
     "output_type": "execute_result"
    },
    {
     "data": {
      "image/png": "[encoded data removed]",
      "text/plain": [
       "<Figure size 432x288 with 1 Axes>"
      ]
     },
     "metadata": {
      "needs_background": "light"
     },
     "output_type": "display_data"
    }
   ],
   "source": [
    "#All_Rest= df.drop_duplicates('CAMIS', keep= 'first').dropna()\n",
    "#All_Rest = All_Rest.drop_duplicates('DBA', keep = 'first')\n",
    "#Cuisine_Pop= All_Rest['CUISINE DESCRIPTION'].value_counts()\n",
    "#Cuisine_Pop[:20].plot(kind = 'bar')\n",
    "\n",
    "cuisine_all = restcount['CUISINE DESCRIPTION'].value_counts()\n",
    "cuisine_all[:20].plot(kind='bar')"
   ]
  },
  {
   "cell_type": "markdown",
   "metadata": {},
   "source": [
    "# [Q9, 9 points] Plot the cuisines among restaurants which never got\n",
    "cited for violations. Ideally, you should explore and see what happens\n",
    "when there is no violation, but here I will just tell you: the ’VIOLATION\n",
    "CODE’ field is missing.\n",
    "First, find the restaurants that were never cited for a code violation. The\n",
    "compute the popularity of each cuisine among these “clean” restaurants. Plot\n",
    "the popularity of the top-20 among these cuisines."
   ]
  },
  {
   "cell_type": "code",
   "execution_count": 19,
   "metadata": {},
   "outputs": [],
   "source": [
    "cuisines_clean = df[['CUISINE DESCRIPTION','VIOLATION CODE','RESTAURANT']].fillna(0).drop_duplicates(subset='RESTAURANT')"
   ]
  },
  {
   "cell_type": "code",
   "execution_count": 20,
   "metadata": {},
   "outputs": [],
   "source": [
    "mask_clean= (cuisines_clean['VIOLATION CODE'] == 0)"
   ]
  },
  {
   "cell_type": "code",
   "execution_count": 21,
   "metadata": {
    "scrolled": true
   },
   "outputs": [
    {
     "data": {
      "text/plain": [
       "<matplotlib.axes._subplots.AxesSubplot at 0x7ff559dc7590>"
      ]
     },
     "execution_count": 21,
     "metadata": {},
     "output_type": "execute_result"
    },
    {
     "data": {
      "image/png": "[encoded data removed]",
      "text/plain": [
       "<Figure size 432x288 with 1 Axes>"
      ]
     },
     "metadata": {
      "needs_background": "light"
     },
     "output_type": "display_data"
    }
   ],
   "source": [
    "cuisines_clean_final = cuisines_clean[mask_clean]\n",
    "cuisines_clean_final['CUISINE DESCRIPTION'].value_counts()[:20].plot(kind='bar')\n",
    "\n"
   ]
  },
  {
   "cell_type": "markdown",
   "metadata": {},
   "source": [
    "# [Q10, 6 points] What cuisines tend to be the “cleanest”?\n",
    "• Select all cuisines for which there were at least 20 restaurants representing that cuisine.\n",
    "• For each such cuisine, compute the ratio of the counts in Q9 to Q8.\n",
    "This is the ratio of restaurants that never got cited, versus total number\n",
    "of restaurants, for each cuisine.\n",
    "• Find the top-10 cuisines with the highest ratios; these are that cuisines\n",
    "whose restaurants are “most likely to be clean.”"
   ]
  },
  {
   "cell_type": "code",
   "execution_count": 24,
   "metadata": {},
   "outputs": [
    {
     "data": {
      "text/plain": [
       "Vietnamese/Cambodian/Malaysia    0.093750\n",
       "Soul Food                        0.090909\n",
       "Other                            0.067961\n",
       "Irish                            0.057143\n",
       "Asian                            0.047945\n",
       "Soups & Sandwiches               0.047619\n",
       "Barbecue                         0.047619\n",
       "Continental                      0.047619\n",
       "Chinese                          0.042805\n",
       "Delicatessen                     0.039216\n",
       "Name: CUISINE DESCRIPTION, dtype: float64"
      ]
     },
     "execution_count": 24,
     "metadata": {},
     "output_type": "execute_result"
    }
   ],
   "source": [
    "\n",
    "All_Cuisine= restcount['CUISINE DESCRIPTION'].value_counts()\n",
    "Mask_Cuisine = (All_Cuisine >=20)\n",
    "Cuisine_Clean= cuisines_clean_final['CUISINE DESCRIPTION'].value_counts()\n",
    "Ratio_Cuisine= Cuisine_Clean[Mask_Cuisine]/All_Cuisine[Mask_Cuisine]\n",
    "Ratio_Cuisine.sort_values(ascending= False)[:10]\n",
    "\n"
   ]
  },
  {
   "cell_type": "markdown",
   "metadata": {},
   "source": [
    "# [Q11, 8 points] What are the most common violations in each borough? Create a table of the number of times each violation description\n",
    "was observed in each borough, and figure out the most common violation\n",
    "description for each borough.\n",
    "To create the table, check out the crosstab function. We will see a more\n",
    "general version of this when we discuss groupby in class.\n",
    "Once you do have the table, you will still need to find the most common\n",
    "violation description for each boroug"
   ]
  },
  {
   "cell_type": "code",
   "execution_count": 25,
   "metadata": {},
   "outputs": [
    {
     "data": {
      "text/html": [
       "<div>\n",
       "<style scoped>\n",
       "    .dataframe tbody tr th:only-of-type {\n",
       "        vertical-align: middle;\n",
       "    }\n",
       "\n",
       "    .dataframe tbody tr th {\n",
       "        vertical-align: top;\n",
       "    }\n",
       "\n",
       "    .dataframe thead th {\n",
       "        text-align: right;\n",
       "    }\n",
       "</style>\n",
       "<table border=\"1\" class=\"dataframe\">\n",
       "  <thead>\n",
       "    <tr style=\"text-align: right;\">\n",
       "      <th>BORO</th>\n",
       "      <th>BRONX</th>\n",
       "      <th>BROOKLYN</th>\n",
       "      <th>MANHATTAN</th>\n",
       "      <th>QUEENS</th>\n",
       "      <th>STATEN ISLAND</th>\n",
       "    </tr>\n",
       "    <tr>\n",
       "      <th>VIOLATION DESCRIPTION</th>\n",
       "      <th></th>\n",
       "      <th></th>\n",
       "      <th></th>\n",
       "      <th></th>\n",
       "      <th></th>\n",
       "    </tr>\n",
       "  </thead>\n",
       "  <tbody>\n",
       "    <tr>\n",
       "      <th>\u001aChoking first aid\u001a poster not posted. \u001aAlcohol and pregnancy\u001a warning sign not posted. Resuscitation equipment: exhaled air resuscitation masks (adult &amp; pediatric), latex gloves, sign not posted. Inspection report sign not posted.</th>\n",
       "      <td>12</td>\n",
       "      <td>40</td>\n",
       "      <td>49</td>\n",
       "      <td>29</td>\n",
       "      <td>5</td>\n",
       "    </tr>\n",
       "    <tr>\n",
       "      <th>''''No Smoking\u001a and/or 'Smoking Permitted\u001a sign not conspicuously posted. Health warning not present on 'Smoking Permitted\u001a</th>\n",
       "      <td>1</td>\n",
       "      <td>5</td>\n",
       "      <td>6</td>\n",
       "      <td>4</td>\n",
       "      <td>1</td>\n",
       "    </tr>\n",
       "    <tr>\n",
       "      <th>''''Wash hands\u001a sign not posted at hand wash facility.</th>\n",
       "      <td>21</td>\n",
       "      <td>57</td>\n",
       "      <td>93</td>\n",
       "      <td>60</td>\n",
       "      <td>8</td>\n",
       "    </tr>\n",
       "    <tr>\n",
       "      <th>A food containing artificial trans fat, with 0.5 grams or more of trans fat per serving, is being stored, distributed, held for service, used in preparation of a menu item, or served.</th>\n",
       "      <td>5</td>\n",
       "      <td>12</td>\n",
       "      <td>19</td>\n",
       "      <td>24</td>\n",
       "      <td>3</td>\n",
       "    </tr>\n",
       "    <tr>\n",
       "      <th>Accurate thermometer not provided in refrigerated or hot holding equipment.</th>\n",
       "      <td>21</td>\n",
       "      <td>76</td>\n",
       "      <td>98</td>\n",
       "      <td>92</td>\n",
       "      <td>16</td>\n",
       "    </tr>\n",
       "    <tr>\n",
       "      <th>...</th>\n",
       "      <td>...</td>\n",
       "      <td>...</td>\n",
       "      <td>...</td>\n",
       "      <td>...</td>\n",
       "      <td>...</td>\n",
       "    </tr>\n",
       "    <tr>\n",
       "      <th>Toilet facility not provided for employees or for patrons when required.</th>\n",
       "      <td>2</td>\n",
       "      <td>3</td>\n",
       "      <td>11</td>\n",
       "      <td>3</td>\n",
       "      <td>1</td>\n",
       "    </tr>\n",
       "    <tr>\n",
       "      <th>Toilet facility used by women does not have at least one covered garbage receptacle.</th>\n",
       "      <td>1</td>\n",
       "      <td>5</td>\n",
       "      <td>7</td>\n",
       "      <td>2</td>\n",
       "      <td>1</td>\n",
       "    </tr>\n",
       "    <tr>\n",
       "      <th>Toxic chemical improperly labeled, stored or used such that food contamination may occur.</th>\n",
       "      <td>2</td>\n",
       "      <td>8</td>\n",
       "      <td>15</td>\n",
       "      <td>20</td>\n",
       "      <td>3</td>\n",
       "    </tr>\n",
       "    <tr>\n",
       "      <th>Unprotected food re-served.</th>\n",
       "      <td>1</td>\n",
       "      <td>0</td>\n",
       "      <td>1</td>\n",
       "      <td>0</td>\n",
       "      <td>0</td>\n",
       "    </tr>\n",
       "    <tr>\n",
       "      <th>Wiping cloths soiled or not stored in sanitizing solution.</th>\n",
       "      <td>47</td>\n",
       "      <td>198</td>\n",
       "      <td>285</td>\n",
       "      <td>168</td>\n",
       "      <td>25</td>\n",
       "    </tr>\n",
       "  </tbody>\n",
       "</table>\n",
       "<p>82 rows × 5 columns</p>\n",
       "</div>"
      ],
      "text/plain": [
       "BORO                                                BRONX  BROOKLYN  \\\n",
       "VIOLATION DESCRIPTION                                                 \n",
       "\u001aChoking first aid\u001a poster not posted. \u001aAlcohol...     12        40   \n",
       "''''No Smoking\u001a and/or 'Smoking Permitted\u001a sign...      1         5   \n",
       "''''Wash hands\u001a sign not posted at hand wash fa...     21        57   \n",
       "A food containing artificial trans fat, with 0....      5        12   \n",
       "Accurate thermometer not provided in refrigerat...     21        76   \n",
       "...                                                   ...       ...   \n",
       "Toilet facility not provided for employees or f...      2         3   \n",
       "Toilet facility used by women does not have at ...      1         5   \n",
       "Toxic chemical improperly labeled, stored or us...      2         8   \n",
       "Unprotected food re-served.                             1         0   \n",
       "Wiping cloths soiled or not stored in sanitizin...     47       198   \n",
       "\n",
       "BORO                                                MANHATTAN  QUEENS  \\\n",
       "VIOLATION DESCRIPTION                                                   \n",
       "\u001aChoking first aid\u001a poster not posted. \u001aAlcohol...         49      29   \n",
       "''''No Smoking\u001a and/or 'Smoking Permitted\u001a sign...          6       4   \n",
       "''''Wash hands\u001a sign not posted at hand wash fa...         93      60   \n",
       "A food containing artificial trans fat, with 0....         19      24   \n",
       "Accurate thermometer not provided in refrigerat...         98      92   \n",
       "...                                                       ...     ...   \n",
       "Toilet facility not provided for employees or f...         11       3   \n",
       "Toilet facility used by women does not have at ...          7       2   \n",
       "Toxic chemical improperly labeled, stored or us...         15      20   \n",
       "Unprotected food re-served.                                 1       0   \n",
       "Wiping cloths soiled or not stored in sanitizin...        285     168   \n",
       "\n",
       "BORO                                                STATEN ISLAND  \n",
       "VIOLATION DESCRIPTION                                              \n",
       "\u001aChoking first aid\u001a poster not posted. \u001aAlcohol...              5  \n",
       "''''No Smoking\u001a and/or 'Smoking Permitted\u001a sign...              1  \n",
       "''''Wash hands\u001a sign not posted at hand wash fa...              8  \n",
       "A food containing artificial trans fat, with 0....              3  \n",
       "Accurate thermometer not provided in refrigerat...             16  \n",
       "...                                                           ...  \n",
       "Toilet facility not provided for employees or f...              1  \n",
       "Toilet facility used by women does not have at ...              1  \n",
       "Toxic chemical improperly labeled, stored or us...              3  \n",
       "Unprotected food re-served.                                     0  \n",
       "Wiping cloths soiled or not stored in sanitizin...             25  \n",
       "\n",
       "[82 rows x 5 columns]"
      ]
     },
     "execution_count": 25,
     "metadata": {},
     "output_type": "execute_result"
    }
   ],
   "source": [
    "df_notmissing= df[df['BORO']!='Missing']\n",
    "table_violations = pd.crosstab(index=df_notmissing['VIOLATION DESCRIPTION'],columns = df_notmissing['BORO'])\n",
    "table_violations.idxmax()\n",
    "\n",
    "table_violations"
   ]
  },
  {
   "cell_type": "markdown",
   "metadata": {},
   "source": [
    "# [Q12, 9 points] What are the most common violations per borough,\n",
    "after normalizing for the relative abundance of each violation?\n",
    "Hopefully, the answer to the previous question left you unsatisfied, because\n",
    "some violations are just very common, irrespective of borough. A better\n",
    "approach would be to normalize the violation counts, as follows.\n",
    "• Get overall frequencies: Figure out how common each violation is, over\n",
    "the entire dataset; let’s call this violationFrequency.\n",
    "• Normalize: Consider the table of number of violations by boro that\n",
    "you created for the previous question. For each borough, divide the\n",
    "number of violations of each type by the total number of violations for\n",
    "that type; i.e., divide the series of violations by violationFrequency.\n",
    "We want to do this for each borough.\n",
    "• Find the biggest violations: Now, after this normalization, for each\n",
    "borough, figure out the most common violation description."
   ]
  },
  {
   "cell_type": "code",
   "execution_count": 26,
   "metadata": {},
   "outputs": [],
   "source": [
    "freq_violation = df['VIOLATION DESCRIPTION'].value_counts()"
   ]
  },
  {
   "cell_type": "code",
   "execution_count": 27,
   "metadata": {},
   "outputs": [
    {
     "data": {
      "text/plain": [
       "BORO\n",
       "BRONX                                  Unprotected food re-served.\n",
       "BROOKLYN         Precooked potentially hazardous food from comm...\n",
       "MANHATTAN        Out-of package sale of tobacco products observed.\n",
       "QUEENS           Caloric content range (minimum to maximum) not...\n",
       "STATEN ISLAND    Eggs found dirty/cracked; liquid, frozen or po...\n",
       "dtype: object"
      ]
     },
     "execution_count": 27,
     "metadata": {},
     "output_type": "execute_result"
    }
   ],
   "source": [
    "#function\n",
    "\n",
    "def normalize_divide(x):\n",
    "    return x / freq_violation\n",
    "\n",
    "Most_comm_violations = table_violations.apply(normalize_divide).idxmax()\n",
    "\n",
    "Most_comm_violations"
   ]
  },
  {
   "cell_type": "markdown",
   "metadata": {},
   "source": [
    "# [Q13, 8 points] How many phone area codes correspond to a single\n",
    "zipcode? The first three digits of the restaurant phone numbers are their\n",
    "area codes. The area codes do not generally align with zip codes, but some\n",
    "area codes are only for a single zip code. You must figure out how many area\n",
    "codes have this property.\n",
    "• To extract the first 3 characters of the phone number, recall that strings\n",
    "are pretty similar to lists."
   ]
  },
  {
   "cell_type": "code",
   "execution_count": 28,
   "metadata": {},
   "outputs": [],
   "source": [
    "def find_area(x):\n",
    "    return x[:3] #first 3 numbers of the phone numbers"
   ]
  },
  {
   "cell_type": "code",
   "execution_count": 29,
   "metadata": {},
   "outputs": [
    {
     "data": {
      "text/html": [
       "<div>\n",
       "<style scoped>\n",
       "    .dataframe tbody tr th:only-of-type {\n",
       "        vertical-align: middle;\n",
       "    }\n",
       "\n",
       "    .dataframe tbody tr th {\n",
       "        vertical-align: top;\n",
       "    }\n",
       "\n",
       "    .dataframe thead th {\n",
       "        text-align: right;\n",
       "    }\n",
       "</style>\n",
       "<table border=\"1\" class=\"dataframe\">\n",
       "  <thead>\n",
       "    <tr style=\"text-align: right;\">\n",
       "      <th></th>\n",
       "      <th>count</th>\n",
       "    </tr>\n",
       "    <tr>\n",
       "      <th>PHONE AREA</th>\n",
       "      <th></th>\n",
       "    </tr>\n",
       "  </thead>\n",
       "  <tbody>\n",
       "    <tr>\n",
       "      <th>171</th>\n",
       "      <td>1</td>\n",
       "    </tr>\n",
       "    <tr>\n",
       "      <th>410</th>\n",
       "      <td>1</td>\n",
       "    </tr>\n",
       "    <tr>\n",
       "      <th>615</th>\n",
       "      <td>1</td>\n",
       "    </tr>\n",
       "    <tr>\n",
       "      <th>702</th>\n",
       "      <td>1</td>\n",
       "    </tr>\n",
       "    <tr>\n",
       "      <th>728</th>\n",
       "      <td>1</td>\n",
       "    </tr>\n",
       "    <tr>\n",
       "      <th>855</th>\n",
       "      <td>1</td>\n",
       "    </tr>\n",
       "    <tr>\n",
       "      <th>905</th>\n",
       "      <td>1</td>\n",
       "    </tr>\n",
       "    <tr>\n",
       "      <th>954</th>\n",
       "      <td>1</td>\n",
       "    </tr>\n",
       "    <tr>\n",
       "      <th>970</th>\n",
       "      <td>1</td>\n",
       "    </tr>\n",
       "  </tbody>\n",
       "</table>\n",
       "</div>"
      ],
      "text/plain": [
       "            count\n",
       "PHONE AREA       \n",
       "171             1\n",
       "410             1\n",
       "615             1\n",
       "702             1\n",
       "728             1\n",
       "855             1\n",
       "905             1\n",
       "954             1\n",
       "970             1"
      ]
     },
     "execution_count": 29,
     "metadata": {},
     "output_type": "execute_result"
    }
   ],
   "source": [
    "df['PHONE AREA'] = df['PHONE'].map(find_area)\n",
    "\n",
    "zipcode_ct = df.groupby(['PHONE AREA'])['ZIPCODE'].agg(['count'])\n",
    "\n",
    "zipcode_ct_single = zipcode_ct[zipcode_ct['count']==1]   #show only where the coutns are == 1\n",
    "\n",
    "zipcode_ct_single"
   ]
  },
  {
   "cell_type": "code",
   "execution_count": 30,
   "metadata": {},
   "outputs": [
    {
     "data": {
      "text/plain": [
       "9"
      ]
     },
     "execution_count": 30,
     "metadata": {},
     "output_type": "execute_result"
    }
   ],
   "source": [
    "len(zipcode_ct_single)  #number of phone area codes corresponding to a single zipcode"
   ]
  },
  {
   "cell_type": "markdown",
   "metadata": {},
   "source": [
    "# [Q14, 10 points] Find common misspellings of street names Sometimes, it’s Avenue, and sometimes, it’s Ave. We will try to come up with an\n",
    "automated way to find common misspellings. The idea is the following: if\n",
    "Ave and Avenue are the same, they should show up often in similar-sounding\n",
    "street names, e.g., Lexington Ave and Lexington Avenue.\n",
    "• Create a new column, called STREET TYPE, which is the the last word\n",
    "in the name of the street. For example, if the street is “Astoria Boulevard”, the street type should be “Boulevard”.\n",
    "• Create another column, called STREET BASE, which contains everything\n",
    "but the last word in the name of the street. For example, if the street\n",
    "is “Astoria Boulevard”, the street base should be “Astoria”.\n",
    "• Create a third column, called STREET BASE & ZIP, that combines the\n",
    "street base and the zipcode.\n",
    "• Create a table containing just these three columns, and remove any\n",
    "duplicates or instances where street base is empty. This table now\n",
    "contains unique street names, along with the street type.\n",
    "• Merge this table with itself, on the STREET BASE & ZIP column. Thus,\n",
    "in the new merged tabled, we will have two STREET TYPE fields for\n",
    "each street base and zipcode. For example, if both Lexington Ave and\n",
    "Lexington Avenue exist in the same zipcode, we will get a row for the\n",
    "street base Lexington and the two street types Ave and Avenue.\n",
    "• From the merged table, select only the rows where the street types are\n",
    "different.\n",
    "• Now, do a cross-tabulation of the two distinct street types (check out\n",
    "the crosstab function in Pandas). This gives us the number of times\n",
    "Ave and Avenue were used with the same STREET BASE & ZIP.\n",
    "• From this cross-tabulation table, find the most commonly street type\n",
    "that occurs with each of the following: AVE, ST, RD, PL, BOULEARD,\n",
    "and BULEVARD"
   ]
  },
  {
   "cell_type": "code",
   "execution_count": 31,
   "metadata": {},
   "outputs": [],
   "source": [
    "def street_type(x):\n",
    "    x = x.strip()\n",
    "    return x.split(' ')[-1]  #split at space and return the last word\n"
   ]
  },
  {
   "cell_type": "code",
   "execution_count": 32,
   "metadata": {},
   "outputs": [],
   "source": [
    "df['STREET TYPE'] = df['STREET'].map(street_type)"
   ]
  },
  {
   "cell_type": "code",
   "execution_count": 33,
   "metadata": {},
   "outputs": [],
   "source": [
    "def street_type(x):\n",
    "    x= x.strip()\n",
    "    return x.rsplit(' ',1)[0]   #removes from the right at the space and cuts out 1 word from the right\n",
    "    #return ' '.join(x)\n"
   ]
  },
  {
   "cell_type": "code",
   "execution_count": 34,
   "metadata": {},
   "outputs": [],
   "source": [
    "df['STREET BASE'] = df['STREET'].map(street_type)"
   ]
  },
  {
   "cell_type": "code",
   "execution_count": 35,
   "metadata": {},
   "outputs": [],
   "source": [
    "def add_base_code(id):\n",
    "    x = df.loc[id]\n",
    "    return x['STREET BASE']+' '+x['ZIPCODE']\n"
   ]
  },
  {
   "cell_type": "code",
   "execution_count": 36,
   "metadata": {},
   "outputs": [],
   "source": [
    "\n",
    "df['STREET BASE & ZIP'] = df.index.map(add_base_code)"
   ]
  },
  {
   "cell_type": "code",
   "execution_count": 37,
   "metadata": {},
   "outputs": [
    {
     "data": {
      "text/html": [
       "<div>\n",
       "<style scoped>\n",
       "    .dataframe tbody tr th:only-of-type {\n",
       "        vertical-align: middle;\n",
       "    }\n",
       "\n",
       "    .dataframe tbody tr th {\n",
       "        vertical-align: top;\n",
       "    }\n",
       "\n",
       "    .dataframe thead th {\n",
       "        text-align: right;\n",
       "    }\n",
       "</style>\n",
       "<table border=\"1\" class=\"dataframe\">\n",
       "  <thead>\n",
       "    <tr style=\"text-align: right;\">\n",
       "      <th></th>\n",
       "      <th>STREET TYPE</th>\n",
       "      <th>STREET BASE</th>\n",
       "      <th>STREET BASE &amp; ZIP</th>\n",
       "    </tr>\n",
       "  </thead>\n",
       "  <tbody>\n",
       "    <tr>\n",
       "      <th>0</th>\n",
       "      <td>AVENUE</td>\n",
       "      <td>FLATBUSH</td>\n",
       "      <td>FLATBUSH 11225</td>\n",
       "    </tr>\n",
       "    <tr>\n",
       "      <th>5</th>\n",
       "      <td>ROAD</td>\n",
       "      <td>63</td>\n",
       "      <td>63 11374</td>\n",
       "    </tr>\n",
       "    <tr>\n",
       "      <th>9</th>\n",
       "      <td>BOULEVARD</td>\n",
       "      <td>ASTORIA</td>\n",
       "      <td>ASTORIA 11369</td>\n",
       "    </tr>\n",
       "    <tr>\n",
       "      <th>16</th>\n",
       "      <td>AVENUE</td>\n",
       "      <td>SUTTER</td>\n",
       "      <td>SUTTER 11208</td>\n",
       "    </tr>\n",
       "    <tr>\n",
       "      <th>22</th>\n",
       "      <td>HIGHWAY</td>\n",
       "      <td>KINGS</td>\n",
       "      <td>KINGS 11223</td>\n",
       "    </tr>\n",
       "    <tr>\n",
       "      <th>...</th>\n",
       "      <td>...</td>\n",
       "      <td>...</td>\n",
       "      <td>...</td>\n",
       "    </tr>\n",
       "    <tr>\n",
       "      <th>44613</th>\n",
       "      <td>ST</td>\n",
       "      <td>9TH</td>\n",
       "      <td>9TH 11101</td>\n",
       "    </tr>\n",
       "    <tr>\n",
       "      <th>44617</th>\n",
       "      <td>AVE</td>\n",
       "      <td>ROGERS</td>\n",
       "      <td>ROGERS 11216</td>\n",
       "    </tr>\n",
       "    <tr>\n",
       "      <th>44618</th>\n",
       "      <td>AVE</td>\n",
       "      <td>GRAND</td>\n",
       "      <td>GRAND 11378</td>\n",
       "    </tr>\n",
       "    <tr>\n",
       "      <th>44619</th>\n",
       "      <td>ST</td>\n",
       "      <td>E 48TH</td>\n",
       "      <td>E 48TH 10017</td>\n",
       "    </tr>\n",
       "    <tr>\n",
       "      <th>44629</th>\n",
       "      <td>ST</td>\n",
       "      <td>E 13TH</td>\n",
       "      <td>E 13TH 10009</td>\n",
       "    </tr>\n",
       "  </tbody>\n",
       "</table>\n",
       "<p>2850 rows × 3 columns</p>\n",
       "</div>"
      ],
      "text/plain": [
       "      STREET TYPE STREET BASE STREET BASE & ZIP\n",
       "0          AVENUE    FLATBUSH    FLATBUSH 11225\n",
       "5            ROAD          63          63 11374\n",
       "9       BOULEVARD     ASTORIA     ASTORIA 11369\n",
       "16         AVENUE      SUTTER      SUTTER 11208\n",
       "22        HIGHWAY       KINGS       KINGS 11223\n",
       "...           ...         ...               ...\n",
       "44613          ST         9TH         9TH 11101\n",
       "44617         AVE      ROGERS      ROGERS 11216\n",
       "44618         AVE       GRAND       GRAND 11378\n",
       "44619          ST      E 48TH      E 48TH 10017\n",
       "44629          ST      E 13TH      E 13TH 10009\n",
       "\n",
       "[2850 rows x 3 columns]"
      ]
     },
     "execution_count": 37,
     "metadata": {},
     "output_type": "execute_result"
    }
   ],
   "source": [
    "df_common_street_type = df[['STREET TYPE','STREET BASE','STREET BASE & ZIP']]\n",
    "df_common_street_type = df_common_street_type.drop_duplicates()\n",
    "df_common_street_type= df_common_street_type[df_common_street_type['STREET BASE']!='']\n",
    "df_common_street_type"
   ]
  },
  {
   "cell_type": "code",
   "execution_count": 38,
   "metadata": {},
   "outputs": [
    {
     "data": {
      "text/html": [
       "<div>\n",
       "<style scoped>\n",
       "    .dataframe tbody tr th:only-of-type {\n",
       "        vertical-align: middle;\n",
       "    }\n",
       "\n",
       "    .dataframe tbody tr th {\n",
       "        vertical-align: top;\n",
       "    }\n",
       "\n",
       "    .dataframe thead th {\n",
       "        text-align: right;\n",
       "    }\n",
       "</style>\n",
       "<table border=\"1\" class=\"dataframe\">\n",
       "  <thead>\n",
       "    <tr style=\"text-align: right;\">\n",
       "      <th></th>\n",
       "      <th>STREET TYPE_1</th>\n",
       "      <th>STREET BASE_1</th>\n",
       "      <th>STREET BASE &amp; ZIP</th>\n",
       "      <th>STREET TYPE_2</th>\n",
       "      <th>STREET BASE_2</th>\n",
       "    </tr>\n",
       "  </thead>\n",
       "  <tbody>\n",
       "    <tr>\n",
       "      <th>1</th>\n",
       "      <td>AVENUE</td>\n",
       "      <td>FLATBUSH</td>\n",
       "      <td>FLATBUSH 11225</td>\n",
       "      <td>AVE</td>\n",
       "      <td>FLATBUSH</td>\n",
       "    </tr>\n",
       "    <tr>\n",
       "      <th>2</th>\n",
       "      <td>AVE</td>\n",
       "      <td>FLATBUSH</td>\n",
       "      <td>FLATBUSH 11225</td>\n",
       "      <td>AVENUE</td>\n",
       "      <td>FLATBUSH</td>\n",
       "    </tr>\n",
       "    <tr>\n",
       "      <th>5</th>\n",
       "      <td>ROAD</td>\n",
       "      <td>63</td>\n",
       "      <td>63 11374</td>\n",
       "      <td>DRIVE</td>\n",
       "      <td>63</td>\n",
       "    </tr>\n",
       "    <tr>\n",
       "      <th>6</th>\n",
       "      <td>DRIVE</td>\n",
       "      <td>63</td>\n",
       "      <td>63 11374</td>\n",
       "      <td>ROAD</td>\n",
       "      <td>63</td>\n",
       "    </tr>\n",
       "    <tr>\n",
       "      <th>12</th>\n",
       "      <td>AVENUE</td>\n",
       "      <td>CHURCH</td>\n",
       "      <td>CHURCH 11218</td>\n",
       "      <td>AVE</td>\n",
       "      <td>CHURCH</td>\n",
       "    </tr>\n",
       "    <tr>\n",
       "      <th>...</th>\n",
       "      <td>...</td>\n",
       "      <td>...</td>\n",
       "      <td>...</td>\n",
       "      <td>...</td>\n",
       "      <td>...</td>\n",
       "    </tr>\n",
       "    <tr>\n",
       "      <th>3375</th>\n",
       "      <td>AVENUE</td>\n",
       "      <td>PATCHEN</td>\n",
       "      <td>PATCHEN 11233</td>\n",
       "      <td>AVE</td>\n",
       "      <td>PATCHEN</td>\n",
       "    </tr>\n",
       "    <tr>\n",
       "      <th>3461</th>\n",
       "      <td>STREET</td>\n",
       "      <td>48</td>\n",
       "      <td>48 11101</td>\n",
       "      <td>AVENUE</td>\n",
       "      <td>48</td>\n",
       "    </tr>\n",
       "    <tr>\n",
       "      <th>3462</th>\n",
       "      <td>AVENUE</td>\n",
       "      <td>48</td>\n",
       "      <td>48 11101</td>\n",
       "      <td>STREET</td>\n",
       "      <td>48</td>\n",
       "    </tr>\n",
       "    <tr>\n",
       "      <th>3512</th>\n",
       "      <td>PARKWAY</td>\n",
       "      <td>HUTCHINSON RIVER</td>\n",
       "      <td>HUTCHINSON RIVER 10465</td>\n",
       "      <td>PKWY</td>\n",
       "      <td>HUTCHINSON RIVER</td>\n",
       "    </tr>\n",
       "    <tr>\n",
       "      <th>3513</th>\n",
       "      <td>PKWY</td>\n",
       "      <td>HUTCHINSON RIVER</td>\n",
       "      <td>HUTCHINSON RIVER 10465</td>\n",
       "      <td>PARKWAY</td>\n",
       "      <td>HUTCHINSON RIVER</td>\n",
       "    </tr>\n",
       "  </tbody>\n",
       "</table>\n",
       "<p>896 rows × 5 columns</p>\n",
       "</div>"
      ],
      "text/plain": [
       "     STREET TYPE_1     STREET BASE_1       STREET BASE & ZIP STREET TYPE_2  \\\n",
       "1           AVENUE          FLATBUSH          FLATBUSH 11225           AVE   \n",
       "2              AVE          FLATBUSH          FLATBUSH 11225        AVENUE   \n",
       "5             ROAD                63                63 11374         DRIVE   \n",
       "6            DRIVE                63                63 11374          ROAD   \n",
       "12          AVENUE            CHURCH            CHURCH 11218           AVE   \n",
       "...            ...               ...                     ...           ...   \n",
       "3375        AVENUE           PATCHEN           PATCHEN 11233           AVE   \n",
       "3461        STREET                48                48 11101        AVENUE   \n",
       "3462        AVENUE                48                48 11101        STREET   \n",
       "3512       PARKWAY  HUTCHINSON RIVER  HUTCHINSON RIVER 10465          PKWY   \n",
       "3513          PKWY  HUTCHINSON RIVER  HUTCHINSON RIVER 10465       PARKWAY   \n",
       "\n",
       "         STREET BASE_2  \n",
       "1             FLATBUSH  \n",
       "2             FLATBUSH  \n",
       "5                   63  \n",
       "6                   63  \n",
       "12              CHURCH  \n",
       "...                ...  \n",
       "3375           PATCHEN  \n",
       "3461                48  \n",
       "3462                48  \n",
       "3512  HUTCHINSON RIVER  \n",
       "3513  HUTCHINSON RIVER  \n",
       "\n",
       "[896 rows x 5 columns]"
      ]
     },
     "execution_count": 38,
     "metadata": {},
     "output_type": "execute_result"
    }
   ],
   "source": [
    "df_combine = df_common_street_type.merge(df_common_street_type,\n",
    "                                  left_on = 'STREET BASE & ZIP',\n",
    "                                  right_on = 'STREET BASE & ZIP',\n",
    "                                  suffixes= ['_1','_2'])\n",
    "df_combine = df_combine[df_combine['STREET TYPE_1']!=df_combine['STREET TYPE_2']]\n",
    "df_combine"
   ]
  },
  {
   "cell_type": "code",
   "execution_count": 39,
   "metadata": {},
   "outputs": [
    {
     "data": {
      "text/plain": [
       "STREET TYPE_2\n",
       "AVE         AVENUE\n",
       "ST          STREET\n",
       "RD            ROAD\n",
       "PL           PLACE\n",
       "BOULEARD      BLVD\n",
       "BULEVARD      BLVD\n",
       "dtype: object"
      ]
     },
     "execution_count": 39,
     "metadata": {},
     "output_type": "execute_result"
    }
   ],
   "source": [
    "match_street = pd.crosstab(df_combine['STREET TYPE_1'], df_combine['STREET TYPE_2'])\n",
    "\n",
    "match_street\n",
    "\n",
    "match_street.idxmax()[['AVE','ST','RD','PL','BOULEARD','BULEVARD']]"
   ]
  },
  {
   "cell_type": "markdown",
   "metadata": {},
   "source": [
    "# End #"
   ]
  },
  {
   "cell_type": "code",
   "execution_count": null,
   "metadata": {},
   "outputs": [],
   "source": []
  }
 ],
 "metadata": {
  "kernelspec": {
   "display_name": "Python 3",
   "language": "python",
   "name": "python3"
  },
  "language_info": {
   "codemirror_mode": {
    "name": "ipython",
    "version": 3
   },
   "file_extension": ".py",
   "mimetype": "text/x-python",
   "name": "python",
   "nbconvert_exporter": "python",
   "pygments_lexer": "ipython3",
   "version": "3.7.6"
  }
 },
 "nbformat": 4,
 "nbformat_minor": 4
}
